{
 "cells": [
  {
   "cell_type": "code",
   "execution_count": 1,
   "metadata": {
    "ExecuteTime": {
     "end_time": "2022-03-31T14:07:48.138772Z",
     "start_time": "2022-03-31T14:07:44.640779Z"
    }
   },
   "outputs": [],
   "source": [
    "from tqdm.notebook import trange, tqdm\n",
    "import os\n",
    "\n",
    "import numpy as np\n",
    "import pandas as pd\n",
    "import swifter\n",
    "\n",
    "import matplotlib.pyplot as plt\n",
    "import seaborn as sns\n",
    "import plotly.express as px\n",
    "import plotly.graph_objects as go\n",
    "\n",
    "os.chdir(\"..\")\n",
    "from src.utils import BETA_STR\n",
    "from src.config import Ns, betas"
   ]
  },
  {
   "cell_type": "code",
   "execution_count": 2,
   "metadata": {
    "ExecuteTime": {
     "end_time": "2022-03-31T14:07:48.154776Z",
     "start_time": "2022-03-31T14:07:48.141776Z"
    }
   },
   "outputs": [],
   "source": [
    "def ingest_noise_data(path):\n",
    "    df_list = []\n",
    "    files = os.listdir(path)\n",
    "    for i in range(len(files)):\n",
    "        noise = float(os.path.splitext(files[i])[0].split(\"=\")[1])\n",
    "        filename = os.path.join(path, files[i])\n",
    "        data = pd.read_csv(filename)\n",
    "        data = data.rename_axis(index=\"N\", columns=\"beta_ind\").melt(ignore_index=False, value_name=\"lambda\").reset_index()\n",
    "        data[\"beta_ind\"] = data[\"beta_ind\"].astype(np.int32)\n",
    "        data[\"noise\"] = noise\n",
    "        data[\"betas\"] = data[\"beta_ind\"].apply(lambda i: betas[i])\n",
    "        data[\"N\"] += 1 # N range is from 1 to 50 and not 0 to 49\n",
    "        df_list.append(data)\n",
    "    return pd.concat(df_list, ignore_index=True)"
   ]
  },
  {
   "cell_type": "code",
   "execution_count": 3,
   "metadata": {
    "ExecuteTime": {
     "end_time": "2022-03-31T14:07:48.440771Z",
     "start_time": "2022-03-31T14:07:48.164782Z"
    }
   },
   "outputs": [],
   "source": [
    "data = ingest_noise_data(\"data/ib_to_decay/\")"
   ]
  },
  {
   "cell_type": "code",
   "execution_count": 4,
   "metadata": {
    "ExecuteTime": {
     "end_time": "2022-03-31T14:07:48.456774Z",
     "start_time": "2022-03-31T14:07:48.443778Z"
    }
   },
   "outputs": [],
   "source": [
    "def plot_beta_vs_lambda_n_granularity(ns, noises):\n",
    "    \"\"\"\n",
    "    subplots of different noises. n is used as color\n",
    "    ns and noises are lists. It is recommended to use no more than 10 values in noises.\n",
    "    \"\"\"\n",
    "    df_to_plot = data.loc[\n",
    "        (data[\"noise\"].isin(noises)) &\n",
    "        (data[\"N\"].isin(ns))\n",
    "    ]\n",
    "    fig = px.line(df_to_plot, x=\"betas\", y=\"lambda\", color=\"N\", markers=True, \n",
    "            title=f\"Lambda Regularization vs {BETA_STR}\", labels = {\"betas\":BETA_STR},\n",
    "            facet_col=\"noise\", facet_col_wrap=2, height=1500, width=1500, facet_col_spacing=0.05)\n",
    "\n",
    "    fig.update_xaxes(showticklabels=True)\n",
    "    fig.update_yaxes(showticklabels=True)\n",
    "    fig.update_xaxes(matches=None)\n",
    "    fig.update_yaxes(matches=None)\n",
    "    \n",
    "    return fig"
   ]
  },
  {
   "cell_type": "code",
   "execution_count": 5,
   "metadata": {
    "ExecuteTime": {
     "end_time": "2022-03-31T14:07:50.013774Z",
     "start_time": "2022-03-31T14:07:48.459778Z"
    }
   },
   "outputs": [],
   "source": [
    "noises = [0.0,0.01,0.1,0.5,1.,1.5, 3.0, 5.0]\n",
    "ns = [1, 2, 3, 5 ,10, 20, 30, 40, 49]\n",
    "fig = plot_beta_vs_lambda_n_granularity(ns, noises)\n",
    "fig.write_html(\"plots/lambda_vs_beta_sublpots.html\")"
   ]
  },
  {
   "cell_type": "code",
   "execution_count": 6,
   "metadata": {
    "ExecuteTime": {
     "end_time": "2022-03-31T14:07:50.344776Z",
     "start_time": "2022-03-31T14:07:50.016777Z"
    }
   },
   "outputs": [],
   "source": [
    "def plot_beta_vs_lambda(data):\n",
    "    \"\"\"\n",
    "    n: int or None - multiple noises. List - multiple n's traces on same noise\n",
    "    noise: int. must be specified if n is List.\n",
    "    \n",
    "    \"\"\"\n",
    "    title = f\"Lambda Regularization vs {BETA_STR} (halflives are averaged)\"\n",
    "    df_to_plot = data.groupby([\"betas\", \"noise\"], as_index=False)[\"lambda\"].mean()\n",
    "    fig = px.line(df_to_plot, x=\"betas\", y=\"lambda\", color=\"noise\", markers=True, \n",
    "                  title=title,\n",
    "                 labels = {\"betas\":BETA_STR})\n",
    "\n",
    "    return fig\n",
    "\n",
    "fig = plot_beta_vs_lambda(data)\n",
    "fig.write_html(\"plots/lambda_vs_beta.html\")"
   ]
  }
 ],
 "metadata": {
  "kernelspec": {
   "display_name": "Python 3",
   "language": "python",
   "name": "python3"
  },
  "language_info": {
   "codemirror_mode": {
    "name": "ipython",
    "version": 3
   },
   "file_extension": ".py",
   "mimetype": "text/x-python",
   "name": "python",
   "nbconvert_exporter": "python",
   "pygments_lexer": "ipython3",
   "version": "3.8.5"
  },
  "toc": {
   "base_numbering": 1,
   "nav_menu": {},
   "number_sections": true,
   "sideBar": true,
   "skip_h1_title": false,
   "title_cell": "Table of Contents",
   "title_sidebar": "Contents",
   "toc_cell": false,
   "toc_position": {},
   "toc_section_display": true,
   "toc_window_display": false
  }
 },
 "nbformat": 4,
 "nbformat_minor": 4
}
