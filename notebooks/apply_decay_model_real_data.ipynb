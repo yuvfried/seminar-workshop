{
 "cells": [
  {
   "cell_type": "code",
   "execution_count": 1,
   "metadata": {
    "ExecuteTime": {
     "end_time": "2022-05-26T14:03:03.826549Z",
     "start_time": "2022-05-26T14:03:00.457554Z"
    }
   },
   "outputs": [],
   "source": [
    "from tqdm.notebook import trange, tqdm\n",
    "import os\n",
    "import json\n",
    "\n",
    "import numpy as np\n",
    "import pandas as pd\n",
    "import swifter\n",
    "from sklearn.model_selection import GridSearchCV\n",
    "from sklearn.linear_model import Ridge\n",
    "\n",
    "import matplotlib.pyplot as plt\n",
    "import seaborn as sns\n",
    "import plotly.express as px\n",
    "\n",
    "os.chdir(\"..\")"
   ]
  },
  {
   "cell_type": "code",
   "execution_count": 2,
   "metadata": {
    "ExecuteTime": {
     "end_time": "2022-05-26T14:03:03.890549Z",
     "start_time": "2022-05-26T14:03:03.829548Z"
    }
   },
   "outputs": [],
   "source": [
    "from src.utils import BETA_STR, LAMBDA_STR\n",
    "from src.config import Ns, betas, halflife_vals, regularization_vals\n",
    "from src.subjects_data import read_all, preprocess_data"
   ]
  },
  {
   "cell_type": "code",
   "execution_count": 3,
   "metadata": {
    "ExecuteTime": {
     "end_time": "2022-05-26T14:03:03.906548Z",
     "start_time": "2022-05-26T14:03:03.897552Z"
    }
   },
   "outputs": [],
   "source": [
    "subjects_order = [\n",
    "    'AT',\n",
    "    'CK',\n",
    "    'ES',\n",
    "    'EW',\n",
    "    'GG',\n",
    "    'HLA',\n",
    "    'IG',\n",
    "    'LV',\n",
    "    'MH',\n",
    "    'MN',\n",
    "    'MZ',\n",
    "    'RS',\n",
    "    'SG',\n",
    "    'SM',\n",
    "    'SN',\n",
    "    'YF',\n",
    "    'ZD'\n",
    "    ]"
   ]
  },
  {
   "cell_type": "code",
   "execution_count": 18,
   "metadata": {
    "ExecuteTime": {
     "end_time": "2022-05-26T14:08:49.701603Z",
     "start_time": "2022-05-26T14:08:49.695598Z"
    }
   },
   "outputs": [],
   "source": [
    "PATH = os.path.join(os.path.expanduser(\"~\"), \"proj_university\\seminar-bci\\subject_data\")"
   ]
  },
  {
   "cell_type": "code",
   "execution_count": 19,
   "metadata": {
    "ExecuteTime": {
     "end_time": "2022-05-26T14:08:51.264598Z",
     "start_time": "2022-05-26T14:08:51.066596Z"
    }
   },
   "outputs": [
    {
     "data": {
      "application/vnd.jupyter.widget-view+json": {
       "model_id": "1d1078ede3cb45008569b5d119439851",
       "version_major": 2,
       "version_minor": 0
      },
      "text/plain": [
       "  0%|          | 0/17 [00:00<?, ?it/s]"
      ]
     },
     "metadata": {},
     "output_type": "display_data"
    },
    {
     "name": "stdout",
     "output_type": "stream",
     "text": [
      "Exception in HLA:\n",
      "All arrays must be of the same length\n"
     ]
    }
   ],
   "source": [
    "data = read_all(PATH)\n",
    "data = preprocess_data(data)"
   ]
  },
  {
   "cell_type": "markdown",
   "metadata": {
    "ExecuteTime": {
     "end_time": "2022-04-28T12:40:25.869792Z",
     "start_time": "2022-04-28T12:40:25.860792Z"
    }
   },
   "source": [
    "# Features"
   ]
  },
  {
   "cell_type": "code",
   "execution_count": 6,
   "metadata": {
    "ExecuteTime": {
     "end_time": "2022-05-26T14:03:04.161561Z",
     "start_time": "2022-05-26T14:03:04.148553Z"
    }
   },
   "outputs": [],
   "source": [
    "from sklearn.linear_model import LinearRegression"
   ]
  },
  {
   "cell_type": "code",
   "execution_count": 7,
   "metadata": {
    "ExecuteTime": {
     "end_time": "2022-05-26T14:03:04.192548Z",
     "start_time": "2022-05-26T14:03:04.167547Z"
    }
   },
   "outputs": [],
   "source": [
    "from sklearn.metrics import r2_score"
   ]
  },
  {
   "cell_type": "code",
   "execution_count": 8,
   "metadata": {
    "ExecuteTime": {
     "end_time": "2022-05-26T14:03:04.208551Z",
     "start_time": "2022-05-26T14:03:04.198555Z"
    }
   },
   "outputs": [
    {
     "data": {
      "text/plain": [
       "2"
      ]
     },
     "execution_count": 8,
     "metadata": {},
     "output_type": "execute_result"
    }
   ],
   "source": [
    "np.argmin([6.6,1,-7,3])"
   ]
  },
  {
   "cell_type": "code",
   "execution_count": 9,
   "metadata": {
    "ExecuteTime": {
     "end_time": "2022-05-26T14:03:04.240547Z",
     "start_time": "2022-05-26T14:03:04.211550Z"
    }
   },
   "outputs": [],
   "source": [
    "def get_regression_features(block, ma_halflife):\n",
    "    ma_t_minus_one = block.ewm(\n",
    "        halflife=ma_halflife, adjust=False).mean().shift(1).dropna() # shift caused dropping a value\n",
    "    out_cols = {}\n",
    "    out_cols['x1'] = block * ma_t_minus_one\n",
    "    out_cols['x2'] = (1-block) * ma_t_minus_one\n",
    "    out_cols['x3'] = block\n",
    "    features = pd.DataFrame.from_dict(out_cols).dropna()\n",
    "    return features\n",
    "\n",
    "def fit_decay_to_signal(block, auc, halflife_vals=halflife_vals, regularization_vals=regularization_vals):\n",
    "    mse_heatmap = np.empty((len(halflife_vals), len(regularization_vals)))\n",
    "    y = auc.iloc[1:]   # we need t-1 for making explained variables\n",
    "    for i, h in enumerate(tqdm(halflife_vals, desc=\"halflife\", leave=False)):\n",
    "        features = get_regression_features(block, ma_halflife=h)\n",
    "        param_grid = {'alpha':regularization_vals}\n",
    "        cv_search = GridSearchCV(Ridge(random_state=123, solver='svd'), param_grid, cv=5, \n",
    "            scoring='neg_mean_squared_error', n_jobs=-1, verbose=False)\n",
    "        cv_search.fit(features, y)\n",
    "        mse_heatmap[i, :] = cv_search.cv_results_[\"mean_test_score\"]*-1    # sklearn implementation of scoring\n",
    "    return mse_heatmap\n",
    "\n",
    "def fit_only_h(block, auc, halflife_vals=halflife_vals):\n",
    "    scores = list()\n",
    "    y = auc.iloc[1:]   # we need t-1 for making explained variables\n",
    "    for i, h in enumerate(tqdm(halflife_vals, desc=\"halflife\", leave=False)):\n",
    "        features = get_regression_features(block, ma_halflife=h)\n",
    "        reg = LinearRegression()\n",
    "        reg.fit(features, y)\n",
    "        pred = reg.predict(features)\n",
    "        scores.append(r2_score(y, pred))\n",
    "    return halflife_vals[np.argmin(scores)]\n",
    "\n",
    "def fit_lambda_given_h(block, auc, h, regularization_vals=regularization_vals):\n",
    "    y = auc.iloc[1:]   # we need t-1 for making explained variables\n",
    "    features = get_regression_features(block, ma_halflife=h)\n",
    "    param_grid = {'alpha':regularization_vals}\n",
    "    cv_search = GridSearchCV(Ridge(random_state=123, solver='svd'), param_grid, cv=5, \n",
    "            scoring='neg_mean_squared_error', n_jobs=-1, verbose=False)\n",
    "    cv_search.fit(features, y)\n",
    "    return cv_search.best_params_[\"alpha\"]"
   ]
  },
  {
   "cell_type": "code",
   "execution_count": 10,
   "metadata": {
    "ExecuteTime": {
     "end_time": "2022-05-26T14:03:04.288550Z",
     "start_time": "2022-05-26T14:03:04.246550Z"
    }
   },
   "outputs": [
    {
     "data": {
      "text/html": [
       "<div>\n",
       "<style scoped>\n",
       "    .dataframe tbody tr th:only-of-type {\n",
       "        vertical-align: middle;\n",
       "    }\n",
       "\n",
       "    .dataframe tbody tr th {\n",
       "        vertical-align: top;\n",
       "    }\n",
       "\n",
       "    .dataframe thead th {\n",
       "        text-align: right;\n",
       "    }\n",
       "</style>\n",
       "<table border=\"1\" class=\"dataframe\">\n",
       "  <thead>\n",
       "    <tr style=\"text-align: right;\">\n",
       "      <th></th>\n",
       "      <th>block</th>\n",
       "      <th>prob</th>\n",
       "      <th>auc</th>\n",
       "      <th>name</th>\n",
       "      <th>trial</th>\n",
       "      <th>N</th>\n",
       "      <th>beta_ind</th>\n",
       "      <th>beta</th>\n",
       "      <th>normal_factor</th>\n",
       "      <th>auc_normal</th>\n",
       "    </tr>\n",
       "  </thead>\n",
       "  <tbody>\n",
       "    <tr>\n",
       "      <th>0</th>\n",
       "      <td>1.0</td>\n",
       "      <td>0.4</td>\n",
       "      <td>555.212952</td>\n",
       "      <td>AT</td>\n",
       "      <td>0</td>\n",
       "      <td>42</td>\n",
       "      <td>19</td>\n",
       "      <td>100.0</td>\n",
       "      <td>157.457016</td>\n",
       "      <td>3.526124</td>\n",
       "    </tr>\n",
       "    <tr>\n",
       "      <th>1</th>\n",
       "      <td>0.0</td>\n",
       "      <td>0.4</td>\n",
       "      <td>68.801247</td>\n",
       "      <td>AT</td>\n",
       "      <td>1</td>\n",
       "      <td>42</td>\n",
       "      <td>19</td>\n",
       "      <td>100.0</td>\n",
       "      <td>157.457016</td>\n",
       "      <td>0.436953</td>\n",
       "    </tr>\n",
       "    <tr>\n",
       "      <th>2</th>\n",
       "      <td>1.0</td>\n",
       "      <td>0.4</td>\n",
       "      <td>-13.266733</td>\n",
       "      <td>AT</td>\n",
       "      <td>2</td>\n",
       "      <td>42</td>\n",
       "      <td>19</td>\n",
       "      <td>100.0</td>\n",
       "      <td>157.457016</td>\n",
       "      <td>-0.084256</td>\n",
       "    </tr>\n",
       "    <tr>\n",
       "      <th>3</th>\n",
       "      <td>0.0</td>\n",
       "      <td>0.4</td>\n",
       "      <td>39.751682</td>\n",
       "      <td>AT</td>\n",
       "      <td>3</td>\n",
       "      <td>42</td>\n",
       "      <td>19</td>\n",
       "      <td>100.0</td>\n",
       "      <td>157.457016</td>\n",
       "      <td>0.252461</td>\n",
       "    </tr>\n",
       "    <tr>\n",
       "      <th>4</th>\n",
       "      <td>1.0</td>\n",
       "      <td>0.4</td>\n",
       "      <td>268.541901</td>\n",
       "      <td>AT</td>\n",
       "      <td>4</td>\n",
       "      <td>42</td>\n",
       "      <td>19</td>\n",
       "      <td>100.0</td>\n",
       "      <td>157.457016</td>\n",
       "      <td>1.705493</td>\n",
       "    </tr>\n",
       "    <tr>\n",
       "      <th>...</th>\n",
       "      <td>...</td>\n",
       "      <td>...</td>\n",
       "      <td>...</td>\n",
       "      <td>...</td>\n",
       "      <td>...</td>\n",
       "      <td>...</td>\n",
       "      <td>...</td>\n",
       "      <td>...</td>\n",
       "      <td>...</td>\n",
       "      <td>...</td>\n",
       "    </tr>\n",
       "    <tr>\n",
       "      <th>1195</th>\n",
       "      <td>0.0</td>\n",
       "      <td>0.2</td>\n",
       "      <td>52.913177</td>\n",
       "      <td>ZD</td>\n",
       "      <td>1195</td>\n",
       "      <td>16</td>\n",
       "      <td>19</td>\n",
       "      <td>100.0</td>\n",
       "      <td>299.316681</td>\n",
       "      <td>0.176780</td>\n",
       "    </tr>\n",
       "    <tr>\n",
       "      <th>1196</th>\n",
       "      <td>0.0</td>\n",
       "      <td>0.2</td>\n",
       "      <td>747.545715</td>\n",
       "      <td>ZD</td>\n",
       "      <td>1196</td>\n",
       "      <td>16</td>\n",
       "      <td>19</td>\n",
       "      <td>100.0</td>\n",
       "      <td>299.316681</td>\n",
       "      <td>2.497508</td>\n",
       "    </tr>\n",
       "    <tr>\n",
       "      <th>1197</th>\n",
       "      <td>0.0</td>\n",
       "      <td>0.2</td>\n",
       "      <td>-263.217987</td>\n",
       "      <td>ZD</td>\n",
       "      <td>1197</td>\n",
       "      <td>16</td>\n",
       "      <td>19</td>\n",
       "      <td>100.0</td>\n",
       "      <td>299.316681</td>\n",
       "      <td>-0.879396</td>\n",
       "    </tr>\n",
       "    <tr>\n",
       "      <th>1198</th>\n",
       "      <td>0.0</td>\n",
       "      <td>0.2</td>\n",
       "      <td>87.987183</td>\n",
       "      <td>ZD</td>\n",
       "      <td>1198</td>\n",
       "      <td>16</td>\n",
       "      <td>19</td>\n",
       "      <td>100.0</td>\n",
       "      <td>299.316681</td>\n",
       "      <td>0.293960</td>\n",
       "    </tr>\n",
       "    <tr>\n",
       "      <th>1199</th>\n",
       "      <td>0.0</td>\n",
       "      <td>0.2</td>\n",
       "      <td>331.691711</td>\n",
       "      <td>ZD</td>\n",
       "      <td>1199</td>\n",
       "      <td>16</td>\n",
       "      <td>19</td>\n",
       "      <td>100.0</td>\n",
       "      <td>299.316681</td>\n",
       "      <td>1.108163</td>\n",
       "    </tr>\n",
       "  </tbody>\n",
       "</table>\n",
       "<p>19200 rows × 10 columns</p>\n",
       "</div>"
      ],
      "text/plain": [
       "      block  prob         auc name  trial   N  beta_ind   beta  normal_factor  \\\n",
       "0       1.0   0.4  555.212952   AT      0  42        19  100.0     157.457016   \n",
       "1       0.0   0.4   68.801247   AT      1  42        19  100.0     157.457016   \n",
       "2       1.0   0.4  -13.266733   AT      2  42        19  100.0     157.457016   \n",
       "3       0.0   0.4   39.751682   AT      3  42        19  100.0     157.457016   \n",
       "4       1.0   0.4  268.541901   AT      4  42        19  100.0     157.457016   \n",
       "...     ...   ...         ...  ...    ...  ..       ...    ...            ...   \n",
       "1195    0.0   0.2   52.913177   ZD   1195  16        19  100.0     299.316681   \n",
       "1196    0.0   0.2  747.545715   ZD   1196  16        19  100.0     299.316681   \n",
       "1197    0.0   0.2 -263.217987   ZD   1197  16        19  100.0     299.316681   \n",
       "1198    0.0   0.2   87.987183   ZD   1198  16        19  100.0     299.316681   \n",
       "1199    0.0   0.2  331.691711   ZD   1199  16        19  100.0     299.316681   \n",
       "\n",
       "      auc_normal  \n",
       "0       3.526124  \n",
       "1       0.436953  \n",
       "2      -0.084256  \n",
       "3       0.252461  \n",
       "4       1.705493  \n",
       "...          ...  \n",
       "1195    0.176780  \n",
       "1196    2.497508  \n",
       "1197   -0.879396  \n",
       "1198    0.293960  \n",
       "1199    1.108163  \n",
       "\n",
       "[19200 rows x 10 columns]"
      ]
     },
     "execution_count": 10,
     "metadata": {},
     "output_type": "execute_result"
    }
   ],
   "source": [
    "data"
   ]
  },
  {
   "cell_type": "code",
   "execution_count": 11,
   "metadata": {
    "ExecuteTime": {
     "end_time": "2022-05-26T14:06:03.573599Z",
     "start_time": "2022-05-26T14:03:04.294549Z"
    }
   },
   "outputs": [
    {
     "data": {
      "application/vnd.jupyter.widget-view+json": {
       "model_id": "b27d78bdc7a447b482463bcc0b738689",
       "version_major": 2,
       "version_minor": 0
      },
      "text/plain": [
       "  0%|          | 0/16 [00:00<?, ?it/s]"
      ]
     },
     "metadata": {},
     "output_type": "display_data"
    },
    {
     "data": {
      "application/vnd.jupyter.widget-view+json": {
       "model_id": "",
       "version_major": 2,
       "version_minor": 0
      },
      "text/plain": [
       "halflife:   0%|          | 0/50 [00:00<?, ?it/s]"
      ]
     },
     "metadata": {},
     "output_type": "display_data"
    },
    {
     "data": {
      "application/vnd.jupyter.widget-view+json": {
       "model_id": "987e4862a3d146bd821118b5dfb80320",
       "version_major": 2,
       "version_minor": 0
      },
      "text/plain": [
       "halflife:   0%|          | 0/50 [00:00<?, ?it/s]"
      ]
     },
     "metadata": {},
     "output_type": "display_data"
    },
    {
     "name": "stdout",
     "output_type": "stream",
     "text": [
      "CK: Input contains NaN, infinity or a value too large for dtype('float64').\n"
     ]
    },
    {
     "name": "stderr",
     "output_type": "stream",
     "text": [
      "c:\\users\\yuvfr\\appdata\\local\\programs\\python\\python38\\lib\\site-packages\\sklearn\\model_selection\\_search.py:922: UserWarning: One or more of the test scores are non-finite: [nan nan nan nan nan nan nan nan nan nan nan nan nan nan nan nan nan nan\n",
      " nan nan]\n",
      "  warnings.warn(\n"
     ]
    },
    {
     "data": {
      "application/vnd.jupyter.widget-view+json": {
       "model_id": "",
       "version_major": 2,
       "version_minor": 0
      },
      "text/plain": [
       "halflife:   0%|          | 0/50 [00:00<?, ?it/s]"
      ]
     },
     "metadata": {},
     "output_type": "display_data"
    },
    {
     "data": {
      "application/vnd.jupyter.widget-view+json": {
       "model_id": "",
       "version_major": 2,
       "version_minor": 0
      },
      "text/plain": [
       "halflife:   0%|          | 0/50 [00:00<?, ?it/s]"
      ]
     },
     "metadata": {},
     "output_type": "display_data"
    },
    {
     "data": {
      "application/vnd.jupyter.widget-view+json": {
       "model_id": "cfe2709b3b2948e18f44c74a6071bdd3",
       "version_major": 2,
       "version_minor": 0
      },
      "text/plain": [
       "halflife:   0%|          | 0/50 [00:00<?, ?it/s]"
      ]
     },
     "metadata": {},
     "output_type": "display_data"
    },
    {
     "name": "stdout",
     "output_type": "stream",
     "text": [
      "GG: Input contains NaN, infinity or a value too large for dtype('float64').\n"
     ]
    },
    {
     "name": "stderr",
     "output_type": "stream",
     "text": [
      "c:\\users\\yuvfr\\appdata\\local\\programs\\python\\python38\\lib\\site-packages\\sklearn\\model_selection\\_search.py:922: UserWarning: One or more of the test scores are non-finite: [nan nan nan nan nan nan nan nan nan nan nan nan nan nan nan nan nan nan\n",
      " nan nan]\n",
      "  warnings.warn(\n"
     ]
    },
    {
     "data": {
      "application/vnd.jupyter.widget-view+json": {
       "model_id": "",
       "version_major": 2,
       "version_minor": 0
      },
      "text/plain": [
       "halflife:   0%|          | 0/50 [00:00<?, ?it/s]"
      ]
     },
     "metadata": {},
     "output_type": "display_data"
    },
    {
     "data": {
      "application/vnd.jupyter.widget-view+json": {
       "model_id": "",
       "version_major": 2,
       "version_minor": 0
      },
      "text/plain": [
       "halflife:   0%|          | 0/50 [00:00<?, ?it/s]"
      ]
     },
     "metadata": {},
     "output_type": "display_data"
    },
    {
     "data": {
      "application/vnd.jupyter.widget-view+json": {
       "model_id": "",
       "version_major": 2,
       "version_minor": 0
      },
      "text/plain": [
       "halflife:   0%|          | 0/50 [00:00<?, ?it/s]"
      ]
     },
     "metadata": {},
     "output_type": "display_data"
    },
    {
     "data": {
      "application/vnd.jupyter.widget-view+json": {
       "model_id": "",
       "version_major": 2,
       "version_minor": 0
      },
      "text/plain": [
       "halflife:   0%|          | 0/50 [00:00<?, ?it/s]"
      ]
     },
     "metadata": {},
     "output_type": "display_data"
    },
    {
     "data": {
      "application/vnd.jupyter.widget-view+json": {
       "model_id": "8e6a325ac50447ec8f2aa5b11d7b8cb5",
       "version_major": 2,
       "version_minor": 0
      },
      "text/plain": [
       "halflife:   0%|          | 0/50 [00:00<?, ?it/s]"
      ]
     },
     "metadata": {},
     "output_type": "display_data"
    },
    {
     "name": "stdout",
     "output_type": "stream",
     "text": [
      "MZ: Input contains NaN, infinity or a value too large for dtype('float64').\n"
     ]
    },
    {
     "name": "stderr",
     "output_type": "stream",
     "text": [
      "c:\\users\\yuvfr\\appdata\\local\\programs\\python\\python38\\lib\\site-packages\\sklearn\\model_selection\\_search.py:922: UserWarning: One or more of the test scores are non-finite: [nan nan nan nan nan nan nan nan nan nan nan nan nan nan nan nan nan nan\n",
      " nan nan]\n",
      "  warnings.warn(\n"
     ]
    },
    {
     "data": {
      "application/vnd.jupyter.widget-view+json": {
       "model_id": "",
       "version_major": 2,
       "version_minor": 0
      },
      "text/plain": [
       "halflife:   0%|          | 0/50 [00:00<?, ?it/s]"
      ]
     },
     "metadata": {},
     "output_type": "display_data"
    },
    {
     "data": {
      "application/vnd.jupyter.widget-view+json": {
       "model_id": "",
       "version_major": 2,
       "version_minor": 0
      },
      "text/plain": [
       "halflife:   0%|          | 0/50 [00:00<?, ?it/s]"
      ]
     },
     "metadata": {},
     "output_type": "display_data"
    },
    {
     "data": {
      "application/vnd.jupyter.widget-view+json": {
       "model_id": "",
       "version_major": 2,
       "version_minor": 0
      },
      "text/plain": [
       "halflife:   0%|          | 0/50 [00:00<?, ?it/s]"
      ]
     },
     "metadata": {},
     "output_type": "display_data"
    },
    {
     "data": {
      "application/vnd.jupyter.widget-view+json": {
       "model_id": "",
       "version_major": 2,
       "version_minor": 0
      },
      "text/plain": [
       "halflife:   0%|          | 0/50 [00:00<?, ?it/s]"
      ]
     },
     "metadata": {},
     "output_type": "display_data"
    },
    {
     "data": {
      "application/vnd.jupyter.widget-view+json": {
       "model_id": "",
       "version_major": 2,
       "version_minor": 0
      },
      "text/plain": [
       "halflife:   0%|          | 0/50 [00:00<?, ?it/s]"
      ]
     },
     "metadata": {},
     "output_type": "display_data"
    },
    {
     "data": {
      "application/vnd.jupyter.widget-view+json": {
       "model_id": "85fe43aca4aa41898281decd5db44538",
       "version_major": 2,
       "version_minor": 0
      },
      "text/plain": [
       "halflife:   0%|          | 0/50 [00:00<?, ?it/s]"
      ]
     },
     "metadata": {},
     "output_type": "display_data"
    },
    {
     "name": "stdout",
     "output_type": "stream",
     "text": [
      "ZD: Input contains NaN, infinity or a value too large for dtype('float64').\n"
     ]
    },
    {
     "name": "stderr",
     "output_type": "stream",
     "text": [
      "c:\\users\\yuvfr\\appdata\\local\\programs\\python\\python38\\lib\\site-packages\\sklearn\\model_selection\\_search.py:922: UserWarning: One or more of the test scores are non-finite: [nan nan nan nan nan nan nan nan nan nan nan nan nan nan nan nan nan nan\n",
      " nan nan]\n",
      "  warnings.warn(\n"
     ]
    }
   ],
   "source": [
    "d_maps = dict()\n",
    "for name in tqdm(data[\"name\"].unique()):\n",
    "    block = data.loc[data[\"name\"]==name, \"block\"]\n",
    "    auc_normal = data.loc[data[\"name\"]==name, \"auc_normal\"]\n",
    "    try:\n",
    "        d_maps[name] = fit_decay_to_signal(block, auc_normal)\n",
    "    except ValueError as e:\n",
    "        print(f\"{name}: {str(e)}\")"
   ]
  },
  {
   "cell_type": "code",
   "execution_count": 12,
   "metadata": {
    "ExecuteTime": {
     "end_time": "2022-05-26T14:06:30.801593Z",
     "start_time": "2022-05-26T14:06:03.576597Z"
    }
   },
   "outputs": [
    {
     "data": {
      "image/png": "[encoded data removed]",
      "text/plain": [
       "<Figure size 1152x1800 with 30 Axes>"
      ]
     },
     "metadata": {
      "needs_background": "light"
     },
     "output_type": "display_data"
    }
   ],
   "source": [
    "fig, axs = plt.subplots(6, 3, figsize=(16,25))\n",
    "# plt.subplots_adjust()\n",
    "\n",
    "for i, name in enumerate(subjects_order): # for subjects to appear in a known order\n",
    "    mse_heatmap = d_maps.get(name)\n",
    "    \n",
    "    # plot\n",
    "    ax = axs[i // 3, i % 3]\n",
    "    if mse_heatmap is None: # subject doesn't have decay model\n",
    "        ax.plot()\n",
    "    else:\n",
    "        sns.heatmap(\n",
    "            pd.DataFrame(\n",
    "                mse_heatmap[::-1], index=np.arange(len(mse_heatmap))[::-1], columns=[f\"{l:.2f}\" for l in regularization_vals]\n",
    "            ).rename_axis(index=\"h\", columns=LAMBDA_STR), \n",
    "            cmap=\"viridis\", ax=ax)\n",
    "        \n",
    "        # plot best    \n",
    "        best_h_idx, best_lambda_idx = np.where(mse_heatmap == mse_heatmap.min())\n",
    "        ax.scatter(best_lambda_idx, 50-best_h_idx, c=\"r\", marker=\"*\")\n",
    "\n",
    "    \n",
    "    # mention N and beta\n",
    "    try:\n",
    "        N = data.loc[data[\"name\"]==name, \"N\"][0]\n",
    "        beta = data.loc[data[\"name\"]==name, \"beta\"][0]\n",
    "        title = f'{name}: N={N}, {BETA_STR}={beta:.2f}'\n",
    "    except KeyError:\n",
    "        title = name\n",
    "    ax.set_title(title)\n",
    "\n",
    "fig.tight_layout()\n",
    "plt.show()"
   ]
  },
  {
   "cell_type": "markdown",
   "metadata": {},
   "source": [
    "Compare two different approaches of fitting h and lambda:\n",
    "1. fit regression for every combination (after block splitting), and than find the combination that minimizes RMSE.\n",
    "2. fit regression for every halflife on whole block, find the optimal one by r2 score, than split block and find optimal lambda for that halflife (lambda that minimizes RMSE)."
   ]
  },
  {
   "cell_type": "code",
   "execution_count": 13,
   "metadata": {
    "ExecuteTime": {
     "end_time": "2022-05-26T14:06:39.258595Z",
     "start_time": "2022-05-26T14:06:30.804597Z"
    }
   },
   "outputs": [
    {
     "data": {
      "application/vnd.jupyter.widget-view+json": {
       "model_id": "e858bd9db246497faec295ef1b03e82f",
       "version_major": 2,
       "version_minor": 0
      },
      "text/plain": [
       "  0%|          | 0/16 [00:00<?, ?it/s]"
      ]
     },
     "metadata": {},
     "output_type": "display_data"
    },
    {
     "data": {
      "application/vnd.jupyter.widget-view+json": {
       "model_id": "",
       "version_major": 2,
       "version_minor": 0
      },
      "text/plain": [
       "halflife:   0%|          | 0/50 [00:00<?, ?it/s]"
      ]
     },
     "metadata": {},
     "output_type": "display_data"
    },
    {
     "name": "stdout",
     "output_type": "stream",
     "text": [
      "CK: 'CK'\n"
     ]
    },
    {
     "data": {
      "application/vnd.jupyter.widget-view+json": {
       "model_id": "",
       "version_major": 2,
       "version_minor": 0
      },
      "text/plain": [
       "halflife:   0%|          | 0/50 [00:00<?, ?it/s]"
      ]
     },
     "metadata": {},
     "output_type": "display_data"
    },
    {
     "data": {
      "application/vnd.jupyter.widget-view+json": {
       "model_id": "",
       "version_major": 2,
       "version_minor": 0
      },
      "text/plain": [
       "halflife:   0%|          | 0/50 [00:00<?, ?it/s]"
      ]
     },
     "metadata": {},
     "output_type": "display_data"
    },
    {
     "name": "stdout",
     "output_type": "stream",
     "text": [
      "GG: 'GG'\n"
     ]
    },
    {
     "data": {
      "application/vnd.jupyter.widget-view+json": {
       "model_id": "",
       "version_major": 2,
       "version_minor": 0
      },
      "text/plain": [
       "halflife:   0%|          | 0/50 [00:00<?, ?it/s]"
      ]
     },
     "metadata": {},
     "output_type": "display_data"
    },
    {
     "data": {
      "application/vnd.jupyter.widget-view+json": {
       "model_id": "",
       "version_major": 2,
       "version_minor": 0
      },
      "text/plain": [
       "halflife:   0%|          | 0/50 [00:00<?, ?it/s]"
      ]
     },
     "metadata": {},
     "output_type": "display_data"
    },
    {
     "data": {
      "application/vnd.jupyter.widget-view+json": {
       "model_id": "",
       "version_major": 2,
       "version_minor": 0
      },
      "text/plain": [
       "halflife:   0%|          | 0/50 [00:00<?, ?it/s]"
      ]
     },
     "metadata": {},
     "output_type": "display_data"
    },
    {
     "data": {
      "application/vnd.jupyter.widget-view+json": {
       "model_id": "",
       "version_major": 2,
       "version_minor": 0
      },
      "text/plain": [
       "halflife:   0%|          | 0/50 [00:00<?, ?it/s]"
      ]
     },
     "metadata": {},
     "output_type": "display_data"
    },
    {
     "name": "stdout",
     "output_type": "stream",
     "text": [
      "MZ: 'MZ'\n"
     ]
    },
    {
     "data": {
      "application/vnd.jupyter.widget-view+json": {
       "model_id": "",
       "version_major": 2,
       "version_minor": 0
      },
      "text/plain": [
       "halflife:   0%|          | 0/50 [00:00<?, ?it/s]"
      ]
     },
     "metadata": {},
     "output_type": "display_data"
    },
    {
     "data": {
      "application/vnd.jupyter.widget-view+json": {
       "model_id": "",
       "version_major": 2,
       "version_minor": 0
      },
      "text/plain": [
       "halflife:   0%|          | 0/50 [00:00<?, ?it/s]"
      ]
     },
     "metadata": {},
     "output_type": "display_data"
    },
    {
     "data": {
      "application/vnd.jupyter.widget-view+json": {
       "model_id": "",
       "version_major": 2,
       "version_minor": 0
      },
      "text/plain": [
       "halflife:   0%|          | 0/50 [00:00<?, ?it/s]"
      ]
     },
     "metadata": {},
     "output_type": "display_data"
    },
    {
     "data": {
      "application/vnd.jupyter.widget-view+json": {
       "model_id": "",
       "version_major": 2,
       "version_minor": 0
      },
      "text/plain": [
       "halflife:   0%|          | 0/50 [00:00<?, ?it/s]"
      ]
     },
     "metadata": {},
     "output_type": "display_data"
    },
    {
     "data": {
      "application/vnd.jupyter.widget-view+json": {
       "model_id": "",
       "version_major": 2,
       "version_minor": 0
      },
      "text/plain": [
       "halflife:   0%|          | 0/50 [00:00<?, ?it/s]"
      ]
     },
     "metadata": {},
     "output_type": "display_data"
    },
    {
     "name": "stdout",
     "output_type": "stream",
     "text": [
      "ZD: 'ZD'\n"
     ]
    }
   ],
   "source": [
    "d_comparison = dict()\n",
    "for name in tqdm(data[\"name\"].unique()):\n",
    "    block = data.loc[data[\"name\"]==name, \"block\"]\n",
    "    auc_normal = data.loc[data[\"name\"]==name, \"auc_normal\"]\n",
    "    try:\n",
    "        mse_heatmap = d_maps[name]\n",
    "        best_h_idx, best_lambda_idx = np.where(mse_heatmap == mse_heatmap.min())\n",
    "        best_h_decay_model = int(halflife_vals[best_h_idx].item())\n",
    "        best_l_decay_model = regularization_vals[best_lambda_idx].item()\n",
    "        best_h_without_lambda = int(fit_only_h(block, auc_normal))\n",
    "        best_lambda_based_comparison = fit_lambda_given_h(block, auc_normal, \n",
    "                                                 h=best_h_without_lambda, regularization_vals=regularization_vals)\n",
    "        d_comparison[name] = {\"combination\": {\"h\": best_h_decay_model, \"lambda\": best_l_decay_model}, \n",
    "                     \"separately\": {\"h\": best_h_without_lambda, \"lambda\" :best_lambda_based_comparison}}\n",
    "    except (ValueError, KeyError) as e:\n",
    "        print(f\"{name}: {str(e)}\")"
   ]
  },
  {
   "cell_type": "code",
   "execution_count": 14,
   "metadata": {
    "ExecuteTime": {
     "end_time": "2022-05-26T14:06:39.274595Z",
     "start_time": "2022-05-26T14:06:39.261596Z"
    }
   },
   "outputs": [
    {
     "name": "stdout",
     "output_type": "stream",
     "text": [
      "{\n",
      "  \"AT\": {\n",
      "    \"combination\": {\n",
      "      \"h\": 1,\n",
      "      \"lambda\": 2.0\n",
      "    },\n",
      "    \"separately\": {\n",
      "      \"h\": 15,\n",
      "      \"lambda\": 2.0\n",
      "    }\n",
      "  },\n",
      "  \"ES\": {\n",
      "    \"combination\": {\n",
      "      \"h\": 2,\n",
      "      \"lambda\": 0.0\n",
      "    },\n",
      "    \"separately\": {\n",
      "      \"h\": 28,\n",
      "      \"lambda\": 2.0\n",
      "    }\n",
      "  },\n",
      "  \"EW\": {\n",
      "    \"combination\": {\n",
      "      \"h\": 50,\n",
      "      \"lambda\": 0.7368421052631579\n",
      "    },\n",
      "    \"separately\": {\n",
      "      \"h\": 7,\n",
      "      \"lambda\": 0.5263157894736842\n",
      "    }\n",
      "  },\n",
      "  \"IG\": {\n",
      "    \"combination\": {\n",
      "      \"h\": 1,\n",
      "      \"lambda\": 1.789473684210526\n",
      "    },\n",
      "    \"separately\": {\n",
      "      \"h\": 34,\n",
      "      \"lambda\": 0.42105263157894735\n",
      "    }\n",
      "  },\n",
      "  \"LV\": {\n",
      "    \"combination\": {\n",
      "      \"h\": 1,\n",
      "      \"lambda\": 0.8421052631578947\n",
      "    },\n",
      "    \"separately\": {\n",
      "      \"h\": 50,\n",
      "      \"lambda\": 1.4736842105263157\n",
      "    }\n",
      "  },\n",
      "  \"MH\": {\n",
      "    \"combination\": {\n",
      "      \"h\": 5,\n",
      "      \"lambda\": 1.894736842105263\n",
      "    },\n",
      "    \"separately\": {\n",
      "      \"h\": 50,\n",
      "      \"lambda\": 2.0\n",
      "    }\n",
      "  },\n",
      "  \"MN\": {\n",
      "    \"combination\": {\n",
      "      \"h\": 1,\n",
      "      \"lambda\": 0.0\n",
      "    },\n",
      "    \"separately\": {\n",
      "      \"h\": 50,\n",
      "      \"lambda\": 1.789473684210526\n",
      "    }\n",
      "  },\n",
      "  \"RS\": {\n",
      "    \"combination\": {\n",
      "      \"h\": 9,\n",
      "      \"lambda\": 2.0\n",
      "    },\n",
      "    \"separately\": {\n",
      "      \"h\": 1,\n",
      "      \"lambda\": 2.0\n",
      "    }\n",
      "  },\n",
      "  \"SG\": {\n",
      "    \"combination\": {\n",
      "      \"h\": 16,\n",
      "      \"lambda\": 0.0\n",
      "    },\n",
      "    \"separately\": {\n",
      "      \"h\": 1,\n",
      "      \"lambda\": 0.0\n",
      "    }\n",
      "  },\n",
      "  \"SM\": {\n",
      "    \"combination\": {\n",
      "      \"h\": 2,\n",
      "      \"lambda\": 1.1578947368421053\n",
      "    },\n",
      "    \"separately\": {\n",
      "      \"h\": 50,\n",
      "      \"lambda\": 2.0\n",
      "    }\n",
      "  },\n",
      "  \"SN\": {\n",
      "    \"combination\": {\n",
      "      \"h\": 1,\n",
      "      \"lambda\": 2.0\n",
      "    },\n",
      "    \"separately\": {\n",
      "      \"h\": 50,\n",
      "      \"lambda\": 2.0\n",
      "    }\n",
      "  },\n",
      "  \"YF\": {\n",
      "    \"combination\": {\n",
      "      \"h\": 50,\n",
      "      \"lambda\": 2.0\n",
      "    },\n",
      "    \"separately\": {\n",
      "      \"h\": 4,\n",
      "      \"lambda\": 2.0\n",
      "    }\n",
      "  }\n",
      "}\n"
     ]
    }
   ],
   "source": [
    "\n",
    "\n",
    "print(json.dumps(d_comparison, indent=2))"
   ]
  },
  {
   "cell_type": "code",
   "execution_count": null,
   "metadata": {},
   "outputs": [],
   "source": []
  },
  {
   "cell_type": "code",
   "execution_count": null,
   "metadata": {},
   "outputs": [],
   "source": []
  }
 ],
 "metadata": {
  "kernelspec": {
   "display_name": "Python 3",
   "language": "python",
   "name": "python3"
  },
  "language_info": {
   "codemirror_mode": {
    "name": "ipython",
    "version": 3
   },
   "file_extension": ".py",
   "mimetype": "text/x-python",
   "name": "python",
   "nbconvert_exporter": "python",
   "pygments_lexer": "ipython3",
   "version": "3.8.5"
  },
  "toc": {
   "base_numbering": 1,
   "nav_menu": {},
   "number_sections": true,
   "sideBar": true,
   "skip_h1_title": false,
   "title_cell": "Table of Contents",
   "title_sidebar": "Contents",
   "toc_cell": false,
   "toc_position": {},
   "toc_section_display": true,
   "toc_window_display": false
  }
 },
 "nbformat": 4,
 "nbformat_minor": 4
}
