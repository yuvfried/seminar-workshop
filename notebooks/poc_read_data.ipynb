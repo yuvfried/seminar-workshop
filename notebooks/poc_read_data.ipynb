{
 "cells": [
  {
   "cell_type": "code",
   "execution_count": 1,
   "metadata": {
    "ExecuteTime": {
     "end_time": "2022-04-07T10:10:43.371621Z",
     "start_time": "2022-04-07T10:10:43.365618Z"
    }
   },
   "outputs": [],
   "source": [
    "# TODO Load at matlab\n",
    "# problem of shapes with HLA"
   ]
  },
  {
   "cell_type": "code",
   "execution_count": 1,
   "metadata": {
    "ExecuteTime": {
     "end_time": "2022-04-07T12:12:15.330823Z",
     "start_time": "2022-04-07T12:12:14.664826Z"
    }
   },
   "outputs": [],
   "source": [
    "import scipy.io\n",
    "import pandas as pd\n",
    "import os\n",
    "import numpy as np\n",
    "\n",
    "PATH = r'C:\\Users\\yuvfr\\proj_university\\seminar-bci\\p300feature3subjects'"
   ]
  },
  {
   "cell_type": "code",
   "execution_count": 2,
   "metadata": {
    "ExecuteTime": {
     "end_time": "2022-04-05T13:47:16.150247Z",
     "start_time": "2022-04-05T13:47:16.046249Z"
    }
   },
   "outputs": [],
   "source": [
    "files = os.listdir(PATH)\n",
    "d_mat = dict()\n",
    "for f in files:\n",
    "    d_mat[f] = scipy.io.loadmat(os.path.join(PATH, f), struct_as_record=False, squeeze_me=True)"
   ]
  },
  {
   "cell_type": "code",
   "execution_count": 3,
   "metadata": {
    "ExecuteTime": {
     "end_time": "2022-04-05T13:47:16.661252Z",
     "start_time": "2022-04-05T13:47:16.644257Z"
    }
   },
   "outputs": [
    {
     "data": {
      "text/plain": [
       "dict_keys(['AUCvsProb_CK.mat', 'AUCvsProb_HLA.mat', 'AUCvsProb_LV.mat', 'stimSeq_CK_2_19-Jul-2016.mat', 'stimSeq_HLA_010715_all.mat', 'stimSeq_LV_1_19-Jul-2016.mat'])"
      ]
     },
     "execution_count": 3,
     "metadata": {},
     "output_type": "execute_result"
    }
   ],
   "source": [
    "d_mat.keys()"
   ]
  },
  {
   "cell_type": "code",
   "execution_count": 4,
   "metadata": {
    "ExecuteTime": {
     "end_time": "2022-04-05T13:47:18.941203Z",
     "start_time": "2022-04-05T13:47:18.923205Z"
    }
   },
   "outputs": [
    {
     "data": {
      "text/plain": [
       "{'_fieldnames': ['seq', 'seq1', 'seq2', 'q1', 'q2', 'nPast'],\n",
       " 'seq': array([4., 4., 4., ..., 2., 4., 2.], dtype=float32),\n",
       " 'seq1': array([1., 1., 1., ..., 0., 1., 0.], dtype=float32),\n",
       " 'seq2': array([1., 1., 1., ..., 1., 1., 1.], dtype=float32),\n",
       " 'q1': array([0.4, 0.1, 0.3, 0.2, 0.5]),\n",
       " 'q2': 0.2,\n",
       " 'nPast': 7,\n",
       " '__header__': b'MATLAB 5.0 MAT-file, Platform: PCWIN64, Created on: Thu Nov 01 15:27:19 2018',\n",
       " '__version__': '1.0',\n",
       " '__globals__': [],\n",
       " 'AUCperTrial': array([ 256.04462 ,   49.928734,  199.27487 , ..., -211.28773 ,\n",
       "        -366.43512 , -222.10251 ], dtype=float32),\n",
       " 'probPerTrial': array([0.4, 0.4, 0.4, ..., 0.5, 0.5, 0.5])}"
      ]
     },
     "execution_count": 4,
     "metadata": {},
     "output_type": "execute_result"
    }
   ],
   "source": [
    "lv = vars(d_mat['stimSeq_LV_1_19-Jul-2016.mat']['sequenceData'])\n",
    "lv.update(d_mat['AUCvsProb_LV.mat'])\n",
    "lv"
   ]
  },
  {
   "cell_type": "code",
   "execution_count": 5,
   "metadata": {
    "ExecuteTime": {
     "end_time": "2022-04-05T13:47:21.741058Z",
     "start_time": "2022-04-05T13:47:21.734059Z"
    }
   },
   "outputs": [
    {
     "data": {
      "text/plain": [
       "(1200,)"
      ]
     },
     "execution_count": 5,
     "metadata": {},
     "output_type": "execute_result"
    }
   ],
   "source": [
    "lv['seq1'].shape"
   ]
  },
  {
   "cell_type": "code",
   "execution_count": 6,
   "metadata": {
    "ExecuteTime": {
     "end_time": "2022-04-05T13:47:23.447169Z",
     "start_time": "2022-04-05T13:47:23.392156Z"
    }
   },
   "outputs": [
    {
     "data": {
      "text/html": [
       "<div>\n",
       "<style scoped>\n",
       "    .dataframe tbody tr th:only-of-type {\n",
       "        vertical-align: middle;\n",
       "    }\n",
       "\n",
       "    .dataframe tbody tr th {\n",
       "        vertical-align: top;\n",
       "    }\n",
       "\n",
       "    .dataframe thead th {\n",
       "        text-align: right;\n",
       "    }\n",
       "</style>\n",
       "<table border=\"1\" class=\"dataframe\">\n",
       "  <thead>\n",
       "    <tr style=\"text-align: right;\">\n",
       "      <th></th>\n",
       "      <th>block</th>\n",
       "      <th>prob</th>\n",
       "      <th>auc</th>\n",
       "      <th>name</th>\n",
       "      <th>trial</th>\n",
       "    </tr>\n",
       "  </thead>\n",
       "  <tbody>\n",
       "    <tr>\n",
       "      <th>0</th>\n",
       "      <td>1.0</td>\n",
       "      <td>0.4</td>\n",
       "      <td>256.044617</td>\n",
       "      <td>LV</td>\n",
       "      <td>0</td>\n",
       "    </tr>\n",
       "    <tr>\n",
       "      <th>1</th>\n",
       "      <td>1.0</td>\n",
       "      <td>0.4</td>\n",
       "      <td>49.928734</td>\n",
       "      <td>LV</td>\n",
       "      <td>1</td>\n",
       "    </tr>\n",
       "    <tr>\n",
       "      <th>2</th>\n",
       "      <td>1.0</td>\n",
       "      <td>0.4</td>\n",
       "      <td>199.274872</td>\n",
       "      <td>LV</td>\n",
       "      <td>2</td>\n",
       "    </tr>\n",
       "    <tr>\n",
       "      <th>3</th>\n",
       "      <td>1.0</td>\n",
       "      <td>0.4</td>\n",
       "      <td>47.050068</td>\n",
       "      <td>LV</td>\n",
       "      <td>3</td>\n",
       "    </tr>\n",
       "    <tr>\n",
       "      <th>4</th>\n",
       "      <td>1.0</td>\n",
       "      <td>0.4</td>\n",
       "      <td>79.038933</td>\n",
       "      <td>LV</td>\n",
       "      <td>4</td>\n",
       "    </tr>\n",
       "    <tr>\n",
       "      <th>...</th>\n",
       "      <td>...</td>\n",
       "      <td>...</td>\n",
       "      <td>...</td>\n",
       "      <td>...</td>\n",
       "      <td>...</td>\n",
       "    </tr>\n",
       "    <tr>\n",
       "      <th>1195</th>\n",
       "      <td>0.0</td>\n",
       "      <td>0.5</td>\n",
       "      <td>-776.834595</td>\n",
       "      <td>LV</td>\n",
       "      <td>1195</td>\n",
       "    </tr>\n",
       "    <tr>\n",
       "      <th>1196</th>\n",
       "      <td>1.0</td>\n",
       "      <td>0.5</td>\n",
       "      <td>129.645142</td>\n",
       "      <td>LV</td>\n",
       "      <td>1196</td>\n",
       "    </tr>\n",
       "    <tr>\n",
       "      <th>1197</th>\n",
       "      <td>0.0</td>\n",
       "      <td>0.5</td>\n",
       "      <td>-211.287735</td>\n",
       "      <td>LV</td>\n",
       "      <td>1197</td>\n",
       "    </tr>\n",
       "    <tr>\n",
       "      <th>1198</th>\n",
       "      <td>1.0</td>\n",
       "      <td>0.5</td>\n",
       "      <td>-366.435120</td>\n",
       "      <td>LV</td>\n",
       "      <td>1198</td>\n",
       "    </tr>\n",
       "    <tr>\n",
       "      <th>1199</th>\n",
       "      <td>0.0</td>\n",
       "      <td>0.5</td>\n",
       "      <td>-222.102509</td>\n",
       "      <td>LV</td>\n",
       "      <td>1199</td>\n",
       "    </tr>\n",
       "  </tbody>\n",
       "</table>\n",
       "<p>1200 rows × 5 columns</p>\n",
       "</div>"
      ],
      "text/plain": [
       "      block  prob         auc name  trial\n",
       "0       1.0   0.4  256.044617   LV      0\n",
       "1       1.0   0.4   49.928734   LV      1\n",
       "2       1.0   0.4  199.274872   LV      2\n",
       "3       1.0   0.4   47.050068   LV      3\n",
       "4       1.0   0.4   79.038933   LV      4\n",
       "...     ...   ...         ...  ...    ...\n",
       "1195    0.0   0.5 -776.834595   LV   1195\n",
       "1196    1.0   0.5  129.645142   LV   1196\n",
       "1197    0.0   0.5 -211.287735   LV   1197\n",
       "1198    1.0   0.5 -366.435120   LV   1198\n",
       "1199    0.0   0.5 -222.102509   LV   1199\n",
       "\n",
       "[1200 rows x 5 columns]"
      ]
     },
     "execution_count": 6,
     "metadata": {},
     "output_type": "execute_result"
    }
   ],
   "source": [
    "df_lv = pd.DataFrame({k:lv[k] for k in ['seq1', 'probPerTrial','AUCperTrial']}).rename(\n",
    "    columns={\"seq1\":\"block\", \"probPerTrial\":\"prob\", \"AUCperTrial\":\"auc\"})\n",
    "df_lv[\"name\"] = \"LV\"\n",
    "df_lv[\"trial\"] = df_lv.index\n",
    "df_lv"
   ]
  },
  {
   "cell_type": "code",
   "execution_count": 7,
   "metadata": {
    "ExecuteTime": {
     "end_time": "2022-04-05T13:47:29.530749Z",
     "start_time": "2022-04-05T13:47:29.506748Z"
    }
   },
   "outputs": [
    {
     "data": {
      "text/plain": [
       "{'_fieldnames': ['seq', 'seq1', 'seq2', 'q1', 'q2', 'nPast'],\n",
       " 'seq': array([4., 4., 4., ..., 4., 3., 4.], dtype=float32),\n",
       " 'seq1': array([1., 1., 1., ..., 1., 1., 1.], dtype=float32),\n",
       " 'seq2': array([1., 1., 1., ..., 1., 0., 1.], dtype=float32),\n",
       " 'q1': array([0.3, 0.5, 0.2, 0.4, 0.1]),\n",
       " 'q2': 0.2,\n",
       " 'nPast': 7,\n",
       " '__header__': b'MATLAB 5.0 MAT-file, Platform: PCWIN64, Created on: Mon Aug 27 21:07:34 2018',\n",
       " '__version__': '1.0',\n",
       " '__globals__': [],\n",
       " 'AUCperTrial': array([  99.77569  ,  240.78757  , -129.40396  , ...,  -21.541965 ,\n",
       "           4.1745853,   32.881382 ], dtype=float32),\n",
       " 'probPerTrial': array([0.3, 0.3, 0.3, ..., 0.1, 0.1, 0.1])}"
      ]
     },
     "execution_count": 7,
     "metadata": {},
     "output_type": "execute_result"
    }
   ],
   "source": [
    "ck = vars(d_mat['stimSeq_CK_2_19-Jul-2016.mat']['sequenceData'])\n",
    "ck.update(d_mat['AUCvsProb_CK.mat'])\n",
    "ck"
   ]
  },
  {
   "cell_type": "code",
   "execution_count": 8,
   "metadata": {
    "ExecuteTime": {
     "end_time": "2022-04-05T13:47:30.166587Z",
     "start_time": "2022-04-05T13:47:30.147597Z"
    }
   },
   "outputs": [],
   "source": [
    "ck['AUCperTrial'] = np.insert(ck['AUCperTrial'], 959, np.nan)\n",
    "ck['probPerTrial'] = np.insert(ck['probPerTrial'], 959, np.nan)"
   ]
  },
  {
   "cell_type": "code",
   "execution_count": 9,
   "metadata": {
    "ExecuteTime": {
     "end_time": "2022-04-05T13:47:30.961007Z",
     "start_time": "2022-04-05T13:47:30.917009Z"
    }
   },
   "outputs": [
    {
     "data": {
      "text/html": [
       "<div>\n",
       "<style scoped>\n",
       "    .dataframe tbody tr th:only-of-type {\n",
       "        vertical-align: middle;\n",
       "    }\n",
       "\n",
       "    .dataframe tbody tr th {\n",
       "        vertical-align: top;\n",
       "    }\n",
       "\n",
       "    .dataframe thead th {\n",
       "        text-align: right;\n",
       "    }\n",
       "</style>\n",
       "<table border=\"1\" class=\"dataframe\">\n",
       "  <thead>\n",
       "    <tr style=\"text-align: right;\">\n",
       "      <th></th>\n",
       "      <th>block</th>\n",
       "      <th>prob</th>\n",
       "      <th>auc</th>\n",
       "      <th>name</th>\n",
       "      <th>trial</th>\n",
       "    </tr>\n",
       "  </thead>\n",
       "  <tbody>\n",
       "    <tr>\n",
       "      <th>0</th>\n",
       "      <td>1.0</td>\n",
       "      <td>0.3</td>\n",
       "      <td>99.775688</td>\n",
       "      <td>CK</td>\n",
       "      <td>0</td>\n",
       "    </tr>\n",
       "    <tr>\n",
       "      <th>1</th>\n",
       "      <td>1.0</td>\n",
       "      <td>0.3</td>\n",
       "      <td>240.787567</td>\n",
       "      <td>CK</td>\n",
       "      <td>1</td>\n",
       "    </tr>\n",
       "    <tr>\n",
       "      <th>2</th>\n",
       "      <td>1.0</td>\n",
       "      <td>0.3</td>\n",
       "      <td>-129.403961</td>\n",
       "      <td>CK</td>\n",
       "      <td>2</td>\n",
       "    </tr>\n",
       "    <tr>\n",
       "      <th>3</th>\n",
       "      <td>0.0</td>\n",
       "      <td>0.3</td>\n",
       "      <td>660.356995</td>\n",
       "      <td>CK</td>\n",
       "      <td>3</td>\n",
       "    </tr>\n",
       "    <tr>\n",
       "      <th>4</th>\n",
       "      <td>1.0</td>\n",
       "      <td>0.3</td>\n",
       "      <td>-351.846405</td>\n",
       "      <td>CK</td>\n",
       "      <td>4</td>\n",
       "    </tr>\n",
       "    <tr>\n",
       "      <th>...</th>\n",
       "      <td>...</td>\n",
       "      <td>...</td>\n",
       "      <td>...</td>\n",
       "      <td>...</td>\n",
       "      <td>...</td>\n",
       "    </tr>\n",
       "    <tr>\n",
       "      <th>1195</th>\n",
       "      <td>1.0</td>\n",
       "      <td>0.1</td>\n",
       "      <td>87.460083</td>\n",
       "      <td>CK</td>\n",
       "      <td>1195</td>\n",
       "    </tr>\n",
       "    <tr>\n",
       "      <th>1196</th>\n",
       "      <td>0.0</td>\n",
       "      <td>0.1</td>\n",
       "      <td>911.066528</td>\n",
       "      <td>CK</td>\n",
       "      <td>1196</td>\n",
       "    </tr>\n",
       "    <tr>\n",
       "      <th>1197</th>\n",
       "      <td>1.0</td>\n",
       "      <td>0.1</td>\n",
       "      <td>-21.541965</td>\n",
       "      <td>CK</td>\n",
       "      <td>1197</td>\n",
       "    </tr>\n",
       "    <tr>\n",
       "      <th>1198</th>\n",
       "      <td>1.0</td>\n",
       "      <td>0.1</td>\n",
       "      <td>4.174585</td>\n",
       "      <td>CK</td>\n",
       "      <td>1198</td>\n",
       "    </tr>\n",
       "    <tr>\n",
       "      <th>1199</th>\n",
       "      <td>1.0</td>\n",
       "      <td>0.1</td>\n",
       "      <td>32.881382</td>\n",
       "      <td>CK</td>\n",
       "      <td>1199</td>\n",
       "    </tr>\n",
       "  </tbody>\n",
       "</table>\n",
       "<p>1200 rows × 5 columns</p>\n",
       "</div>"
      ],
      "text/plain": [
       "      block  prob         auc name  trial\n",
       "0       1.0   0.3   99.775688   CK      0\n",
       "1       1.0   0.3  240.787567   CK      1\n",
       "2       1.0   0.3 -129.403961   CK      2\n",
       "3       0.0   0.3  660.356995   CK      3\n",
       "4       1.0   0.3 -351.846405   CK      4\n",
       "...     ...   ...         ...  ...    ...\n",
       "1195    1.0   0.1   87.460083   CK   1195\n",
       "1196    0.0   0.1  911.066528   CK   1196\n",
       "1197    1.0   0.1  -21.541965   CK   1197\n",
       "1198    1.0   0.1    4.174585   CK   1198\n",
       "1199    1.0   0.1   32.881382   CK   1199\n",
       "\n",
       "[1200 rows x 5 columns]"
      ]
     },
     "execution_count": 9,
     "metadata": {},
     "output_type": "execute_result"
    }
   ],
   "source": [
    "df_ck = pd.DataFrame({k:ck[k] for k in ['seq1', 'probPerTrial','AUCperTrial']}).rename(\n",
    "    columns={\"seq1\":\"block\", \"probPerTrial\":\"prob\", \"AUCperTrial\":\"auc\"})\n",
    "df_ck[\"name\"] = \"CK\"\n",
    "df_ck[\"trial\"] = df_ck.index\n",
    "df_ck"
   ]
  },
  {
   "cell_type": "code",
   "execution_count": 10,
   "metadata": {
    "ExecuteTime": {
     "end_time": "2022-04-05T13:47:33.896453Z",
     "start_time": "2022-04-05T13:47:33.868450Z"
    }
   },
   "outputs": [
    {
     "data": {
      "text/html": [
       "<div>\n",
       "<style scoped>\n",
       "    .dataframe tbody tr th:only-of-type {\n",
       "        vertical-align: middle;\n",
       "    }\n",
       "\n",
       "    .dataframe tbody tr th {\n",
       "        vertical-align: top;\n",
       "    }\n",
       "\n",
       "    .dataframe thead th {\n",
       "        text-align: right;\n",
       "    }\n",
       "</style>\n",
       "<table border=\"1\" class=\"dataframe\">\n",
       "  <thead>\n",
       "    <tr style=\"text-align: right;\">\n",
       "      <th></th>\n",
       "      <th>block</th>\n",
       "      <th>prob</th>\n",
       "      <th>auc</th>\n",
       "      <th>name</th>\n",
       "      <th>trial</th>\n",
       "    </tr>\n",
       "  </thead>\n",
       "  <tbody>\n",
       "    <tr>\n",
       "      <th>0</th>\n",
       "      <td>1.0</td>\n",
       "      <td>0.3</td>\n",
       "      <td>99.775688</td>\n",
       "      <td>CK</td>\n",
       "      <td>0</td>\n",
       "    </tr>\n",
       "    <tr>\n",
       "      <th>1</th>\n",
       "      <td>1.0</td>\n",
       "      <td>0.3</td>\n",
       "      <td>240.787567</td>\n",
       "      <td>CK</td>\n",
       "      <td>1</td>\n",
       "    </tr>\n",
       "    <tr>\n",
       "      <th>2</th>\n",
       "      <td>1.0</td>\n",
       "      <td>0.3</td>\n",
       "      <td>-129.403961</td>\n",
       "      <td>CK</td>\n",
       "      <td>2</td>\n",
       "    </tr>\n",
       "    <tr>\n",
       "      <th>3</th>\n",
       "      <td>0.0</td>\n",
       "      <td>0.3</td>\n",
       "      <td>660.356995</td>\n",
       "      <td>CK</td>\n",
       "      <td>3</td>\n",
       "    </tr>\n",
       "    <tr>\n",
       "      <th>4</th>\n",
       "      <td>1.0</td>\n",
       "      <td>0.3</td>\n",
       "      <td>-351.846405</td>\n",
       "      <td>CK</td>\n",
       "      <td>4</td>\n",
       "    </tr>\n",
       "    <tr>\n",
       "      <th>...</th>\n",
       "      <td>...</td>\n",
       "      <td>...</td>\n",
       "      <td>...</td>\n",
       "      <td>...</td>\n",
       "      <td>...</td>\n",
       "    </tr>\n",
       "    <tr>\n",
       "      <th>2395</th>\n",
       "      <td>0.0</td>\n",
       "      <td>0.5</td>\n",
       "      <td>-776.834595</td>\n",
       "      <td>LV</td>\n",
       "      <td>1195</td>\n",
       "    </tr>\n",
       "    <tr>\n",
       "      <th>2396</th>\n",
       "      <td>1.0</td>\n",
       "      <td>0.5</td>\n",
       "      <td>129.645142</td>\n",
       "      <td>LV</td>\n",
       "      <td>1196</td>\n",
       "    </tr>\n",
       "    <tr>\n",
       "      <th>2397</th>\n",
       "      <td>0.0</td>\n",
       "      <td>0.5</td>\n",
       "      <td>-211.287735</td>\n",
       "      <td>LV</td>\n",
       "      <td>1197</td>\n",
       "    </tr>\n",
       "    <tr>\n",
       "      <th>2398</th>\n",
       "      <td>1.0</td>\n",
       "      <td>0.5</td>\n",
       "      <td>-366.435120</td>\n",
       "      <td>LV</td>\n",
       "      <td>1198</td>\n",
       "    </tr>\n",
       "    <tr>\n",
       "      <th>2399</th>\n",
       "      <td>0.0</td>\n",
       "      <td>0.5</td>\n",
       "      <td>-222.102509</td>\n",
       "      <td>LV</td>\n",
       "      <td>1199</td>\n",
       "    </tr>\n",
       "  </tbody>\n",
       "</table>\n",
       "<p>2400 rows × 5 columns</p>\n",
       "</div>"
      ],
      "text/plain": [
       "      block  prob         auc name  trial\n",
       "0       1.0   0.3   99.775688   CK      0\n",
       "1       1.0   0.3  240.787567   CK      1\n",
       "2       1.0   0.3 -129.403961   CK      2\n",
       "3       0.0   0.3  660.356995   CK      3\n",
       "4       1.0   0.3 -351.846405   CK      4\n",
       "...     ...   ...         ...  ...    ...\n",
       "2395    0.0   0.5 -776.834595   LV   1195\n",
       "2396    1.0   0.5  129.645142   LV   1196\n",
       "2397    0.0   0.5 -211.287735   LV   1197\n",
       "2398    1.0   0.5 -366.435120   LV   1198\n",
       "2399    0.0   0.5 -222.102509   LV   1199\n",
       "\n",
       "[2400 rows x 5 columns]"
      ]
     },
     "execution_count": 10,
     "metadata": {},
     "output_type": "execute_result"
    }
   ],
   "source": [
    "data = pd.concat([df_ck, df_lv], ignore_index=True)\n",
    "data"
   ]
  },
  {
   "cell_type": "code",
   "execution_count": 11,
   "metadata": {
    "ExecuteTime": {
     "end_time": "2022-04-05T13:49:12.845338Z",
     "start_time": "2022-04-05T13:49:12.817345Z"
    }
   },
   "outputs": [],
   "source": [
    "data.to_csv(r'C:\\Users\\yuvfr\\proj_university\\seminar-bci\\data.csv',index=False)"
   ]
  },
  {
   "cell_type": "code",
   "execution_count": 14,
   "metadata": {
    "ExecuteTime": {
     "end_time": "2022-04-05T13:49:39.275629Z",
     "start_time": "2022-04-05T13:49:39.241629Z"
    }
   },
   "outputs": [
    {
     "data": {
      "text/html": [
       "<div>\n",
       "<style scoped>\n",
       "    .dataframe tbody tr th:only-of-type {\n",
       "        vertical-align: middle;\n",
       "    }\n",
       "\n",
       "    .dataframe tbody tr th {\n",
       "        vertical-align: top;\n",
       "    }\n",
       "\n",
       "    .dataframe thead th {\n",
       "        text-align: right;\n",
       "    }\n",
       "</style>\n",
       "<table border=\"1\" class=\"dataframe\">\n",
       "  <thead>\n",
       "    <tr style=\"text-align: right;\">\n",
       "      <th></th>\n",
       "      <th>block</th>\n",
       "      <th>prob</th>\n",
       "      <th>auc</th>\n",
       "      <th>name</th>\n",
       "      <th>trial</th>\n",
       "    </tr>\n",
       "  </thead>\n",
       "  <tbody>\n",
       "    <tr>\n",
       "      <th>0</th>\n",
       "      <td>1.0</td>\n",
       "      <td>0.3</td>\n",
       "      <td>99.77569</td>\n",
       "      <td>CK</td>\n",
       "      <td>0</td>\n",
       "    </tr>\n",
       "    <tr>\n",
       "      <th>1</th>\n",
       "      <td>1.0</td>\n",
       "      <td>0.3</td>\n",
       "      <td>240.78757</td>\n",
       "      <td>CK</td>\n",
       "      <td>1</td>\n",
       "    </tr>\n",
       "    <tr>\n",
       "      <th>2</th>\n",
       "      <td>1.0</td>\n",
       "      <td>0.3</td>\n",
       "      <td>-129.40396</td>\n",
       "      <td>CK</td>\n",
       "      <td>2</td>\n",
       "    </tr>\n",
       "    <tr>\n",
       "      <th>3</th>\n",
       "      <td>0.0</td>\n",
       "      <td>0.3</td>\n",
       "      <td>660.35700</td>\n",
       "      <td>CK</td>\n",
       "      <td>3</td>\n",
       "    </tr>\n",
       "    <tr>\n",
       "      <th>4</th>\n",
       "      <td>1.0</td>\n",
       "      <td>0.3</td>\n",
       "      <td>-351.84640</td>\n",
       "      <td>CK</td>\n",
       "      <td>4</td>\n",
       "    </tr>\n",
       "    <tr>\n",
       "      <th>...</th>\n",
       "      <td>...</td>\n",
       "      <td>...</td>\n",
       "      <td>...</td>\n",
       "      <td>...</td>\n",
       "      <td>...</td>\n",
       "    </tr>\n",
       "    <tr>\n",
       "      <th>2395</th>\n",
       "      <td>0.0</td>\n",
       "      <td>0.5</td>\n",
       "      <td>-776.83460</td>\n",
       "      <td>LV</td>\n",
       "      <td>1195</td>\n",
       "    </tr>\n",
       "    <tr>\n",
       "      <th>2396</th>\n",
       "      <td>1.0</td>\n",
       "      <td>0.5</td>\n",
       "      <td>129.64514</td>\n",
       "      <td>LV</td>\n",
       "      <td>1196</td>\n",
       "    </tr>\n",
       "    <tr>\n",
       "      <th>2397</th>\n",
       "      <td>0.0</td>\n",
       "      <td>0.5</td>\n",
       "      <td>-211.28773</td>\n",
       "      <td>LV</td>\n",
       "      <td>1197</td>\n",
       "    </tr>\n",
       "    <tr>\n",
       "      <th>2398</th>\n",
       "      <td>1.0</td>\n",
       "      <td>0.5</td>\n",
       "      <td>-366.43512</td>\n",
       "      <td>LV</td>\n",
       "      <td>1198</td>\n",
       "    </tr>\n",
       "    <tr>\n",
       "      <th>2399</th>\n",
       "      <td>0.0</td>\n",
       "      <td>0.5</td>\n",
       "      <td>-222.10251</td>\n",
       "      <td>LV</td>\n",
       "      <td>1199</td>\n",
       "    </tr>\n",
       "  </tbody>\n",
       "</table>\n",
       "<p>2400 rows × 5 columns</p>\n",
       "</div>"
      ],
      "text/plain": [
       "      block  prob        auc name  trial\n",
       "0       1.0   0.3   99.77569   CK      0\n",
       "1       1.0   0.3  240.78757   CK      1\n",
       "2       1.0   0.3 -129.40396   CK      2\n",
       "3       0.0   0.3  660.35700   CK      3\n",
       "4       1.0   0.3 -351.84640   CK      4\n",
       "...     ...   ...        ...  ...    ...\n",
       "2395    0.0   0.5 -776.83460   LV   1195\n",
       "2396    1.0   0.5  129.64514   LV   1196\n",
       "2397    0.0   0.5 -211.28773   LV   1197\n",
       "2398    1.0   0.5 -366.43512   LV   1198\n",
       "2399    0.0   0.5 -222.10251   LV   1199\n",
       "\n",
       "[2400 rows x 5 columns]"
      ]
     },
     "execution_count": 14,
     "metadata": {},
     "output_type": "execute_result"
    }
   ],
   "source": [
    "\n"
   ]
  },
  {
   "cell_type": "markdown",
   "metadata": {},
   "source": [
    "### ZD"
   ]
  },
  {
   "cell_type": "code",
   "execution_count": 2,
   "metadata": {
    "ExecuteTime": {
     "end_time": "2022-04-07T12:12:20.506827Z",
     "start_time": "2022-04-07T12:12:20.468828Z"
    }
   },
   "outputs": [],
   "source": [
    "PATH = r\"C:\\Users\\yuvfr\\proj_university\\seminar-bci\\subject_data\""
   ]
  },
  {
   "cell_type": "code",
   "execution_count": 3,
   "metadata": {
    "ExecuteTime": {
     "end_time": "2022-04-07T12:12:22.487826Z",
     "start_time": "2022-04-07T12:12:22.467825Z"
    }
   },
   "outputs": [],
   "source": [
    "def unpack_mat_struct(struct):\n",
    "    for k in struct.keys():\n",
    "        if isinstance(struct[k], scipy.io.matlab.mio5_params.mat_struct):\n",
    "            struct[k] = vars(struct[k])\n",
    "            unpack_mat_struct(struct[k])\n",
    "        elif isinstance(struct[k], dict):\n",
    "            unpack_mat_struct(struct[k])\n",
    "\n",
    "def recursively_remove_keys(d, d_copy):\n",
    "    for k in d.keys():\n",
    "        if k.startswith(\"__\") or k.startswith(\"_\"):\n",
    "            del d_copy[k]\n",
    "        elif isinstance(d[k], dict):\n",
    "            recursively_remove_keys(d[k], d_copy[k])"
   ]
  },
  {
   "cell_type": "code",
   "execution_count": 20,
   "metadata": {
    "ExecuteTime": {
     "end_time": "2022-04-07T12:15:39.893822Z",
     "start_time": "2022-04-07T12:15:39.873831Z"
    }
   },
   "outputs": [],
   "source": [
    "def read_subject_to_dict(name):\n",
    "    name_path = os.path.join(PATH, name)\n",
    "    files = os.listdir(name_path)\n",
    "    data = {\"name\":name}\n",
    "    for f in files:\n",
    "        abs_filename = os.path.join(name_path, f)\n",
    "        \n",
    "        if f.endswith(\"mat\"):\n",
    "            struct = scipy.io.loadmat(abs_filename, struct_as_record=False, squeeze_me=True)\n",
    "            unpack_mat_struct(struct)\n",
    "            data.update(struct)\n",
    "        \n",
    "        elif f.endswith(\"txt\"): # txt file consists only a number indicating a bad trial\n",
    "            with open(abs_filename, 'r') as txt_file:\n",
    "                data[\"bad_trial\"] = txt_file.read() # reading lazely. processing will be done elsewhere\n",
    "                \n",
    "    return data\n",
    "\n",
    "def preprocess_subject_dict(subject_dict):\n",
    "    \"\"\"\n",
    "    Handle bad trials, including shape missmatches, remove keys with leading __\n",
    "    \"\"\"\n",
    "#     subject_dict_copy = copy.deepcopy(subject_dict)\n",
    "#     recursively_remove_keys(subject_dict, subject_dict_copy)\n",
    "#     subject_dict = subject_dict_copy\n",
    "    if \"bad_trial\" in subject_dict.keys():\n",
    "        for k in [\"probPerTrial\", \"AUCperTrial\"]:\n",
    "            subject_dict[k] = np.insert(subject_dict[k], int(subject_dict[\"bad_trial\"])-1, np.nan)\n",
    "#     subject_dict[\"bad_trial\"] = np.nan\n",
    "    \n",
    "\n",
    "def extract_subject_dict_to_df(subject_dict):\n",
    "    df = pd.DataFrame({\n",
    "    \"block\": subject_dict[\"sequenceData\"][\"seq1\"],\n",
    "    \"prob\": subject_dict[\"probPerTrial\"],\n",
    "    \"auc\": subject_dict[\"AUCperTrial\"]\n",
    "    })\n",
    "\n",
    "    df[\"name\"] = subject_dict[\"name\"]\n",
    "    df[\"trial\"] = df.index\n",
    "    df[\"N\"] = subject_dict[\"featureInfo\"][\"modelParams\"][\"pastLength\"]\n",
    "    beta_ind = subject_dict[\"featureInfo\"][\"modelParams\"][\"betaInd\"] - 1\n",
    "    df[\"beta_ind\"] = beta_ind\n",
    "    df[\"beta\"] = subject_dict[\"featureInfo\"][\"modelParams\"][\"allBeta\"][beta_ind]\n",
    "    \n",
    "    df[\"normal_factor\"] = subject_dict[\"featureInfo\"][\"plotData\"][\"meanDiffSignalAUC\"]\n",
    "    return df"
   ]
  },
  {
   "cell_type": "code",
   "execution_count": 5,
   "metadata": {
    "ExecuteTime": {
     "end_time": "2022-04-07T12:12:28.717822Z",
     "start_time": "2022-04-07T12:12:28.534826Z"
    }
   },
   "outputs": [],
   "source": [
    "from tqdm.notebook import tqdm"
   ]
  },
  {
   "cell_type": "code",
   "execution_count": 21,
   "metadata": {
    "ExecuteTime": {
     "end_time": "2022-04-07T12:15:50.031822Z",
     "start_time": "2022-04-07T12:15:49.867825Z"
    }
   },
   "outputs": [
    {
     "data": {
      "application/vnd.jupyter.widget-view+json": {
       "model_id": "a952ebac960e473dab9012cb43a27066",
       "version_major": 2,
       "version_minor": 0
      },
      "text/plain": [
       "  0%|          | 0/17 [00:00<?, ?it/s]"
      ]
     },
     "metadata": {},
     "output_type": "display_data"
    },
    {
     "name": "stdout",
     "output_type": "stream",
     "text": [
      "Exception in HLA:\n",
      "All arrays must be of the same length\n"
     ]
    }
   ],
   "source": [
    "dfs = []\n",
    "for name in tqdm(os.listdir(PATH)):\n",
    "    d_data = read_subject_to_dict(name)\n",
    "    preprocess_subject_dict(d_data)\n",
    "    try:\n",
    "        df = extract_subject_dict_to_df(d_data)\n",
    "    except Exception as e:\n",
    "        print(f\"Exception in {name}:\\n{str(e)}\")\n",
    "        continue\n",
    "    dfs.append(df)"
   ]
  },
  {
   "cell_type": "code",
   "execution_count": 22,
   "metadata": {
    "ExecuteTime": {
     "end_time": "2022-04-07T12:15:50.813827Z",
     "start_time": "2022-04-07T12:15:50.791824Z"
    }
   },
   "outputs": [],
   "source": [
    "data = pd.concat(dfs)"
   ]
  },
  {
   "cell_type": "code",
   "execution_count": 28,
   "metadata": {
    "ExecuteTime": {
     "end_time": "2022-04-07T12:29:44.336684Z",
     "start_time": "2022-04-07T12:29:44.164696Z"
    }
   },
   "outputs": [],
   "source": [
    "data.to_csv('C:\\\\Users\\\\yuvfr\\\\proj_university\\\\seminar-bci\\\\subjects_data.csv', index=False)"
   ]
  },
  {
   "cell_type": "code",
   "execution_count": null,
   "metadata": {},
   "outputs": [],
   "source": []
  }
 ],
 "metadata": {
  "kernelspec": {
   "display_name": "Python 3",
   "language": "python",
   "name": "python3"
  },
  "language_info": {
   "codemirror_mode": {
    "name": "ipython",
    "version": 3
   },
   "file_extension": ".py",
   "mimetype": "text/x-python",
   "name": "python",
   "nbconvert_exporter": "python",
   "pygments_lexer": "ipython3",
   "version": "3.8.5"
  },
  "toc": {
   "base_numbering": 1,
   "nav_menu": {},
   "number_sections": true,
   "sideBar": true,
   "skip_h1_title": false,
   "title_cell": "Table of Contents",
   "title_sidebar": "Contents",
   "toc_cell": false,
   "toc_position": {},
   "toc_section_display": true,
   "toc_window_display": false
  }
 },
 "nbformat": 4,
 "nbformat_minor": 4
}
