{
 "cells": [
  {
   "cell_type": "code",
   "execution_count": 1,
   "metadata": {
    "ExecuteTime": {
     "end_time": "2022-03-24T14:58:41.477719Z",
     "start_time": "2022-03-24T14:58:29.051723Z"
    }
   },
   "outputs": [],
   "source": [
    "from tqdm.notebook import trange, tqdm\n",
    "import os\n",
    "\n",
    "import numpy as np\n",
    "import pandas as pd\n",
    "import swifter\n",
    "\n",
    "import matplotlib.pyplot as plt\n",
    "import seaborn as sns\n",
    "import plotly.express as px\n",
    "\n",
    "os.chdir(\"..\")\n",
    "from src.utils import BETA_STR\n",
    "from src.config import Ns, betas"
   ]
  },
  {
   "cell_type": "code",
   "execution_count": 2,
   "metadata": {
    "ExecuteTime": {
     "end_time": "2022-03-24T14:58:41.549722Z",
     "start_time": "2022-03-24T14:58:41.497722Z"
    }
   },
   "outputs": [],
   "source": [
    "df = pd.read_csv(\"data/convert_ib_to_decay.csv\")"
   ]
  },
  {
   "cell_type": "code",
   "execution_count": 3,
   "metadata": {
    "ExecuteTime": {
     "end_time": "2022-03-24T14:58:41.708720Z",
     "start_time": "2022-03-24T14:58:41.553724Z"
    }
   },
   "outputs": [],
   "source": [
    "# reformat dataframe\n",
    "df[\"N\"] = Ns\n",
    "df = df.rename_axis(columns=\"beta_ind\")\n",
    "df = df.melt(id_vars=\"N\", var_name=\"beta_ind\", value_name=\"decay_params\")\n",
    "df[\"halflife\"] = df[\"decay_params\"].apply(lambda t: eval(t)[0])\n",
    "df[\"lambda\"] = df[\"decay_params\"].apply(lambda t: eval(t)[1])\n",
    "df = df.drop(\"decay_params\", axis=1)\n",
    "df[[\"N\", \"beta_ind\", \"halflife\"]] = df[[\"N\", \"beta_ind\", \"halflife\"]].astype(np.int32)\n",
    "df[\"lambda\"] = df[\"lambda\"].astype(float)"
   ]
  },
  {
   "cell_type": "code",
   "execution_count": 4,
   "metadata": {
    "ExecuteTime": {
     "end_time": "2022-03-24T14:58:41.780724Z",
     "start_time": "2022-03-24T14:58:41.716722Z"
    }
   },
   "outputs": [],
   "source": [
    "n_h_map = df.groupby(\"N\")[\"halflife\"].median()"
   ]
  },
  {
   "cell_type": "code",
   "execution_count": 5,
   "metadata": {
    "ExecuteTime": {
     "end_time": "2022-03-24T14:58:42.769722Z",
     "start_time": "2022-03-24T14:58:41.804721Z"
    }
   },
   "outputs": [
    {
     "data": {
      "text/plain": [
       "<AxesSubplot:xlabel='N'>"
      ]
     },
     "execution_count": 5,
     "metadata": {},
     "output_type": "execute_result"
    },
    {
     "data": {
      "image/png": "[encoded data removed]",
      "text/plain": [
       "<Figure size 432x288 with 1 Axes>"
      ]
     },
     "metadata": {
      "needs_background": "light"
     },
     "output_type": "display_data"
    }
   ],
   "source": [
    "n_h_map.plot(style=\".\")"
   ]
  },
  {
   "cell_type": "code",
   "execution_count": 6,
   "metadata": {
    "ExecuteTime": {
     "end_time": "2022-03-24T14:58:42.825724Z",
     "start_time": "2022-03-24T14:58:42.780720Z"
    }
   },
   "outputs": [],
   "source": [
    "# interpolate outliers\n",
    "n_h_map.loc[n_h_map.values/n_h_map.index.values < 0.25] = np.nan\n",
    "n_h_map = n_h_map.interpolate().astype(int)"
   ]
  },
  {
   "cell_type": "code",
   "execution_count": 7,
   "metadata": {
    "ExecuteTime": {
     "end_time": "2022-03-24T14:58:43.471724Z",
     "start_time": "2022-03-24T14:58:42.884723Z"
    }
   },
   "outputs": [
    {
     "data": {
      "text/plain": [
       "<AxesSubplot:xlabel='N'>"
      ]
     },
     "execution_count": 7,
     "metadata": {},
     "output_type": "execute_result"
    },
    {
     "data": {
      "image/png": "[encoded data removed]",
      "text/plain": [
       "<Figure size 432x288 with 1 Axes>"
      ]
     },
     "metadata": {
      "needs_background": "light"
     },
     "output_type": "display_data"
    }
   ],
   "source": [
    "n_h_map.plot(style=\".\")"
   ]
  },
  {
   "cell_type": "code",
   "execution_count": 13,
   "metadata": {
    "ExecuteTime": {
     "end_time": "2022-03-24T15:00:18.391722Z",
     "start_time": "2022-03-24T15:00:18.382723Z"
    }
   },
   "outputs": [],
   "source": [
    "n_h_map.to_json(\"data/N_halflife_map.json\")"
   ]
  },
  {
   "cell_type": "code",
   "execution_count": 18,
   "metadata": {
    "ExecuteTime": {
     "end_time": "2022-03-24T15:06:26.391459Z",
     "start_time": "2022-03-24T15:06:26.380458Z"
    }
   },
   "outputs": [],
   "source": [
    "ret = pd.read_json(\"data/N_halflife_map.json\", typ=\"series\")"
   ]
  },
  {
   "cell_type": "code",
   "execution_count": 24,
   "metadata": {
    "ExecuteTime": {
     "end_time": "2022-03-24T15:06:53.282454Z",
     "start_time": "2022-03-24T15:06:53.262455Z"
    }
   },
   "outputs": [
    {
     "data": {
      "text/plain": [
       "int"
      ]
     },
     "execution_count": 24,
     "metadata": {},
     "output_type": "execute_result"
    }
   ],
   "source": [
    "ret.loc[22].item()"
   ]
  },
  {
   "cell_type": "code",
   "execution_count": 11,
   "metadata": {
    "ExecuteTime": {
     "end_time": "2022-03-24T14:59:32.899722Z",
     "start_time": "2022-03-24T14:59:32.892721Z"
    }
   },
   "outputs": [],
   "source": [
    "import json"
   ]
  },
  {
   "cell_type": "code",
   "execution_count": 12,
   "metadata": {
    "ExecuteTime": {
     "end_time": "2022-03-24T14:59:36.985725Z",
     "start_time": "2022-03-24T14:59:36.967721Z"
    }
   },
   "outputs": [
    {
     "data": {
      "text/plain": [
       "{'1': 1,\n",
       " '2': 1,\n",
       " '3': 2,\n",
       " '4': 2,\n",
       " '5': 3,\n",
       " '6': 3,\n",
       " '7': 4,\n",
       " '8': 4,\n",
       " '9': 5,\n",
       " '10': 5,\n",
       " '11': 6,\n",
       " '12': 7,\n",
       " '13': 7,\n",
       " '14': 8,\n",
       " '15': 8,\n",
       " '16': 9,\n",
       " '17': 9,\n",
       " '18': 10,\n",
       " '19': 10,\n",
       " '20': 11,\n",
       " '21': 11,\n",
       " '22': 12,\n",
       " '23': 12,\n",
       " '24': 13,\n",
       " '25': 13,\n",
       " '26': 14,\n",
       " '27': 14,\n",
       " '28': 14,\n",
       " '29': 15,\n",
       " '30': 16,\n",
       " '31': 17,\n",
       " '32': 17,\n",
       " '33': 18,\n",
       " '34': 19,\n",
       " '35': 20,\n",
       " '36': 21,\n",
       " '37': 22,\n",
       " '38': 23,\n",
       " '39': 24,\n",
       " '40': 24,\n",
       " '41': 24,\n",
       " '42': 25,\n",
       " '43': 25,\n",
       " '44': 25,\n",
       " '45': 25,\n",
       " '46': 26,\n",
       " '47': 27,\n",
       " '48': 28,\n",
       " '49': 29,\n",
       " '50': 29}"
      ]
     },
     "execution_count": 12,
     "metadata": {},
     "output_type": "execute_result"
    }
   ],
   "source": [
    "json.loads(a)"
   ]
  },
  {
   "cell_type": "code",
   "execution_count": 10,
   "metadata": {
    "ExecuteTime": {
     "end_time": "2022-03-24T14:59:16.276722Z",
     "start_time": "2022-03-24T14:59:16.261722Z"
    }
   },
   "outputs": [
    {
     "data": {
      "text/plain": [
       "'{\"1\":1,\"2\":1,\"3\":2,\"4\":2,\"5\":3,\"6\":3,\"7\":4,\"8\":4,\"9\":5,\"10\":5,\"11\":6,\"12\":7,\"13\":7,\"14\":8,\"15\":8,\"16\":9,\"17\":9,\"18\":10,\"19\":10,\"20\":11,\"21\":11,\"22\":12,\"23\":12,\"24\":13,\"25\":13,\"26\":14,\"27\":14,\"28\":14,\"29\":15,\"30\":16,\"31\":17,\"32\":17,\"33\":18,\"34\":19,\"35\":20,\"36\":21,\"37\":22,\"38\":23,\"39\":24,\"40\":24,\"41\":24,\"42\":25,\"43\":25,\"44\":25,\"45\":25,\"46\":26,\"47\":27,\"48\":28,\"49\":29,\"50\":29}'"
      ]
     },
     "execution_count": 10,
     "metadata": {},
     "output_type": "execute_result"
    }
   ],
   "source": [
    "a"
   ]
  },
  {
   "cell_type": "code",
   "execution_count": 25,
   "metadata": {
    "ExecuteTime": {
     "end_time": "2022-03-24T15:24:49.338141Z",
     "start_time": "2022-03-24T15:24:49.308133Z"
    }
   },
   "outputs": [],
   "source": [
    "df = pd.read_csv(\"data/ib_to_decay/noise=0.0.csv\")"
   ]
  },
  {
   "cell_type": "code",
   "execution_count": null,
   "metadata": {},
   "outputs": [],
   "source": [
    "df = df.rename_axis(index=\"N\", columns=\"beta_ind\")"
   ]
  },
  {
   "cell_type": "code",
   "execution_count": 34,
   "metadata": {
    "ExecuteTime": {
     "end_time": "2022-03-24T15:28:00.135214Z",
     "start_time": "2022-03-24T15:28:00.118213Z"
    }
   },
   "outputs": [],
   "source": [
    "df = df.reset_index().melt(id_vars=\"N\",var_name=\"beta_ind\", value_name=\"lambda\")"
   ]
  },
  {
   "cell_type": "code",
   "execution_count": 44,
   "metadata": {
    "ExecuteTime": {
     "end_time": "2022-03-24T15:31:37.403214Z",
     "start_time": "2022-03-24T15:31:37.394213Z"
    }
   },
   "outputs": [],
   "source": [
    "df[\"beta_ind\"]=df[\"beta_ind\"].astype(int)"
   ]
  },
  {
   "cell_type": "code",
   "execution_count": null,
   "metadata": {},
   "outputs": [],
   "source": [
    "df"
   ]
  },
  {
   "cell_type": "code",
   "execution_count": 46,
   "metadata": {
    "ExecuteTime": {
     "end_time": "2022-03-24T15:32:22.218213Z",
     "start_time": "2022-03-24T15:32:22.206211Z"
    }
   },
   "outputs": [],
   "source": [
    "means = df.groupby(\"beta_ind\")[\"lambda\"].mean()\n",
    "sems = df.groupby(\"beta_ind\")[\"lambda\"].sem()"
   ]
  },
  {
   "cell_type": "code",
   "execution_count": 41,
   "metadata": {
    "ExecuteTime": {
     "end_time": "2022-03-24T15:29:36.220214Z",
     "start_time": "2022-03-24T15:29:35.187214Z"
    }
   },
   "outputs": [
    {
     "data": {
      "text/plain": [
       "<AxesSubplot:xlabel='beta_ind', ylabel='lambda'>"
      ]
     },
     "execution_count": 41,
     "metadata": {},
     "output_type": "execute_result"
    },
    {
     "data": {
      "image/png": "[encoded data removed]",
      "text/plain": [
       "<Figure size 432x288 with 2 Axes>"
      ]
     },
     "metadata": {
      "needs_background": "light"
     },
     "output_type": "display_data"
    }
   ],
   "source": [
    "df.plot(kind=\"scatter\", x=\"beta_ind\", y=\"lambda\", c=\"N\", cmap=\"viridis\")"
   ]
  },
  {
   "cell_type": "code",
   "execution_count": null,
   "metadata": {},
   "outputs": [],
   "source": []
  },
  {
   "cell_type": "code",
   "execution_count": null,
   "metadata": {},
   "outputs": [],
   "source": []
  }
 ],
 "metadata": {
  "kernelspec": {
   "display_name": "Python 3",
   "language": "python",
   "name": "python3"
  },
  "language_info": {
   "codemirror_mode": {
    "name": "ipython",
    "version": 3
   },
   "file_extension": ".py",
   "mimetype": "text/x-python",
   "name": "python",
   "nbconvert_exporter": "python",
   "pygments_lexer": "ipython3",
   "version": "3.8.5"
  },
  "toc": {
   "base_numbering": 1,
   "nav_menu": {},
   "number_sections": true,
   "sideBar": true,
   "skip_h1_title": false,
   "title_cell": "Table of Contents",
   "title_sidebar": "Contents",
   "toc_cell": false,
   "toc_position": {},
   "toc_section_display": true,
   "toc_window_display": false
  }
 },
 "nbformat": 4,
 "nbformat_minor": 4
}
