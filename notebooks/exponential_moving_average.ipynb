{
 "cells": [
  {
   "cell_type": "code",
   "execution_count": 5,
   "metadata": {
    "ExecuteTime": {
     "end_time": "2022-07-28T20:04:16.057865Z",
     "start_time": "2022-07-28T20:04:16.041869Z"
    }
   },
   "outputs": [],
   "source": [
    "import pandas as pd\n",
    "import numpy as np"
   ]
  },
  {
   "cell_type": "code",
   "execution_count": 2,
   "metadata": {
    "ExecuteTime": {
     "end_time": "2022-07-28T20:01:27.115026Z",
     "start_time": "2022-07-28T20:01:27.102029Z"
    }
   },
   "outputs": [],
   "source": [
    "def calculate_MA(seq, tau, normalize:bool = False):\n",
    "    \"\"\"\n",
    "    Demonstrates the way pandas calculating EWMA. \n",
    "    Normalization is done by dividing each weight by sum of weights.\n",
    "    \"\"\"\n",
    "    T = len(seq)\n",
    "    MA = np.empty(shape=T)\n",
    "    for t in range(T):\n",
    "        weights = np.empty(shape=t+1)\n",
    "        for i in range(t+1):\n",
    "            weights[i] = 0.5 ** ((t-i)/tau)\n",
    "        if normalize: # divide by sum of weights to make weights sum up to 1\n",
    "            weights = weights/np.sum(weights)\n",
    "\n",
    "        MA[t] = np.sum(weights*seq[:t+1])\n",
    "    return MA"
   ]
  },
  {
   "cell_type": "code",
   "execution_count": 3,
   "metadata": {
    "ExecuteTime": {
     "end_time": "2022-07-28T20:02:32.363869Z",
     "start_time": "2022-07-28T20:02:32.346875Z"
    }
   },
   "outputs": [],
   "source": [
    "def pd_MA(seq, tau, normalize:bool = False):\n",
    "    return pd.Series(seq).ewm(halflife=tau, adjust=normalize).mean()"
   ]
  },
  {
   "cell_type": "code",
   "execution_count": 11,
   "metadata": {
    "ExecuteTime": {
     "end_time": "2022-07-28T20:06:53.991102Z",
     "start_time": "2022-07-28T20:06:53.961102Z"
    }
   },
   "outputs": [
    {
     "data": {
      "text/html": [
       "<div>\n",
       "<style scoped>\n",
       "    .dataframe tbody tr th:only-of-type {\n",
       "        vertical-align: middle;\n",
       "    }\n",
       "\n",
       "    .dataframe tbody tr th {\n",
       "        vertical-align: top;\n",
       "    }\n",
       "\n",
       "    .dataframe thead th {\n",
       "        text-align: right;\n",
       "    }\n",
       "</style>\n",
       "<table border=\"1\" class=\"dataframe\">\n",
       "  <thead>\n",
       "    <tr style=\"text-align: right;\">\n",
       "      <th></th>\n",
       "      <th>sequence</th>\n",
       "      <th>MA_manual</th>\n",
       "      <th>MA_pandas</th>\n",
       "      <th>MA_manual_normalized</th>\n",
       "      <th>MA_pandas_normalized</th>\n",
       "    </tr>\n",
       "    <tr>\n",
       "      <th>t</th>\n",
       "      <th></th>\n",
       "      <th></th>\n",
       "      <th></th>\n",
       "      <th></th>\n",
       "      <th></th>\n",
       "    </tr>\n",
       "  </thead>\n",
       "  <tbody>\n",
       "    <tr>\n",
       "      <th>0</th>\n",
       "      <td>1</td>\n",
       "      <td>1.000000</td>\n",
       "      <td>1.000000</td>\n",
       "      <td>1.000000</td>\n",
       "      <td>1.000000</td>\n",
       "    </tr>\n",
       "    <tr>\n",
       "      <th>1</th>\n",
       "      <td>0</td>\n",
       "      <td>0.793701</td>\n",
       "      <td>0.793701</td>\n",
       "      <td>0.442493</td>\n",
       "      <td>0.442493</td>\n",
       "    </tr>\n",
       "    <tr>\n",
       "      <th>2</th>\n",
       "      <td>0</td>\n",
       "      <td>0.629961</td>\n",
       "      <td>0.629961</td>\n",
       "      <td>0.259921</td>\n",
       "      <td>0.259921</td>\n",
       "    </tr>\n",
       "    <tr>\n",
       "      <th>3</th>\n",
       "      <td>0</td>\n",
       "      <td>0.500000</td>\n",
       "      <td>0.500000</td>\n",
       "      <td>0.171018</td>\n",
       "      <td>0.171018</td>\n",
       "    </tr>\n",
       "  </tbody>\n",
       "</table>\n",
       "</div>"
      ],
      "text/plain": [
       "   sequence  MA_manual  MA_pandas  MA_manual_normalized  MA_pandas_normalized\n",
       "t                                                                            \n",
       "0         1   1.000000   1.000000              1.000000              1.000000\n",
       "1         0   0.793701   0.793701              0.442493              0.442493\n",
       "2         0   0.629961   0.629961              0.259921              0.259921\n",
       "3         0   0.500000   0.500000              0.171018              0.171018"
      ]
     },
     "execution_count": 11,
     "metadata": {},
     "output_type": "execute_result"
    }
   ],
   "source": [
    "seq = np.array([1,0,0,0])\n",
    "tau = 3\n",
    "\n",
    "pd.DataFrame({\n",
    "    \"sequence\": seq,\n",
    "    \"MA_manual\": calculate_MA(seq, tau, normalize=False),\n",
    "    \"MA_pandas\": pd_MA(seq, tau, normalize=False),\n",
    "    \"MA_manual_normalized\": calculate_MA(seq, tau, normalize=True),\n",
    "    \"MA_pandas_normalized\": pd_MA(seq, tau, normalize=True),\n",
    "}).rename_axis(index=\"t\")\n",
    "\n",
    "# MA = calculate_MA(seq, tau, normalize=False)\n",
    "# MA_normalize = calculate_MA(seq, tau, normalize=True)"
   ]
  },
  {
   "cell_type": "code",
   "execution_count": 288,
   "metadata": {
    "ExecuteTime": {
     "end_time": "2022-07-28T19:59:30.242208Z",
     "start_time": "2022-07-28T19:59:30.236209Z"
    }
   },
   "outputs": [
    {
     "data": {
      "text/plain": [
       "(array([1.        , 0.79370053, 0.62996052, 0.5       ]),\n",
       " array([1.        , 0.44249333, 0.25992105, 0.17101846]))"
      ]
     },
     "execution_count": 288,
     "metadata": {},
     "output_type": "execute_result"
    }
   ],
   "source": [
    "MA, MA_normalize"
   ]
  },
  {
   "cell_type": "code",
   "execution_count": 290,
   "metadata": {
    "ExecuteTime": {
     "end_time": "2022-07-28T20:00:08.061209Z",
     "start_time": "2022-07-28T20:00:08.037209Z"
    }
   },
   "outputs": [
    {
     "data": {
      "text/plain": [
       "(0    1.000000\n",
       " 1    0.793701\n",
       " 2    0.629961\n",
       " 3    0.500000\n",
       " dtype: float64,\n",
       " 0    1.000000\n",
       " 1    0.442493\n",
       " 2    0.259921\n",
       " 3    0.171018\n",
       " dtype: float64)"
      ]
     },
     "execution_count": 290,
     "metadata": {},
     "output_type": "execute_result"
    }
   ],
   "source": [
    "pd.Series(seq).ewm(halflife=tau, adjust=False).mean(), pd.Series(seq).ewm(halflife=tau, adjust=True).mean()"
   ]
  },
  {
   "cell_type": "code",
   "execution_count": null,
   "metadata": {},
   "outputs": [],
   "source": []
  }
 ],
 "metadata": {
  "kernelspec": {
   "display_name": "Python 3",
   "language": "python",
   "name": "python3"
  },
  "language_info": {
   "codemirror_mode": {
    "name": "ipython",
    "version": 3
   },
   "file_extension": ".py",
   "mimetype": "text/x-python",
   "name": "python",
   "nbconvert_exporter": "python",
   "pygments_lexer": "ipython3",
   "version": "3.8.5"
  },
  "toc": {
   "base_numbering": 1,
   "nav_menu": {},
   "number_sections": true,
   "sideBar": true,
   "skip_h1_title": false,
   "title_cell": "Table of Contents",
   "title_sidebar": "Contents",
   "toc_cell": false,
   "toc_position": {},
   "toc_section_display": true,
   "toc_window_display": false
  }
 },
 "nbformat": 4,
 "nbformat_minor": 4
}
