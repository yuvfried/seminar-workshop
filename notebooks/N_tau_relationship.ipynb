{
 "cells": [
  {
   "cell_type": "code",
   "execution_count": 1,
   "metadata": {
    "ExecuteTime": {
     "end_time": "2022-08-26T10:02:12.077933Z",
     "start_time": "2022-08-26T10:02:05.408920Z"
    }
   },
   "outputs": [],
   "source": [
    "import pandas as pd\n",
    "import plotly.express as px\n",
    "import seaborn as sns\n",
    "import os"
   ]
  },
  {
   "cell_type": "code",
   "execution_count": 2,
   "metadata": {
    "ExecuteTime": {
     "end_time": "2022-08-26T10:02:18.982913Z",
     "start_time": "2022-08-26T10:02:12.080920Z"
    }
   },
   "outputs": [],
   "source": [
    "df = pd.read_parquet(\"../data/weighted_r2/N_tau_relationship\")"
   ]
  },
  {
   "cell_type": "markdown",
   "metadata": {},
   "source": [
    "### Extract by median r2 per N and noise level"
   ]
  },
  {
   "cell_type": "code",
   "execution_count": 3,
   "metadata": {
    "ExecuteTime": {
     "end_time": "2022-08-26T10:02:19.709911Z",
     "start_time": "2022-08-26T10:02:18.985914Z"
    }
   },
   "outputs": [],
   "source": [
    "records = list()\n",
    "for N in df[\"N\"].unique():\n",
    "    for noise in df.loc[df[\"N\"]==N, \"noise\"].unique():\n",
    "        temp_df = df.loc[(df[\"N\"]==N) & (df[\"noise\"]==noise)]\n",
    "        \n",
    "#         r2 = temp_df[\"r2\"].quantile(q=0.5, interpolation=\"higher\") # get r2 median value\n",
    "        r2 = temp_df[\"r2\"].max()\n",
    "        temp_df = temp_df.loc[temp_df[\"r2\"]==r2]\n",
    "        tau, beta_ind = int(temp_df[\"tau\"].mean()), int(temp_df[\"beta_ind\"].mean()) # get corresponding beta_ind and tau\n",
    "        \n",
    "        records.append({\n",
    "            \"N\":N,\n",
    "            \"noise\":noise,\n",
    "            \"beta_ind\":beta_ind,\n",
    "            \"r2\": r2,\n",
    "            \"tau\":tau\n",
    "        })\n",
    "        "
   ]
  },
  {
   "cell_type": "code",
   "execution_count": 4,
   "metadata": {
    "ExecuteTime": {
     "end_time": "2022-08-26T10:02:19.724920Z",
     "start_time": "2022-08-26T10:02:19.711912Z"
    }
   },
   "outputs": [],
   "source": [
    "df_result = pd.DataFrame.from_records(records)"
   ]
  },
  {
   "cell_type": "code",
   "execution_count": 5,
   "metadata": {
    "ExecuteTime": {
     "end_time": "2022-08-26T10:02:27.648910Z",
     "start_time": "2022-08-26T10:02:26.897918Z"
    }
   },
   "outputs": [
    {
     "data": {
      "text/plain": [
       "<AxesSubplot:xlabel='N', ylabel='tau'>"
      ]
     },
     "execution_count": 5,
     "metadata": {},
     "output_type": "execute_result"
    },
    {
     "data": {
      "image/png": "[encoded data removed]",
      "text/plain": [
       "<Figure size 432x288 with 1 Axes>"
      ]
     },
     "metadata": {
      "needs_background": "light"
     },
     "output_type": "display_data"
    }
   ],
   "source": [
    "df_result.loc[df_result[\"noise\"]==0.0].plot(kind='scatter', x='N', y=\"tau\")"
   ]
  },
  {
   "cell_type": "code",
   "execution_count": 8,
   "metadata": {
    "ExecuteTime": {
     "end_time": "2022-08-26T10:04:23.908100Z",
     "start_time": "2022-08-26T10:04:23.342104Z"
    }
   },
   "outputs": [
    {
     "data": {
      "application/vnd.plotly.v1+json": {
       "config": {
        "plotlyServerURL": "https://plot.ly"
       },
       "data": [
        {
         "customdata": [
          [
           1,
           1
          ],
          [
           1,
           1
          ],
          [
           1,
           1
          ],
          [
           1,
           0.9999999999999999
          ],
          [
           1,
           0.9999999999999999
          ],
          [
           1,
           0.9999999999999999
          ],
          [
           1,
           0.9999999999999999
          ],
          [
           1,
           0.9999999999999998
          ],
          [
           1,
           0.9999999999999998
          ],
          [
           1,
           0.9999999999999997
          ],
          [
           1,
           0.9999999999999997
          ],
          [
           1,
           1
          ],
          [
           1,
           0.9999999999999997
          ],
          [
           1,
           0.9999999999999996
          ],
          [
           1,
           0.9999999999999996
          ],
          [
           1,
           1
          ],
          [
           1,
           1
          ],
          [
           1,
           1
          ],
          [
           1,
           1
          ],
          [
           1,
           1
          ],
          [
           1,
           1
          ],
          [
           1,
           1
          ],
          [
           1,
           1
          ],
          [
           1,
           1
          ],
          [
           1,
           1
          ],
          [
           1,
           1
          ],
          [
           1,
           1
          ],
          [
           1,
           1
          ],
          [
           1,
           1
          ],
          [
           1,
           1
          ],
          [
           1,
           1
          ],
          [
           1,
           0.9999999999999999
          ],
          [
           1,
           0.9999999999999999
          ],
          [
           1,
           0.9999999999999999
          ],
          [
           1,
           0.9999999999999999
          ],
          [
           1,
           0.9999999999999999
          ],
          [
           1,
           0.9999999999999999
          ],
          [
           1,
           0.9999999999999999
          ],
          [
           1,
           0.9999999999999999
          ],
          [
           1,
           0.9999999999999999
          ],
          [
           1,
           0.9999999999999999
          ],
          [
           1,
           0.9999999999999999
          ],
          [
           1,
           0.9999999999999999
          ],
          [
           1,
           0.9999999999999999
          ],
          [
           1,
           1
          ],
          [
           1,
           0.9999999999999999
          ],
          [
           1,
           1
          ],
          [
           1,
           0.9999999999999999
          ],
          [
           1,
           0.9999999999999998
          ],
          [
           1,
           1
          ]
         ],
         "hovertemplate": "noise=0.0<br>N=%{x}<br>tau=%{y}<br>beta_ind=%{customdata[0]}<br>r2=%{customdata[1]}<extra></extra>",
         "legendgroup": "0.0",
         "line": {
          "color": "#636efa",
          "dash": "solid"
         },
         "marker": {
          "symbol": "circle"
         },
         "mode": "lines",
         "name": "0.0",
         "orientation": "v",
         "showlegend": true,
         "type": "scatter",
         "x": [
          1,
          10,
          11,
          12,
          13,
          14,
          15,
          16,
          17,
          18,
          19,
          2,
          20,
          21,
          22,
          23,
          24,
          25,
          26,
          27,
          28,
          29,
          3,
          30,
          31,
          32,
          33,
          34,
          35,
          36,
          37,
          38,
          39,
          4,
          40,
          41,
          42,
          43,
          44,
          45,
          46,
          47,
          48,
          49,
          5,
          50,
          6,
          7,
          8,
          9
         ],
         "xaxis": "x",
         "y": [
          1,
          3,
          4,
          3,
          4,
          5,
          7,
          6,
          8,
          7,
          8,
          1,
          9,
          9,
          10,
          6,
          6,
          7,
          8,
          8,
          9,
          9,
          1,
          10,
          11,
          11,
          12,
          13,
          14,
          15,
          16,
          9,
          9,
          2,
          10,
          10,
          10,
          11,
          11,
          11,
          12,
          12,
          12,
          13,
          1,
          13,
          2,
          3,
          4,
          2
         ],
         "yaxis": "y"
        },
        {
         "customdata": [
          [
           2,
           0.9999991853596293
          ],
          [
           1,
           0.9999991075017496
          ],
          [
           2,
           0.9999991176104486
          ],
          [
           0,
           0.999999123545055
          ],
          [
           0,
           0.9999991728632216
          ],
          [
           1,
           0.9999990879960962
          ],
          [
           0,
           0.9999991579206513
          ],
          [
           0,
           0.9999992083020186
          ],
          [
           1,
           0.999999077184124
          ],
          [
           0,
           0.9999991350307136
          ],
          [
           0,
           0.9999990818997806
          ],
          [
           3,
           0.9999991165832146
          ],
          [
           1,
           0.9999991981277149
          ],
          [
           1,
           0.9999990388728891
          ],
          [
           1,
           0.9999991296742731
          ],
          [
           0,
           0.9999990708724961
          ],
          [
           0,
           0.9999991325094159
          ],
          [
           2,
           0.999999234637564
          ],
          [
           0,
           0.9999992081045358
          ],
          [
           2,
           0.9999992051434775
          ],
          [
           1,
           0.9999991950935115
          ],
          [
           2,
           0.9999990864224029
          ],
          [
           0,
           0.9999990480707321
          ],
          [
           2,
           0.9999990794214747
          ],
          [
           2,
           0.999999061242925
          ],
          [
           0,
           0.9999991910719809
          ],
          [
           0,
           0.9999990880772165
          ],
          [
           1,
           0.9999991396128088
          ],
          [
           0,
           0.9999991859534858
          ],
          [
           0,
           0.9999991615268172
          ],
          [
           0,
           0.9999991174368089
          ],
          [
           1,
           0.9999991819531081
          ],
          [
           0,
           0.9999991447124137
          ],
          [
           2,
           0.9999992111780036
          ],
          [
           2,
           0.9999991472102139
          ],
          [
           0,
           0.9999990497751875
          ],
          [
           0,
           0.9999991548190519
          ],
          [
           1,
           0.9999991260650769
          ],
          [
           0,
           0.9999991631935775
          ],
          [
           1,
           0.9999991121338819
          ],
          [
           1,
           0.9999990852014313
          ],
          [
           1,
           0.9999991424785708
          ],
          [
           1,
           0.9999990848502135
          ],
          [
           1,
           0.9999990960491363
          ],
          [
           1,
           0.9999991650937587
          ],
          [
           0,
           0.9999991175099828
          ],
          [
           2,
           0.9999991178520448
          ],
          [
           0,
           0.999999159316785
          ],
          [
           2,
           0.9999991208526092
          ],
          [
           2,
           0.9999991509404645
          ]
         ],
         "hovertemplate": "noise=0.001<br>N=%{x}<br>tau=%{y}<br>beta_ind=%{customdata[0]}<br>r2=%{customdata[1]}<extra></extra>",
         "legendgroup": "0.001",
         "line": {
          "color": "#EF553B",
          "dash": "solid"
         },
         "marker": {
          "symbol": "circle"
         },
         "mode": "lines",
         "name": "0.001",
         "orientation": "v",
         "showlegend": true,
         "type": "scatter",
         "x": [
          1,
          10,
          11,
          12,
          13,
          14,
          15,
          16,
          17,
          18,
          19,
          2,
          20,
          21,
          22,
          23,
          24,
          25,
          26,
          27,
          28,
          29,
          3,
          30,
          31,
          32,
          33,
          34,
          35,
          36,
          37,
          38,
          39,
          4,
          40,
          41,
          42,
          43,
          44,
          45,
          46,
          47,
          48,
          49,
          5,
          50,
          6,
          7,
          8,
          9
         ],
         "xaxis": "x",
         "y": [
          4,
          50,
          4,
          19,
          33,
          6,
          47,
          3,
          32,
          3,
          47,
          33,
          14,
          8,
          49,
          33,
          48,
          10,
          3,
          31,
          35,
          49,
          17,
          25,
          50,
          1,
          20,
          46,
          36,
          45,
          38,
          39,
          44,
          34,
          44,
          34,
          17,
          32,
          29,
          2,
          34,
          18,
          44,
          5,
          3,
          49,
          9,
          3,
          49,
          8
         ],
         "yaxis": "y"
        },
        {
         "customdata": [
          [
           4,
           0.9999267027515799
          ],
          [
           2,
           0.999915745356148
          ],
          [
           2,
           0.9999120233421313
          ],
          [
           2,
           0.9999120126964596
          ],
          [
           1,
           0.9999102684856127
          ],
          [
           2,
           0.9999296880556463
          ],
          [
           1,
           0.9999164377464596
          ],
          [
           0,
           0.999910637834931
          ],
          [
           0,
           0.9999092551068479
          ],
          [
           1,
           0.9999144518864674
          ],
          [
           2,
           0.9999181622671856
          ],
          [
           3,
           0.9999165208236305
          ],
          [
           0,
           0.9999162252478383
          ],
          [
           1,
           0.9999131890127185
          ],
          [
           0,
           0.9999108422577777
          ],
          [
           0,
           0.9999104981224115
          ],
          [
           0,
           0.9999091349449178
          ],
          [
           1,
           0.999915606523243
          ],
          [
           2,
           0.9999185109706671
          ],
          [
           0,
           0.9999126088950332
          ],
          [
           0,
           0.9999169544030332
          ],
          [
           0,
           0.9999060441818938
          ],
          [
           2,
           0.9999111351101801
          ],
          [
           2,
           0.9999065531062951
          ],
          [
           1,
           0.9999139017464699
          ],
          [
           1,
           0.9999127550142748
          ],
          [
           0,
           0.999914354592861
          ],
          [
           1,
           0.9999143558665629
          ],
          [
           2,
           0.9999084740070977
          ],
          [
           0,
           0.9999088725684601
          ],
          [
           0,
           0.9999149855131199
          ],
          [
           1,
           0.9999185925301014
          ],
          [
           0,
           0.9999250233783692
          ],
          [
           1,
           0.9999158686265276
          ],
          [
           0,
           0.9999155028802833
          ],
          [
           0,
           0.9999134105967064
          ],
          [
           1,
           0.9999161627170432
          ],
          [
           0,
           0.9999104031306096
          ],
          [
           0,
           0.9999249132206046
          ],
          [
           0,
           0.9999106432319657
          ],
          [
           2,
           0.9999298805126445
          ],
          [
           0,
           0.9999123911687912
          ],
          [
           1,
           0.9999174607564434
          ],
          [
           1,
           0.9999135485708714
          ],
          [
           0,
           0.9999169050183142
          ],
          [
           0,
           0.9999120788481206
          ],
          [
           1,
           0.999915397968203
          ],
          [
           2,
           0.9999112789439826
          ],
          [
           0,
           0.9999271017538924
          ],
          [
           1,
           0.9999119566715585
          ]
         ],
         "hovertemplate": "noise=0.01<br>N=%{x}<br>tau=%{y}<br>beta_ind=%{customdata[0]}<br>r2=%{customdata[1]}<extra></extra>",
         "legendgroup": "0.01",
         "line": {
          "color": "#00cc96",
          "dash": "solid"
         },
         "marker": {
          "symbol": "circle"
         },
         "mode": "lines",
         "name": "0.01",
         "orientation": "v",
         "showlegend": true,
         "type": "scatter",
         "x": [
          1,
          10,
          11,
          12,
          13,
          14,
          15,
          16,
          17,
          18,
          19,
          2,
          20,
          21,
          22,
          23,
          24,
          25,
          26,
          27,
          28,
          29,
          3,
          30,
          31,
          32,
          33,
          34,
          35,
          36,
          37,
          38,
          39,
          4,
          40,
          41,
          42,
          43,
          44,
          45,
          46,
          47,
          48,
          49,
          5,
          50,
          6,
          7,
          8,
          9
         ],
         "xaxis": "x",
         "y": [
          6,
          12,
          9,
          4,
          8,
          6,
          5,
          41,
          17,
          13,
          10,
          50,
          1,
          25,
          38,
          6,
          2,
          4,
          28,
          10,
          5,
          3,
          38,
          3,
          2,
          10,
          3,
          7,
          20,
          4,
          50,
          9,
          7,
          38,
          3,
          50,
          6,
          48,
          32,
          33,
          34,
          14,
          50,
          1,
          5,
          44,
          5,
          4,
          49,
          49
         ],
         "yaxis": "y"
        },
        {
         "customdata": [
          [
           2,
           0.9921012620494493
          ],
          [
           2,
           0.9928235931303206
          ],
          [
           1,
           0.9912876854279753
          ],
          [
           2,
           0.9913482764172591
          ],
          [
           0,
           0.9921135326941151
          ],
          [
           1,
           0.9919620419335177
          ],
          [
           1,
           0.99120108054398
          ],
          [
           1,
           0.9918078456381538
          ],
          [
           2,
           0.9921447174431571
          ],
          [
           1,
           0.9921832464078337
          ],
          [
           3,
           0.9916369451708233
          ],
          [
           3,
           0.9920156978333535
          ],
          [
           1,
           0.9917370683725429
          ],
          [
           2,
           0.9917547058705029
          ],
          [
           1,
           0.9917472620537738
          ],
          [
           1,
           0.9918922476952986
          ],
          [
           3,
           0.9911783555053576
          ],
          [
           1,
           0.9915872947458451
          ],
          [
           2,
           0.9920799054871865
          ],
          [
           0,
           0.9913758715317146
          ],
          [
           1,
           0.9915517894729706
          ],
          [
           2,
           0.9925425846656327
          ],
          [
           1,
           0.9914592096972225
          ],
          [
           1,
           0.9921086387340757
          ],
          [
           3,
           0.9917448565204853
          ],
          [
           2,
           0.9919944554599551
          ],
          [
           12,
           0.9916192013333609
          ],
          [
           7,
           0.9924664717321842
          ],
          [
           11,
           0.9923952375359073
          ],
          [
           10,
           0.9925940544650725
          ],
          [
           9,
           0.9921184012385288
          ],
          [
           8,
           0.9927779207532688
          ],
          [
           11,
           0.9928267503075475
          ],
          [
           0,
           0.9920240028812821
          ],
          [
           8,
           0.9925303406658897
          ],
          [
           10,
           0.9929816249878225
          ],
          [
           9,
           0.9926410350477629
          ],
          [
           8,
           0.9932845281923852
          ],
          [
           8,
           0.9930114350769184
          ],
          [
           8,
           0.9933755755514037
          ],
          [
           8,
           0.9933007464258284
          ],
          [
           7,
           0.9931157508374897
          ],
          [
           8,
           0.993069202885732
          ],
          [
           9,
           0.9932850943253594
          ],
          [
           1,
           0.9914723953557283
          ],
          [
           8,
           0.9933876117890335
          ],
          [
           2,
           0.9913617111368823
          ],
          [
           2,
           0.9914665741178773
          ],
          [
           2,
           0.9925802921025436
          ],
          [
           2,
           0.9915263263390875
          ]
         ],
         "hovertemplate": "noise=0.1<br>N=%{x}<br>tau=%{y}<br>beta_ind=%{customdata[0]}<br>r2=%{customdata[1]}<extra></extra>",
         "legendgroup": "0.1",
         "line": {
          "color": "#ab63fa",
          "dash": "solid"
         },
         "marker": {
          "symbol": "circle"
         },
         "mode": "lines",
         "name": "0.1",
         "orientation": "v",
         "showlegend": true,
         "type": "scatter",
         "x": [
          1,
          10,
          11,
          12,
          13,
          14,
          15,
          16,
          17,
          18,
          19,
          2,
          20,
          21,
          22,
          23,
          24,
          25,
          26,
          27,
          28,
          29,
          3,
          30,
          31,
          32,
          33,
          34,
          35,
          36,
          37,
          38,
          39,
          4,
          40,
          41,
          42,
          43,
          44,
          45,
          46,
          47,
          48,
          49,
          5,
          50,
          6,
          7,
          8,
          9
         ],
         "xaxis": "x",
         "y": [
          14,
          47,
          15,
          1,
          17,
          35,
          27,
          36,
          18,
          39,
          11,
          46,
          50,
          23,
          36,
          34,
          11,
          8,
          3,
          25,
          20,
          50,
          50,
          33,
          18,
          5,
          16,
          18,
          16,
          17,
          17,
          21,
          17,
          37,
          19,
          22,
          19,
          22,
          19,
          21,
          24,
          19,
          21,
          22,
          47,
          21,
          1,
          13,
          11,
          38
         ],
         "yaxis": "y"
        },
        {
         "customdata": [
          [
           16,
           0.8331925990306956
          ],
          [
           12,
           0.9102000899411576
          ],
          [
           12,
           0.9213014673637395
          ],
          [
           10,
           0.9167386778019689
          ],
          [
           14,
           0.9138202338397983
          ],
          [
           17,
           0.9178999882310857
          ],
          [
           18,
           0.9256538201146584
          ],
          [
           14,
           0.9191219560697502
          ],
          [
           18,
           0.9168097767528067
          ],
          [
           15,
           0.9229830359527651
          ],
          [
           17,
           0.9250255359609258
          ],
          [
           8,
           0.8612530535639242
          ],
          [
           18,
           0.9258272048942046
          ],
          [
           18,
           0.9284934104766718
          ],
          [
           9,
           0.9249840149591686
          ],
          [
           19,
           0.9259114369677083
          ],
          [
           14,
           0.9268261912713764
          ],
          [
           16,
           0.9322839862555922
          ],
          [
           10,
           0.9285011287376762
          ],
          [
           12,
           0.9295371985538169
          ],
          [
           19,
           0.9294025655455943
          ],
          [
           14,
           0.927462529248296
          ],
          [
           16,
           0.8638440734409689
          ],
          [
           17,
           0.9320830249193299
          ],
          [
           19,
           0.9307371824045215
          ],
          [
           18,
           0.9312865215176446
          ],
          [
           17,
           0.9332369376874861
          ],
          [
           12,
           0.9354814973872813
          ],
          [
           16,
           0.9257954540406327
          ],
          [
           15,
           0.9297110798787417
          ],
          [
           12,
           0.9294531500753617
          ],
          [
           19,
           0.9272930338417089
          ],
          [
           18,
           0.9322426989577404
          ],
          [
           14,
           0.8720244706299267
          ],
          [
           17,
           0.9364228794386051
          ],
          [
           11,
           0.9319440350852304
          ],
          [
           13,
           0.9337754647161915
          ],
          [
           15,
           0.9275608239768576
          ],
          [
           12,
           0.9390109325653616
          ],
          [
           18,
           0.9287868900483913
          ],
          [
           16,
           0.939961894825351
          ],
          [
           17,
           0.9343281150206713
          ],
          [
           12,
           0.9369485796548225
          ],
          [
           14,
           0.9342112324794645
          ],
          [
           16,
           0.8817232448371798
          ],
          [
           13,
           0.936527363723389
          ],
          [
           17,
           0.897468541446961
          ],
          [
           19,
           0.9006247743781198
          ],
          [
           19,
           0.9009738942148403
          ],
          [
           18,
           0.9079952875695748
          ]
         ],
         "hovertemplate": "noise=0.5<br>N=%{x}<br>tau=%{y}<br>beta_ind=%{customdata[0]}<br>r2=%{customdata[1]}<extra></extra>",
         "legendgroup": "0.5",
         "line": {
          "color": "#FFA15A",
          "dash": "solid"
         },
         "marker": {
          "symbol": "circle"
         },
         "mode": "lines",
         "name": "0.5",
         "orientation": "v",
         "showlegend": true,
         "type": "scatter",
         "x": [
          1,
          10,
          11,
          12,
          13,
          14,
          15,
          16,
          17,
          18,
          19,
          2,
          20,
          21,
          22,
          23,
          24,
          25,
          26,
          27,
          28,
          29,
          3,
          30,
          31,
          32,
          33,
          34,
          35,
          36,
          37,
          38,
          39,
          4,
          40,
          41,
          42,
          43,
          44,
          45,
          46,
          47,
          48,
          49,
          5,
          50,
          6,
          7,
          8,
          9
         ],
         "xaxis": "x",
         "y": [
          1,
          6,
          8,
          8,
          9,
          18,
          10,
          19,
          13,
          11,
          13,
          7,
          22,
          14,
          13,
          15,
          13,
          16,
          15,
          26,
          16,
          16,
          2,
          32,
          27,
          14,
          29,
          21,
          26,
          24,
          17,
          28,
          29,
          6,
          23,
          33,
          32,
          33,
          27,
          28,
          32,
          33,
          26,
          24,
          6,
          29,
          6,
          6,
          6,
          7
         ],
         "yaxis": "y"
        },
        {
         "customdata": [
          [
           11,
           0.6534172092090627
          ],
          [
           18,
           0.7774221650976132
          ],
          [
           17,
           0.7859929825529202
          ],
          [
           17,
           0.7709420864450179
          ],
          [
           18,
           0.7899093210587329
          ],
          [
           19,
           0.7954381902020398
          ],
          [
           18,
           0.7711320934351265
          ],
          [
           14,
           0.7761617297529694
          ],
          [
           12,
           0.7571151850194805
          ],
          [
           16,
           0.7935919658609595
          ],
          [
           18,
           0.793001281581813
          ],
          [
           17,
           0.6661730587335495
          ],
          [
           14,
           0.7870479951693927
          ],
          [
           14,
           0.7756534252573359
          ],
          [
           9,
           0.8066937437481142
          ],
          [
           16,
           0.8129205410975393
          ],
          [
           18,
           0.801291061406499
          ],
          [
           17,
           0.7958872347448692
          ],
          [
           17,
           0.8071641976651128
          ],
          [
           8,
           0.774106182268851
          ],
          [
           16,
           0.7948580566475101
          ],
          [
           16,
           0.795961204570926
          ],
          [
           16,
           0.6648977079407233
          ],
          [
           19,
           0.802970231088489
          ],
          [
           16,
           0.8164899333207862
          ],
          [
           15,
           0.7890581092308718
          ],
          [
           18,
           0.8015360168226676
          ],
          [
           17,
           0.8068704978858221
          ],
          [
           13,
           0.8186445003501834
          ],
          [
           14,
           0.7983979783870093
          ],
          [
           19,
           0.8106735637753983
          ],
          [
           10,
           0.8018256681027789
          ],
          [
           10,
           0.789684194065688
          ],
          [
           13,
           0.70687678980057
          ],
          [
           13,
           0.7986342816112186
          ],
          [
           17,
           0.7995661193631327
          ],
          [
           18,
           0.8166778304265583
          ],
          [
           18,
           0.8033344573512102
          ],
          [
           14,
           0.8287606255816841
          ],
          [
           13,
           0.7983438852811553
          ],
          [
           19,
           0.8061192139607287
          ],
          [
           12,
           0.8310954475035682
          ],
          [
           19,
           0.8105239488098889
          ],
          [
           16,
           0.8113088330924733
          ],
          [
           18,
           0.7193176442341367
          ],
          [
           15,
           0.8059195309504149
          ],
          [
           15,
           0.7542151738392601
          ],
          [
           10,
           0.7413345406782834
          ],
          [
           12,
           0.748684097017386
          ],
          [
           17,
           0.7466989432994942
          ]
         ],
         "hovertemplate": "noise=1.0<br>N=%{x}<br>tau=%{y}<br>beta_ind=%{customdata[0]}<br>r2=%{customdata[1]}<extra></extra>",
         "legendgroup": "1.0",
         "line": {
          "color": "#19d3f3",
          "dash": "solid"
         },
         "marker": {
          "symbol": "circle"
         },
         "mode": "lines",
         "name": "1.0",
         "orientation": "v",
         "showlegend": true,
         "type": "scatter",
         "x": [
          1,
          10,
          11,
          12,
          13,
          14,
          15,
          16,
          17,
          18,
          19,
          2,
          20,
          21,
          22,
          23,
          24,
          25,
          26,
          27,
          28,
          29,
          3,
          30,
          31,
          32,
          33,
          34,
          35,
          36,
          37,
          38,
          39,
          4,
          40,
          41,
          42,
          43,
          44,
          45,
          46,
          47,
          48,
          49,
          5,
          50,
          6,
          7,
          8,
          9
         ],
         "xaxis": "x",
         "y": [
          29,
          24,
          13,
          25,
          20,
          17,
          24,
          21,
          27,
          30,
          18,
          13,
          31,
          41,
          36,
          21,
          17,
          28,
          13,
          44,
          16,
          27,
          4,
          31,
          50,
          23,
          31,
          40,
          28,
          13,
          21,
          42,
          28,
          31,
          50,
          32,
          40,
          25,
          47,
          28,
          49,
          42,
          25,
          30,
          10,
          50,
          13,
          18,
          12,
          16
         ],
         "yaxis": "y"
        },
        {
         "customdata": [
          [
           14,
           0.304790708341777
          ],
          [
           6,
           0.3568384615334025
          ],
          [
           19,
           0.3287074642309318
          ],
          [
           14,
           0.33904307767512887
          ],
          [
           13,
           0.3716604687441035
          ],
          [
           19,
           0.28850242990771746
          ],
          [
           17,
           0.41745175491351416
          ],
          [
           15,
           0.4976116848858161
          ],
          [
           8,
           0.34383591792515
          ],
          [
           10,
           0.45823343180326603
          ],
          [
           12,
           0.3605603002968186
          ],
          [
           10,
           0.3543395438364223
          ],
          [
           12,
           0.41873981295507945
          ],
          [
           8,
           0.3633785088666873
          ],
          [
           15,
           0.36343672317702347
          ],
          [
           19,
           0.3950330837166719
          ],
          [
           13,
           0.36434949850950116
          ],
          [
           15,
           0.4256204566921735
          ],
          [
           9,
           0.3777851746783324
          ],
          [
           13,
           0.36968919654880916
          ],
          [
           18,
           0.4168905927013389
          ],
          [
           8,
           0.3797198002909189
          ],
          [
           18,
           0.26979401380749535
          ],
          [
           19,
           0.34141291289621734
          ],
          [
           18,
           0.3930172122778752
          ],
          [
           19,
           0.4535792091826799
          ],
          [
           14,
           0.4401370279291482
          ],
          [
           15,
           0.41425444153020263
          ],
          [
           9,
           0.4181446080608403
          ],
          [
           14,
           0.47365904206234877
          ],
          [
           10,
           0.42559388158175604
          ],
          [
           13,
           0.46281661055786527
          ],
          [
           16,
           0.3944724154805528
          ],
          [
           19,
           0.30957277454966603
          ],
          [
           9,
           0.35153489059963927
          ],
          [
           6,
           0.4540006455573965
          ],
          [
           7,
           0.4031042801750766
          ],
          [
           14,
           0.37627630132046674
          ],
          [
           6,
           0.4227494857079701
          ],
          [
           16,
           0.4508302978602907
          ],
          [
           17,
           0.4328262681292988
          ],
          [
           18,
           0.4148317657387651
          ],
          [
           18,
           0.42957780077249497
          ],
          [
           16,
           0.4083441954729886
          ],
          [
           16,
           0.31913678241457555
          ],
          [
           17,
           0.4445786552402643
          ],
          [
           10,
           0.3096076333709288
          ],
          [
           12,
           0.38529162252909
          ],
          [
           10,
           0.37423569483949337
          ],
          [
           12,
           0.34777500855510723
          ]
         ],
         "hovertemplate": "noise=3.0<br>N=%{x}<br>tau=%{y}<br>beta_ind=%{customdata[0]}<br>r2=%{customdata[1]}<extra></extra>",
         "legendgroup": "3.0",
         "line": {
          "color": "#FF6692",
          "dash": "solid"
         },
         "marker": {
          "symbol": "circle"
         },
         "mode": "lines",
         "name": "3.0",
         "orientation": "v",
         "showlegend": true,
         "type": "scatter",
         "x": [
          1,
          10,
          11,
          12,
          13,
          14,
          15,
          16,
          17,
          18,
          19,
          2,
          20,
          21,
          22,
          23,
          24,
          25,
          26,
          27,
          28,
          29,
          3,
          30,
          31,
          32,
          33,
          34,
          35,
          36,
          37,
          38,
          39,
          4,
          40,
          41,
          42,
          43,
          44,
          45,
          46,
          47,
          48,
          49,
          5,
          50,
          6,
          7,
          8,
          9
         ],
         "xaxis": "x",
         "y": [
          3,
          46,
          13,
          40,
          11,
          43,
          29,
          24,
          13,
          32,
          30,
          29,
          50,
          35,
          21,
          30,
          50,
          30,
          44,
          14,
          27,
          36,
          48,
          14,
          12,
          37,
          17,
          45,
          21,
          45,
          31,
          50,
          12,
          29,
          15,
          50,
          44,
          41,
          40,
          45,
          30,
          42,
          28,
          31,
          6,
          48,
          32,
          47,
          19,
          21
         ],
         "yaxis": "y"
        },
        {
         "customdata": [
          [
           18,
           0.22497490030314804
          ],
          [
           14,
           0.24152893732361025
          ],
          [
           11,
           0.22777531964086362
          ],
          [
           17,
           0.2997172239107031
          ],
          [
           17,
           0.23711061256090082
          ],
          [
           14,
           0.24294984859842206
          ],
          [
           14,
           0.20757961628934907
          ],
          [
           15,
           0.23065080227858514
          ],
          [
           17,
           0.20522315377288003
          ],
          [
           8,
           0.23136264502965975
          ],
          [
           16,
           0.2187088239102708
          ],
          [
           18,
           0.2725480212134982
          ],
          [
           17,
           0.2401631603464094
          ],
          [
           17,
           0.252551423230732
          ],
          [
           10,
           0.2706222364874782
          ],
          [
           14,
           0.25634604832926144
          ],
          [
           7,
           0.20986616941825553
          ],
          [
           8,
           0.205465358416134
          ],
          [
           14,
           0.242245662011784
          ],
          [
           14,
           0.23752122536265752
          ],
          [
           9,
           0.23648663162809724
          ],
          [
           12,
           0.2582117111532509
          ],
          [
           9,
           0.2174340943757186
          ],
          [
           19,
           0.28727199343749465
          ],
          [
           10,
           0.309705848567316
          ],
          [
           18,
           0.25187831855925746
          ],
          [
           7,
           0.24773128074799144
          ],
          [
           19,
           0.2255782908021191
          ],
          [
           16,
           0.272620392306791
          ],
          [
           17,
           0.23037520689097357
          ],
          [
           14,
           0.26657071960932754
          ],
          [
           18,
           0.25956364293227385
          ],
          [
           19,
           0.24907049750318888
          ],
          [
           14,
           0.21747822416849727
          ],
          [
           18,
           0.26800869234446245
          ],
          [
           10,
           0.2820768965351157
          ],
          [
           7,
           0.3031291351151155
          ],
          [
           10,
           0.275385559545391
          ],
          [
           5,
           0.25545075719176513
          ],
          [
           14,
           0.24418636393568993
          ],
          [
           10,
           0.2957756816626246
          ],
          [
           9,
           0.24912561589043314
          ],
          [
           14,
           0.2554810782946636
          ],
          [
           16,
           0.34464584104359686
          ],
          [
           9,
           0.25873607677004595
          ],
          [
           16,
           0.240596631712389
          ],
          [
           7,
           0.20406248548306383
          ],
          [
           8,
           0.23166055705580468
          ],
          [
           14,
           0.28721591039158534
          ],
          [
           9,
           0.2120260749541697
          ]
         ],
         "hovertemplate": "noise=5.0<br>N=%{x}<br>tau=%{y}<br>beta_ind=%{customdata[0]}<br>r2=%{customdata[1]}<extra></extra>",
         "legendgroup": "5.0",
         "line": {
          "color": "#B6E880",
          "dash": "solid"
         },
         "marker": {
          "symbol": "circle"
         },
         "mode": "lines",
         "name": "5.0",
         "orientation": "v",
         "showlegend": true,
         "type": "scatter",
         "x": [
          1,
          10,
          11,
          12,
          13,
          14,
          15,
          16,
          17,
          18,
          19,
          2,
          20,
          21,
          22,
          23,
          24,
          25,
          26,
          27,
          28,
          29,
          3,
          30,
          31,
          32,
          33,
          34,
          35,
          36,
          37,
          38,
          39,
          4,
          40,
          41,
          42,
          43,
          44,
          45,
          46,
          47,
          48,
          49,
          5,
          50,
          6,
          7,
          8,
          9
         ],
         "xaxis": "x",
         "y": [
          31,
          43,
          43,
          25,
          41,
          20,
          16,
          47,
          45,
          30,
          39,
          29,
          45,
          50,
          48,
          32,
          50,
          45,
          13,
          48,
          50,
          32,
          22,
          20,
          16,
          50,
          31,
          44,
          32,
          19,
          34,
          49,
          35,
          12,
          49,
          50,
          35,
          16,
          36,
          50,
          32,
          44,
          30,
          49,
          45,
          50,
          22,
          24,
          46,
          13
         ],
         "yaxis": "y"
        }
       ],
       "layout": {
        "legend": {
         "title": {
          "text": "noise"
         },
         "tracegroupgap": 0
        },
        "template": {
         "data": {
          "bar": [
           {
            "error_x": {
             "color": "#2a3f5f"
            },
            "error_y": {
             "color": "#2a3f5f"
            },
            "marker": {
             "line": {
              "color": "#E5ECF6",
              "width": 0.5
             },
             "pattern": {
              "fillmode": "overlay",
              "size": 10,
              "solidity": 0.2
             }
            },
            "type": "bar"
           }
          ],
          "barpolar": [
           {
            "marker": {
             "line": {
              "color": "#E5ECF6",
              "width": 0.5
             },
             "pattern": {
              "fillmode": "overlay",
              "size": 10,
              "solidity": 0.2
             }
            },
            "type": "barpolar"
           }
          ],
          "carpet": [
           {
            "aaxis": {
             "endlinecolor": "#2a3f5f",
             "gridcolor": "white",
             "linecolor": "white",
             "minorgridcolor": "white",
             "startlinecolor": "#2a3f5f"
            },
            "baxis": {
             "endlinecolor": "#2a3f5f",
             "gridcolor": "white",
             "linecolor": "white",
             "minorgridcolor": "white",
             "startlinecolor": "#2a3f5f"
            },
            "type": "carpet"
           }
          ],
          "choropleth": [
           {
            "colorbar": {
             "outlinewidth": 0,
             "ticks": ""
            },
            "type": "choropleth"
           }
          ],
          "contour": [
           {
            "colorbar": {
             "outlinewidth": 0,
             "ticks": ""
            },
            "colorscale": [
             [
              0,
              "#0d0887"
             ],
             [
              0.1111111111111111,
              "#46039f"
             ],
             [
              0.2222222222222222,
              "#7201a8"
             ],
             [
              0.3333333333333333,
              "#9c179e"
             ],
             [
              0.4444444444444444,
              "#bd3786"
             ],
             [
              0.5555555555555556,
              "#d8576b"
             ],
             [
              0.6666666666666666,
              "#ed7953"
             ],
             [
              0.7777777777777778,
              "#fb9f3a"
             ],
             [
              0.8888888888888888,
              "#fdca26"
             ],
             [
              1,
              "#f0f921"
             ]
            ],
            "type": "contour"
           }
          ],
          "contourcarpet": [
           {
            "colorbar": {
             "outlinewidth": 0,
             "ticks": ""
            },
            "type": "contourcarpet"
           }
          ],
          "heatmap": [
           {
            "colorbar": {
             "outlinewidth": 0,
             "ticks": ""
            },
            "colorscale": [
             [
              0,
              "#0d0887"
             ],
             [
              0.1111111111111111,
              "#46039f"
             ],
             [
              0.2222222222222222,
              "#7201a8"
             ],
             [
              0.3333333333333333,
              "#9c179e"
             ],
             [
              0.4444444444444444,
              "#bd3786"
             ],
             [
              0.5555555555555556,
              "#d8576b"
             ],
             [
              0.6666666666666666,
              "#ed7953"
             ],
             [
              0.7777777777777778,
              "#fb9f3a"
             ],
             [
              0.8888888888888888,
              "#fdca26"
             ],
             [
              1,
              "#f0f921"
             ]
            ],
            "type": "heatmap"
           }
          ],
          "heatmapgl": [
           {
            "colorbar": {
             "outlinewidth": 0,
             "ticks": ""
            },
            "colorscale": [
             [
              0,
              "#0d0887"
             ],
             [
              0.1111111111111111,
              "#46039f"
             ],
             [
              0.2222222222222222,
              "#7201a8"
             ],
             [
              0.3333333333333333,
              "#9c179e"
             ],
             [
              0.4444444444444444,
              "#bd3786"
             ],
             [
              0.5555555555555556,
              "#d8576b"
             ],
             [
              0.6666666666666666,
              "#ed7953"
             ],
             [
              0.7777777777777778,
              "#fb9f3a"
             ],
             [
              0.8888888888888888,
              "#fdca26"
             ],
             [
              1,
              "#f0f921"
             ]
            ],
            "type": "heatmapgl"
           }
          ],
          "histogram": [
           {
            "marker": {
             "pattern": {
              "fillmode": "overlay",
              "size": 10,
              "solidity": 0.2
             }
            },
            "type": "histogram"
           }
          ],
          "histogram2d": [
           {
            "colorbar": {
             "outlinewidth": 0,
             "ticks": ""
            },
            "colorscale": [
             [
              0,
              "#0d0887"
             ],
             [
              0.1111111111111111,
              "#46039f"
             ],
             [
              0.2222222222222222,
              "#7201a8"
             ],
             [
              0.3333333333333333,
              "#9c179e"
             ],
             [
              0.4444444444444444,
              "#bd3786"
             ],
             [
              0.5555555555555556,
              "#d8576b"
             ],
             [
              0.6666666666666666,
              "#ed7953"
             ],
             [
              0.7777777777777778,
              "#fb9f3a"
             ],
             [
              0.8888888888888888,
              "#fdca26"
             ],
             [
              1,
              "#f0f921"
             ]
            ],
            "type": "histogram2d"
           }
          ],
          "histogram2dcontour": [
           {
            "colorbar": {
             "outlinewidth": 0,
             "ticks": ""
            },
            "colorscale": [
             [
              0,
              "#0d0887"
             ],
             [
              0.1111111111111111,
              "#46039f"
             ],
             [
              0.2222222222222222,
              "#7201a8"
             ],
             [
              0.3333333333333333,
              "#9c179e"
             ],
             [
              0.4444444444444444,
              "#bd3786"
             ],
             [
              0.5555555555555556,
              "#d8576b"
             ],
             [
              0.6666666666666666,
              "#ed7953"
             ],
             [
              0.7777777777777778,
              "#fb9f3a"
             ],
             [
              0.8888888888888888,
              "#fdca26"
             ],
             [
              1,
              "#f0f921"
             ]
            ],
            "type": "histogram2dcontour"
           }
          ],
          "mesh3d": [
           {
            "colorbar": {
             "outlinewidth": 0,
             "ticks": ""
            },
            "type": "mesh3d"
           }
          ],
          "parcoords": [
           {
            "line": {
             "colorbar": {
              "outlinewidth": 0,
              "ticks": ""
             }
            },
            "type": "parcoords"
           }
          ],
          "pie": [
           {
            "automargin": true,
            "type": "pie"
           }
          ],
          "scatter": [
           {
            "marker": {
             "colorbar": {
              "outlinewidth": 0,
              "ticks": ""
             }
            },
            "type": "scatter"
           }
          ],
          "scatter3d": [
           {
            "line": {
             "colorbar": {
              "outlinewidth": 0,
              "ticks": ""
             }
            },
            "marker": {
             "colorbar": {
              "outlinewidth": 0,
              "ticks": ""
             }
            },
            "type": "scatter3d"
           }
          ],
          "scattercarpet": [
           {
            "marker": {
             "colorbar": {
              "outlinewidth": 0,
              "ticks": ""
             }
            },
            "type": "scattercarpet"
           }
          ],
          "scattergeo": [
           {
            "marker": {
             "colorbar": {
              "outlinewidth": 0,
              "ticks": ""
             }
            },
            "type": "scattergeo"
           }
          ],
          "scattergl": [
           {
            "marker": {
             "colorbar": {
              "outlinewidth": 0,
              "ticks": ""
             }
            },
            "type": "scattergl"
           }
          ],
          "scattermapbox": [
           {
            "marker": {
             "colorbar": {
              "outlinewidth": 0,
              "ticks": ""
             }
            },
            "type": "scattermapbox"
           }
          ],
          "scatterpolar": [
           {
            "marker": {
             "colorbar": {
              "outlinewidth": 0,
              "ticks": ""
             }
            },
            "type": "scatterpolar"
           }
          ],
          "scatterpolargl": [
           {
            "marker": {
             "colorbar": {
              "outlinewidth": 0,
              "ticks": ""
             }
            },
            "type": "scatterpolargl"
           }
          ],
          "scatterternary": [
           {
            "marker": {
             "colorbar": {
              "outlinewidth": 0,
              "ticks": ""
             }
            },
            "type": "scatterternary"
           }
          ],
          "surface": [
           {
            "colorbar": {
             "outlinewidth": 0,
             "ticks": ""
            },
            "colorscale": [
             [
              0,
              "#0d0887"
             ],
             [
              0.1111111111111111,
              "#46039f"
             ],
             [
              0.2222222222222222,
              "#7201a8"
             ],
             [
              0.3333333333333333,
              "#9c179e"
             ],
             [
              0.4444444444444444,
              "#bd3786"
             ],
             [
              0.5555555555555556,
              "#d8576b"
             ],
             [
              0.6666666666666666,
              "#ed7953"
             ],
             [
              0.7777777777777778,
              "#fb9f3a"
             ],
             [
              0.8888888888888888,
              "#fdca26"
             ],
             [
              1,
              "#f0f921"
             ]
            ],
            "type": "surface"
           }
          ],
          "table": [
           {
            "cells": {
             "fill": {
              "color": "#EBF0F8"
             },
             "line": {
              "color": "white"
             }
            },
            "header": {
             "fill": {
              "color": "#C8D4E3"
             },
             "line": {
              "color": "white"
             }
            },
            "type": "table"
           }
          ]
         },
         "layout": {
          "annotationdefaults": {
           "arrowcolor": "#2a3f5f",
           "arrowhead": 0,
           "arrowwidth": 1
          },
          "autotypenumbers": "strict",
          "coloraxis": {
           "colorbar": {
            "outlinewidth": 0,
            "ticks": ""
           }
          },
          "colorscale": {
           "diverging": [
            [
             0,
             "#8e0152"
            ],
            [
             0.1,
             "#c51b7d"
            ],
            [
             0.2,
             "#de77ae"
            ],
            [
             0.3,
             "#f1b6da"
            ],
            [
             0.4,
             "#fde0ef"
            ],
            [
             0.5,
             "#f7f7f7"
            ],
            [
             0.6,
             "#e6f5d0"
            ],
            [
             0.7,
             "#b8e186"
            ],
            [
             0.8,
             "#7fbc41"
            ],
            [
             0.9,
             "#4d9221"
            ],
            [
             1,
             "#276419"
            ]
           ],
           "sequential": [
            [
             0,
             "#0d0887"
            ],
            [
             0.1111111111111111,
             "#46039f"
            ],
            [
             0.2222222222222222,
             "#7201a8"
            ],
            [
             0.3333333333333333,
             "#9c179e"
            ],
            [
             0.4444444444444444,
             "#bd3786"
            ],
            [
             0.5555555555555556,
             "#d8576b"
            ],
            [
             0.6666666666666666,
             "#ed7953"
            ],
            [
             0.7777777777777778,
             "#fb9f3a"
            ],
            [
             0.8888888888888888,
             "#fdca26"
            ],
            [
             1,
             "#f0f921"
            ]
           ],
           "sequentialminus": [
            [
             0,
             "#0d0887"
            ],
            [
             0.1111111111111111,
             "#46039f"
            ],
            [
             0.2222222222222222,
             "#7201a8"
            ],
            [
             0.3333333333333333,
             "#9c179e"
            ],
            [
             0.4444444444444444,
             "#bd3786"
            ],
            [
             0.5555555555555556,
             "#d8576b"
            ],
            [
             0.6666666666666666,
             "#ed7953"
            ],
            [
             0.7777777777777778,
             "#fb9f3a"
            ],
            [
             0.8888888888888888,
             "#fdca26"
            ],
            [
             1,
             "#f0f921"
            ]
           ]
          },
          "colorway": [
           "#636efa",
           "#EF553B",
           "#00cc96",
           "#ab63fa",
           "#FFA15A",
           "#19d3f3",
           "#FF6692",
           "#B6E880",
           "#FF97FF",
           "#FECB52"
          ],
          "font": {
           "color": "#2a3f5f"
          },
          "geo": {
           "bgcolor": "white",
           "lakecolor": "white",
           "landcolor": "#E5ECF6",
           "showlakes": true,
           "showland": true,
           "subunitcolor": "white"
          },
          "hoverlabel": {
           "align": "left"
          },
          "hovermode": "closest",
          "mapbox": {
           "style": "light"
          },
          "paper_bgcolor": "white",
          "plot_bgcolor": "#E5ECF6",
          "polar": {
           "angularaxis": {
            "gridcolor": "white",
            "linecolor": "white",
            "ticks": ""
           },
           "bgcolor": "#E5ECF6",
           "radialaxis": {
            "gridcolor": "white",
            "linecolor": "white",
            "ticks": ""
           }
          },
          "scene": {
           "xaxis": {
            "backgroundcolor": "#E5ECF6",
            "gridcolor": "white",
            "gridwidth": 2,
            "linecolor": "white",
            "showbackground": true,
            "ticks": "",
            "zerolinecolor": "white"
           },
           "yaxis": {
            "backgroundcolor": "#E5ECF6",
            "gridcolor": "white",
            "gridwidth": 2,
            "linecolor": "white",
            "showbackground": true,
            "ticks": "",
            "zerolinecolor": "white"
           },
           "zaxis": {
            "backgroundcolor": "#E5ECF6",
            "gridcolor": "white",
            "gridwidth": 2,
            "linecolor": "white",
            "showbackground": true,
            "ticks": "",
            "zerolinecolor": "white"
           }
          },
          "shapedefaults": {
           "line": {
            "color": "#2a3f5f"
           }
          },
          "ternary": {
           "aaxis": {
            "gridcolor": "white",
            "linecolor": "white",
            "ticks": ""
           },
           "baxis": {
            "gridcolor": "white",
            "linecolor": "white",
            "ticks": ""
           },
           "bgcolor": "#E5ECF6",
           "caxis": {
            "gridcolor": "white",
            "linecolor": "white",
            "ticks": ""
           }
          },
          "title": {
           "x": 0.05
          },
          "xaxis": {
           "automargin": true,
           "gridcolor": "white",
           "linecolor": "white",
           "ticks": "",
           "title": {
            "standoff": 15
           },
           "zerolinecolor": "white",
           "zerolinewidth": 2
          },
          "yaxis": {
           "automargin": true,
           "gridcolor": "white",
           "linecolor": "white",
           "ticks": "",
           "title": {
            "standoff": 15
           },
           "zerolinecolor": "white",
           "zerolinewidth": 2
          }
         }
        },
        "title": {
         "text": "N vs tau by different noise levels"
        },
        "xaxis": {
         "anchor": "y",
         "domain": [
          0,
          1
         ],
         "title": {
          "text": "N"
         }
        },
        "yaxis": {
         "anchor": "x",
         "domain": [
          0,
          1
         ],
         "title": {
          "text": "tau"
         }
        }
       }
      },
      "text/html": [
       "<div>                            <div id=\"b4ae716e-4b4d-44ad-883e-49f7ab165fbd\" class=\"plotly-graph-div\" style=\"height:525px; width:100%;\"></div>            <script type=\"text/javascript\">                require([\"plotly\"], function(Plotly) {                    window.PLOTLYENV=window.PLOTLYENV || {};                                    if (document.getElementById(\"b4ae716e-4b4d-44ad-883e-49f7ab165fbd\")) {                    Plotly.newPlot(                        \"b4ae716e-4b4d-44ad-883e-49f7ab165fbd\",                        [{\"customdata\":[[1.0,1.0],[1.0,1.0],[1.0,1.0],[1.0,0.9999999999999999],[1.0,0.9999999999999999],[1.0,0.9999999999999999],[1.0,0.9999999999999999],[1.0,0.9999999999999998],[1.0,0.9999999999999998],[1.0,0.9999999999999997],[1.0,0.9999999999999997],[1.0,1.0],[1.0,0.9999999999999997],[1.0,0.9999999999999996],[1.0,0.9999999999999996],[1.0,1.0],[1.0,1.0],[1.0,1.0],[1.0,1.0],[1.0,1.0],[1.0,1.0],[1.0,1.0],[1.0,1.0],[1.0,1.0],[1.0,1.0],[1.0,1.0],[1.0,1.0],[1.0,1.0],[1.0,1.0],[1.0,1.0],[1.0,1.0],[1.0,0.9999999999999999],[1.0,0.9999999999999999],[1.0,0.9999999999999999],[1.0,0.9999999999999999],[1.0,0.9999999999999999],[1.0,0.9999999999999999],[1.0,0.9999999999999999],[1.0,0.9999999999999999],[1.0,0.9999999999999999],[1.0,0.9999999999999999],[1.0,0.9999999999999999],[1.0,0.9999999999999999],[1.0,0.9999999999999999],[1.0,1.0],[1.0,0.9999999999999999],[1.0,1.0],[1.0,0.9999999999999999],[1.0,0.9999999999999998],[1.0,1.0]],\"hovertemplate\":\"noise=0.0<br>N=%{x}<br>tau=%{y}<br>beta_ind=%{customdata[0]}<br>r2=%{customdata[1]}<extra></extra>\",\"legendgroup\":\"0.0\",\"line\":{\"color\":\"#636efa\",\"dash\":\"solid\"},\"marker\":{\"symbol\":\"circle\"},\"mode\":\"lines\",\"name\":\"0.0\",\"orientation\":\"v\",\"showlegend\":true,\"x\":[1,10,11,12,13,14,15,16,17,18,19,2,20,21,22,23,24,25,26,27,28,29,3,30,31,32,33,34,35,36,37,38,39,4,40,41,42,43,44,45,46,47,48,49,5,50,6,7,8,9],\"xaxis\":\"x\",\"y\":[1,3,4,3,4,5,7,6,8,7,8,1,9,9,10,6,6,7,8,8,9,9,1,10,11,11,12,13,14,15,16,9,9,2,10,10,10,11,11,11,12,12,12,13,1,13,2,3,4,2],\"yaxis\":\"y\",\"type\":\"scatter\"},{\"customdata\":[[2.0,0.9999991853596293],[1.0,0.9999991075017496],[2.0,0.9999991176104486],[0.0,0.999999123545055],[0.0,0.9999991728632216],[1.0,0.9999990879960962],[0.0,0.9999991579206513],[0.0,0.9999992083020186],[1.0,0.999999077184124],[0.0,0.9999991350307136],[0.0,0.9999990818997806],[3.0,0.9999991165832146],[1.0,0.9999991981277149],[1.0,0.9999990388728891],[1.0,0.9999991296742731],[0.0,0.9999990708724961],[0.0,0.9999991325094159],[2.0,0.999999234637564],[0.0,0.9999992081045358],[2.0,0.9999992051434775],[1.0,0.9999991950935115],[2.0,0.9999990864224029],[0.0,0.9999990480707321],[2.0,0.9999990794214747],[2.0,0.999999061242925],[0.0,0.9999991910719809],[0.0,0.9999990880772165],[1.0,0.9999991396128088],[0.0,0.9999991859534858],[0.0,0.9999991615268172],[0.0,0.9999991174368089],[1.0,0.9999991819531081],[0.0,0.9999991447124137],[2.0,0.9999992111780036],[2.0,0.9999991472102139],[0.0,0.9999990497751875],[0.0,0.9999991548190519],[1.0,0.9999991260650769],[0.0,0.9999991631935775],[1.0,0.9999991121338819],[1.0,0.9999990852014313],[1.0,0.9999991424785708],[1.0,0.9999990848502135],[1.0,0.9999990960491363],[1.0,0.9999991650937587],[0.0,0.9999991175099828],[2.0,0.9999991178520448],[0.0,0.999999159316785],[2.0,0.9999991208526092],[2.0,0.9999991509404645]],\"hovertemplate\":\"noise=0.001<br>N=%{x}<br>tau=%{y}<br>beta_ind=%{customdata[0]}<br>r2=%{customdata[1]}<extra></extra>\",\"legendgroup\":\"0.001\",\"line\":{\"color\":\"#EF553B\",\"dash\":\"solid\"},\"marker\":{\"symbol\":\"circle\"},\"mode\":\"lines\",\"name\":\"0.001\",\"orientation\":\"v\",\"showlegend\":true,\"x\":[1,10,11,12,13,14,15,16,17,18,19,2,20,21,22,23,24,25,26,27,28,29,3,30,31,32,33,34,35,36,37,38,39,4,40,41,42,43,44,45,46,47,48,49,5,50,6,7,8,9],\"xaxis\":\"x\",\"y\":[4,50,4,19,33,6,47,3,32,3,47,33,14,8,49,33,48,10,3,31,35,49,17,25,50,1,20,46,36,45,38,39,44,34,44,34,17,32,29,2,34,18,44,5,3,49,9,3,49,8],\"yaxis\":\"y\",\"type\":\"scatter\"},{\"customdata\":[[4.0,0.9999267027515799],[2.0,0.999915745356148],[2.0,0.9999120233421313],[2.0,0.9999120126964596],[1.0,0.9999102684856127],[2.0,0.9999296880556463],[1.0,0.9999164377464596],[0.0,0.999910637834931],[0.0,0.9999092551068479],[1.0,0.9999144518864674],[2.0,0.9999181622671856],[3.0,0.9999165208236305],[0.0,0.9999162252478383],[1.0,0.9999131890127185],[0.0,0.9999108422577777],[0.0,0.9999104981224115],[0.0,0.9999091349449178],[1.0,0.999915606523243],[2.0,0.9999185109706671],[0.0,0.9999126088950332],[0.0,0.9999169544030332],[0.0,0.9999060441818938],[2.0,0.9999111351101801],[2.0,0.9999065531062951],[1.0,0.9999139017464699],[1.0,0.9999127550142748],[0.0,0.999914354592861],[1.0,0.9999143558665629],[2.0,0.9999084740070977],[0.0,0.9999088725684601],[0.0,0.9999149855131199],[1.0,0.9999185925301014],[0.0,0.9999250233783692],[1.0,0.9999158686265276],[0.0,0.9999155028802833],[0.0,0.9999134105967064],[1.0,0.9999161627170432],[0.0,0.9999104031306096],[0.0,0.9999249132206046],[0.0,0.9999106432319657],[2.0,0.9999298805126445],[0.0,0.9999123911687912],[1.0,0.9999174607564434],[1.0,0.9999135485708714],[0.0,0.9999169050183142],[0.0,0.9999120788481206],[1.0,0.999915397968203],[2.0,0.9999112789439826],[0.0,0.9999271017538924],[1.0,0.9999119566715585]],\"hovertemplate\":\"noise=0.01<br>N=%{x}<br>tau=%{y}<br>beta_ind=%{customdata[0]}<br>r2=%{customdata[1]}<extra></extra>\",\"legendgroup\":\"0.01\",\"line\":{\"color\":\"#00cc96\",\"dash\":\"solid\"},\"marker\":{\"symbol\":\"circle\"},\"mode\":\"lines\",\"name\":\"0.01\",\"orientation\":\"v\",\"showlegend\":true,\"x\":[1,10,11,12,13,14,15,16,17,18,19,2,20,21,22,23,24,25,26,27,28,29,3,30,31,32,33,34,35,36,37,38,39,4,40,41,42,43,44,45,46,47,48,49,5,50,6,7,8,9],\"xaxis\":\"x\",\"y\":[6,12,9,4,8,6,5,41,17,13,10,50,1,25,38,6,2,4,28,10,5,3,38,3,2,10,3,7,20,4,50,9,7,38,3,50,6,48,32,33,34,14,50,1,5,44,5,4,49,49],\"yaxis\":\"y\",\"type\":\"scatter\"},{\"customdata\":[[2.0,0.9921012620494493],[2.0,0.9928235931303206],[1.0,0.9912876854279753],[2.0,0.9913482764172591],[0.0,0.9921135326941151],[1.0,0.9919620419335177],[1.0,0.99120108054398],[1.0,0.9918078456381538],[2.0,0.9921447174431571],[1.0,0.9921832464078337],[3.0,0.9916369451708233],[3.0,0.9920156978333535],[1.0,0.9917370683725429],[2.0,0.9917547058705029],[1.0,0.9917472620537738],[1.0,0.9918922476952986],[3.0,0.9911783555053576],[1.0,0.9915872947458451],[2.0,0.9920799054871865],[0.0,0.9913758715317146],[1.0,0.9915517894729706],[2.0,0.9925425846656327],[1.0,0.9914592096972225],[1.0,0.9921086387340757],[3.0,0.9917448565204853],[2.0,0.9919944554599551],[12.0,0.9916192013333609],[7.0,0.9924664717321842],[11.0,0.9923952375359073],[10.0,0.9925940544650725],[9.0,0.9921184012385288],[8.0,0.9927779207532688],[11.0,0.9928267503075475],[0.0,0.9920240028812821],[8.0,0.9925303406658897],[10.0,0.9929816249878225],[9.0,0.9926410350477629],[8.0,0.9932845281923852],[8.0,0.9930114350769184],[8.0,0.9933755755514037],[8.0,0.9933007464258284],[7.0,0.9931157508374897],[8.0,0.993069202885732],[9.0,0.9932850943253594],[1.0,0.9914723953557283],[8.0,0.9933876117890335],[2.0,0.9913617111368823],[2.0,0.9914665741178773],[2.0,0.9925802921025436],[2.0,0.9915263263390875]],\"hovertemplate\":\"noise=0.1<br>N=%{x}<br>tau=%{y}<br>beta_ind=%{customdata[0]}<br>r2=%{customdata[1]}<extra></extra>\",\"legendgroup\":\"0.1\",\"line\":{\"color\":\"#ab63fa\",\"dash\":\"solid\"},\"marker\":{\"symbol\":\"circle\"},\"mode\":\"lines\",\"name\":\"0.1\",\"orientation\":\"v\",\"showlegend\":true,\"x\":[1,10,11,12,13,14,15,16,17,18,19,2,20,21,22,23,24,25,26,27,28,29,3,30,31,32,33,34,35,36,37,38,39,4,40,41,42,43,44,45,46,47,48,49,5,50,6,7,8,9],\"xaxis\":\"x\",\"y\":[14,47,15,1,17,35,27,36,18,39,11,46,50,23,36,34,11,8,3,25,20,50,50,33,18,5,16,18,16,17,17,21,17,37,19,22,19,22,19,21,24,19,21,22,47,21,1,13,11,38],\"yaxis\":\"y\",\"type\":\"scatter\"},{\"customdata\":[[16.0,0.8331925990306956],[12.0,0.9102000899411576],[12.0,0.9213014673637395],[10.0,0.9167386778019689],[14.0,0.9138202338397983],[17.0,0.9178999882310857],[18.0,0.9256538201146584],[14.0,0.9191219560697502],[18.0,0.9168097767528067],[15.0,0.9229830359527651],[17.0,0.9250255359609258],[8.0,0.8612530535639242],[18.0,0.9258272048942046],[18.0,0.9284934104766718],[9.0,0.9249840149591686],[19.0,0.9259114369677083],[14.0,0.9268261912713764],[16.0,0.9322839862555922],[10.0,0.9285011287376762],[12.0,0.9295371985538169],[19.0,0.9294025655455943],[14.0,0.927462529248296],[16.0,0.8638440734409689],[17.0,0.9320830249193299],[19.0,0.9307371824045215],[18.0,0.9312865215176446],[17.0,0.9332369376874861],[12.0,0.9354814973872813],[16.0,0.9257954540406327],[15.0,0.9297110798787417],[12.0,0.9294531500753617],[19.0,0.9272930338417089],[18.0,0.9322426989577404],[14.0,0.8720244706299267],[17.0,0.9364228794386051],[11.0,0.9319440350852304],[13.0,0.9337754647161915],[15.0,0.9275608239768576],[12.0,0.9390109325653616],[18.0,0.9287868900483913],[16.0,0.939961894825351],[17.0,0.9343281150206713],[12.0,0.9369485796548225],[14.0,0.9342112324794645],[16.0,0.8817232448371798],[13.0,0.936527363723389],[17.0,0.897468541446961],[19.0,0.9006247743781198],[19.0,0.9009738942148403],[18.0,0.9079952875695748]],\"hovertemplate\":\"noise=0.5<br>N=%{x}<br>tau=%{y}<br>beta_ind=%{customdata[0]}<br>r2=%{customdata[1]}<extra></extra>\",\"legendgroup\":\"0.5\",\"line\":{\"color\":\"#FFA15A\",\"dash\":\"solid\"},\"marker\":{\"symbol\":\"circle\"},\"mode\":\"lines\",\"name\":\"0.5\",\"orientation\":\"v\",\"showlegend\":true,\"x\":[1,10,11,12,13,14,15,16,17,18,19,2,20,21,22,23,24,25,26,27,28,29,3,30,31,32,33,34,35,36,37,38,39,4,40,41,42,43,44,45,46,47,48,49,5,50,6,7,8,9],\"xaxis\":\"x\",\"y\":[1,6,8,8,9,18,10,19,13,11,13,7,22,14,13,15,13,16,15,26,16,16,2,32,27,14,29,21,26,24,17,28,29,6,23,33,32,33,27,28,32,33,26,24,6,29,6,6,6,7],\"yaxis\":\"y\",\"type\":\"scatter\"},{\"customdata\":[[11.0,0.6534172092090627],[18.0,0.7774221650976132],[17.0,0.7859929825529202],[17.0,0.7709420864450179],[18.0,0.7899093210587329],[19.0,0.7954381902020398],[18.0,0.7711320934351265],[14.0,0.7761617297529694],[12.0,0.7571151850194805],[16.0,0.7935919658609595],[18.0,0.793001281581813],[17.0,0.6661730587335495],[14.0,0.7870479951693927],[14.0,0.7756534252573359],[9.0,0.8066937437481142],[16.0,0.8129205410975393],[18.0,0.801291061406499],[17.0,0.7958872347448692],[17.0,0.8071641976651128],[8.0,0.774106182268851],[16.0,0.7948580566475101],[16.0,0.795961204570926],[16.0,0.6648977079407233],[19.0,0.802970231088489],[16.0,0.8164899333207862],[15.0,0.7890581092308718],[18.0,0.8015360168226676],[17.0,0.8068704978858221],[13.0,0.8186445003501834],[14.0,0.7983979783870093],[19.0,0.8106735637753983],[10.0,0.8018256681027789],[10.0,0.789684194065688],[13.0,0.70687678980057],[13.0,0.7986342816112186],[17.0,0.7995661193631327],[18.0,0.8166778304265583],[18.0,0.8033344573512102],[14.0,0.8287606255816841],[13.0,0.7983438852811553],[19.0,0.8061192139607287],[12.0,0.8310954475035682],[19.0,0.8105239488098889],[16.0,0.8113088330924733],[18.0,0.7193176442341367],[15.0,0.8059195309504149],[15.0,0.7542151738392601],[10.0,0.7413345406782834],[12.0,0.748684097017386],[17.0,0.7466989432994942]],\"hovertemplate\":\"noise=1.0<br>N=%{x}<br>tau=%{y}<br>beta_ind=%{customdata[0]}<br>r2=%{customdata[1]}<extra></extra>\",\"legendgroup\":\"1.0\",\"line\":{\"color\":\"#19d3f3\",\"dash\":\"solid\"},\"marker\":{\"symbol\":\"circle\"},\"mode\":\"lines\",\"name\":\"1.0\",\"orientation\":\"v\",\"showlegend\":true,\"x\":[1,10,11,12,13,14,15,16,17,18,19,2,20,21,22,23,24,25,26,27,28,29,3,30,31,32,33,34,35,36,37,38,39,4,40,41,42,43,44,45,46,47,48,49,5,50,6,7,8,9],\"xaxis\":\"x\",\"y\":[29,24,13,25,20,17,24,21,27,30,18,13,31,41,36,21,17,28,13,44,16,27,4,31,50,23,31,40,28,13,21,42,28,31,50,32,40,25,47,28,49,42,25,30,10,50,13,18,12,16],\"yaxis\":\"y\",\"type\":\"scatter\"},{\"customdata\":[[14.0,0.304790708341777],[6.0,0.3568384615334025],[19.0,0.3287074642309318],[14.0,0.33904307767512887],[13.0,0.3716604687441035],[19.0,0.28850242990771746],[17.0,0.41745175491351416],[15.0,0.4976116848858161],[8.0,0.34383591792515],[10.0,0.45823343180326603],[12.0,0.3605603002968186],[10.0,0.3543395438364223],[12.0,0.41873981295507945],[8.0,0.3633785088666873],[15.0,0.36343672317702347],[19.0,0.3950330837166719],[13.0,0.36434949850950116],[15.0,0.4256204566921735],[9.0,0.3777851746783324],[13.0,0.36968919654880916],[18.0,0.4168905927013389],[8.0,0.3797198002909189],[18.0,0.26979401380749535],[19.0,0.34141291289621734],[18.0,0.3930172122778752],[19.0,0.4535792091826799],[14.0,0.4401370279291482],[15.0,0.41425444153020263],[9.0,0.4181446080608403],[14.0,0.47365904206234877],[10.0,0.42559388158175604],[13.0,0.46281661055786527],[16.0,0.3944724154805528],[19.0,0.30957277454966603],[9.0,0.35153489059963927],[6.0,0.4540006455573965],[7.0,0.4031042801750766],[14.0,0.37627630132046674],[6.0,0.4227494857079701],[16.0,0.4508302978602907],[17.0,0.4328262681292988],[18.0,0.4148317657387651],[18.0,0.42957780077249497],[16.0,0.4083441954729886],[16.0,0.31913678241457555],[17.0,0.4445786552402643],[10.0,0.3096076333709288],[12.0,0.38529162252909],[10.0,0.37423569483949337],[12.0,0.34777500855510723]],\"hovertemplate\":\"noise=3.0<br>N=%{x}<br>tau=%{y}<br>beta_ind=%{customdata[0]}<br>r2=%{customdata[1]}<extra></extra>\",\"legendgroup\":\"3.0\",\"line\":{\"color\":\"#FF6692\",\"dash\":\"solid\"},\"marker\":{\"symbol\":\"circle\"},\"mode\":\"lines\",\"name\":\"3.0\",\"orientation\":\"v\",\"showlegend\":true,\"x\":[1,10,11,12,13,14,15,16,17,18,19,2,20,21,22,23,24,25,26,27,28,29,3,30,31,32,33,34,35,36,37,38,39,4,40,41,42,43,44,45,46,47,48,49,5,50,6,7,8,9],\"xaxis\":\"x\",\"y\":[3,46,13,40,11,43,29,24,13,32,30,29,50,35,21,30,50,30,44,14,27,36,48,14,12,37,17,45,21,45,31,50,12,29,15,50,44,41,40,45,30,42,28,31,6,48,32,47,19,21],\"yaxis\":\"y\",\"type\":\"scatter\"},{\"customdata\":[[18.0,0.22497490030314804],[14.0,0.24152893732361025],[11.0,0.22777531964086362],[17.0,0.2997172239107031],[17.0,0.23711061256090082],[14.0,0.24294984859842206],[14.0,0.20757961628934907],[15.0,0.23065080227858514],[17.0,0.20522315377288003],[8.0,0.23136264502965975],[16.0,0.2187088239102708],[18.0,0.2725480212134982],[17.0,0.2401631603464094],[17.0,0.252551423230732],[10.0,0.2706222364874782],[14.0,0.25634604832926144],[7.0,0.20986616941825553],[8.0,0.205465358416134],[14.0,0.242245662011784],[14.0,0.23752122536265752],[9.0,0.23648663162809724],[12.0,0.2582117111532509],[9.0,0.2174340943757186],[19.0,0.28727199343749465],[10.0,0.309705848567316],[18.0,0.25187831855925746],[7.0,0.24773128074799144],[19.0,0.2255782908021191],[16.0,0.272620392306791],[17.0,0.23037520689097357],[14.0,0.26657071960932754],[18.0,0.25956364293227385],[19.0,0.24907049750318888],[14.0,0.21747822416849727],[18.0,0.26800869234446245],[10.0,0.2820768965351157],[7.0,0.3031291351151155],[10.0,0.275385559545391],[5.0,0.25545075719176513],[14.0,0.24418636393568993],[10.0,0.2957756816626246],[9.0,0.24912561589043314],[14.0,0.2554810782946636],[16.0,0.34464584104359686],[9.0,0.25873607677004595],[16.0,0.240596631712389],[7.0,0.20406248548306383],[8.0,0.23166055705580468],[14.0,0.28721591039158534],[9.0,0.2120260749541697]],\"hovertemplate\":\"noise=5.0<br>N=%{x}<br>tau=%{y}<br>beta_ind=%{customdata[0]}<br>r2=%{customdata[1]}<extra></extra>\",\"legendgroup\":\"5.0\",\"line\":{\"color\":\"#B6E880\",\"dash\":\"solid\"},\"marker\":{\"symbol\":\"circle\"},\"mode\":\"lines\",\"name\":\"5.0\",\"orientation\":\"v\",\"showlegend\":true,\"x\":[1,10,11,12,13,14,15,16,17,18,19,2,20,21,22,23,24,25,26,27,28,29,3,30,31,32,33,34,35,36,37,38,39,4,40,41,42,43,44,45,46,47,48,49,5,50,6,7,8,9],\"xaxis\":\"x\",\"y\":[31,43,43,25,41,20,16,47,45,30,39,29,45,50,48,32,50,45,13,48,50,32,22,20,16,50,31,44,32,19,34,49,35,12,49,50,35,16,36,50,32,44,30,49,45,50,22,24,46,13],\"yaxis\":\"y\",\"type\":\"scatter\"}],                        {\"template\":{\"data\":{\"bar\":[{\"error_x\":{\"color\":\"#2a3f5f\"},\"error_y\":{\"color\":\"#2a3f5f\"},\"marker\":{\"line\":{\"color\":\"#E5ECF6\",\"width\":0.5},\"pattern\":{\"fillmode\":\"overlay\",\"size\":10,\"solidity\":0.2}},\"type\":\"bar\"}],\"barpolar\":[{\"marker\":{\"line\":{\"color\":\"#E5ECF6\",\"width\":0.5},\"pattern\":{\"fillmode\":\"overlay\",\"size\":10,\"solidity\":0.2}},\"type\":\"barpolar\"}],\"carpet\":[{\"aaxis\":{\"endlinecolor\":\"#2a3f5f\",\"gridcolor\":\"white\",\"linecolor\":\"white\",\"minorgridcolor\":\"white\",\"startlinecolor\":\"#2a3f5f\"},\"baxis\":{\"endlinecolor\":\"#2a3f5f\",\"gridcolor\":\"white\",\"linecolor\":\"white\",\"minorgridcolor\":\"white\",\"startlinecolor\":\"#2a3f5f\"},\"type\":\"carpet\"}],\"choropleth\":[{\"colorbar\":{\"outlinewidth\":0,\"ticks\":\"\"},\"type\":\"choropleth\"}],\"contour\":[{\"colorbar\":{\"outlinewidth\":0,\"ticks\":\"\"},\"colorscale\":[[0.0,\"#0d0887\"],[0.1111111111111111,\"#46039f\"],[0.2222222222222222,\"#7201a8\"],[0.3333333333333333,\"#9c179e\"],[0.4444444444444444,\"#bd3786\"],[0.5555555555555556,\"#d8576b\"],[0.6666666666666666,\"#ed7953\"],[0.7777777777777778,\"#fb9f3a\"],[0.8888888888888888,\"#fdca26\"],[1.0,\"#f0f921\"]],\"type\":\"contour\"}],\"contourcarpet\":[{\"colorbar\":{\"outlinewidth\":0,\"ticks\":\"\"},\"type\":\"contourcarpet\"}],\"heatmap\":[{\"colorbar\":{\"outlinewidth\":0,\"ticks\":\"\"},\"colorscale\":[[0.0,\"#0d0887\"],[0.1111111111111111,\"#46039f\"],[0.2222222222222222,\"#7201a8\"],[0.3333333333333333,\"#9c179e\"],[0.4444444444444444,\"#bd3786\"],[0.5555555555555556,\"#d8576b\"],[0.6666666666666666,\"#ed7953\"],[0.7777777777777778,\"#fb9f3a\"],[0.8888888888888888,\"#fdca26\"],[1.0,\"#f0f921\"]],\"type\":\"heatmap\"}],\"heatmapgl\":[{\"colorbar\":{\"outlinewidth\":0,\"ticks\":\"\"},\"colorscale\":[[0.0,\"#0d0887\"],[0.1111111111111111,\"#46039f\"],[0.2222222222222222,\"#7201a8\"],[0.3333333333333333,\"#9c179e\"],[0.4444444444444444,\"#bd3786\"],[0.5555555555555556,\"#d8576b\"],[0.6666666666666666,\"#ed7953\"],[0.7777777777777778,\"#fb9f3a\"],[0.8888888888888888,\"#fdca26\"],[1.0,\"#f0f921\"]],\"type\":\"heatmapgl\"}],\"histogram\":[{\"marker\":{\"pattern\":{\"fillmode\":\"overlay\",\"size\":10,\"solidity\":0.2}},\"type\":\"histogram\"}],\"histogram2d\":[{\"colorbar\":{\"outlinewidth\":0,\"ticks\":\"\"},\"colorscale\":[[0.0,\"#0d0887\"],[0.1111111111111111,\"#46039f\"],[0.2222222222222222,\"#7201a8\"],[0.3333333333333333,\"#9c179e\"],[0.4444444444444444,\"#bd3786\"],[0.5555555555555556,\"#d8576b\"],[0.6666666666666666,\"#ed7953\"],[0.7777777777777778,\"#fb9f3a\"],[0.8888888888888888,\"#fdca26\"],[1.0,\"#f0f921\"]],\"type\":\"histogram2d\"}],\"histogram2dcontour\":[{\"colorbar\":{\"outlinewidth\":0,\"ticks\":\"\"},\"colorscale\":[[0.0,\"#0d0887\"],[0.1111111111111111,\"#46039f\"],[0.2222222222222222,\"#7201a8\"],[0.3333333333333333,\"#9c179e\"],[0.4444444444444444,\"#bd3786\"],[0.5555555555555556,\"#d8576b\"],[0.6666666666666666,\"#ed7953\"],[0.7777777777777778,\"#fb9f3a\"],[0.8888888888888888,\"#fdca26\"],[1.0,\"#f0f921\"]],\"type\":\"histogram2dcontour\"}],\"mesh3d\":[{\"colorbar\":{\"outlinewidth\":0,\"ticks\":\"\"},\"type\":\"mesh3d\"}],\"parcoords\":[{\"line\":{\"colorbar\":{\"outlinewidth\":0,\"ticks\":\"\"}},\"type\":\"parcoords\"}],\"pie\":[{\"automargin\":true,\"type\":\"pie\"}],\"scatter\":[{\"marker\":{\"colorbar\":{\"outlinewidth\":0,\"ticks\":\"\"}},\"type\":\"scatter\"}],\"scatter3d\":[{\"line\":{\"colorbar\":{\"outlinewidth\":0,\"ticks\":\"\"}},\"marker\":{\"colorbar\":{\"outlinewidth\":0,\"ticks\":\"\"}},\"type\":\"scatter3d\"}],\"scattercarpet\":[{\"marker\":{\"colorbar\":{\"outlinewidth\":0,\"ticks\":\"\"}},\"type\":\"scattercarpet\"}],\"scattergeo\":[{\"marker\":{\"colorbar\":{\"outlinewidth\":0,\"ticks\":\"\"}},\"type\":\"scattergeo\"}],\"scattergl\":[{\"marker\":{\"colorbar\":{\"outlinewidth\":0,\"ticks\":\"\"}},\"type\":\"scattergl\"}],\"scattermapbox\":[{\"marker\":{\"colorbar\":{\"outlinewidth\":0,\"ticks\":\"\"}},\"type\":\"scattermapbox\"}],\"scatterpolar\":[{\"marker\":{\"colorbar\":{\"outlinewidth\":0,\"ticks\":\"\"}},\"type\":\"scatterpolar\"}],\"scatterpolargl\":[{\"marker\":{\"colorbar\":{\"outlinewidth\":0,\"ticks\":\"\"}},\"type\":\"scatterpolargl\"}],\"scatterternary\":[{\"marker\":{\"colorbar\":{\"outlinewidth\":0,\"ticks\":\"\"}},\"type\":\"scatterternary\"}],\"surface\":[{\"colorbar\":{\"outlinewidth\":0,\"ticks\":\"\"},\"colorscale\":[[0.0,\"#0d0887\"],[0.1111111111111111,\"#46039f\"],[0.2222222222222222,\"#7201a8\"],[0.3333333333333333,\"#9c179e\"],[0.4444444444444444,\"#bd3786\"],[0.5555555555555556,\"#d8576b\"],[0.6666666666666666,\"#ed7953\"],[0.7777777777777778,\"#fb9f3a\"],[0.8888888888888888,\"#fdca26\"],[1.0,\"#f0f921\"]],\"type\":\"surface\"}],\"table\":[{\"cells\":{\"fill\":{\"color\":\"#EBF0F8\"},\"line\":{\"color\":\"white\"}},\"header\":{\"fill\":{\"color\":\"#C8D4E3\"},\"line\":{\"color\":\"white\"}},\"type\":\"table\"}]},\"layout\":{\"annotationdefaults\":{\"arrowcolor\":\"#2a3f5f\",\"arrowhead\":0,\"arrowwidth\":1},\"autotypenumbers\":\"strict\",\"coloraxis\":{\"colorbar\":{\"outlinewidth\":0,\"ticks\":\"\"}},\"colorscale\":{\"diverging\":[[0,\"#8e0152\"],[0.1,\"#c51b7d\"],[0.2,\"#de77ae\"],[0.3,\"#f1b6da\"],[0.4,\"#fde0ef\"],[0.5,\"#f7f7f7\"],[0.6,\"#e6f5d0\"],[0.7,\"#b8e186\"],[0.8,\"#7fbc41\"],[0.9,\"#4d9221\"],[1,\"#276419\"]],\"sequential\":[[0.0,\"#0d0887\"],[0.1111111111111111,\"#46039f\"],[0.2222222222222222,\"#7201a8\"],[0.3333333333333333,\"#9c179e\"],[0.4444444444444444,\"#bd3786\"],[0.5555555555555556,\"#d8576b\"],[0.6666666666666666,\"#ed7953\"],[0.7777777777777778,\"#fb9f3a\"],[0.8888888888888888,\"#fdca26\"],[1.0,\"#f0f921\"]],\"sequentialminus\":[[0.0,\"#0d0887\"],[0.1111111111111111,\"#46039f\"],[0.2222222222222222,\"#7201a8\"],[0.3333333333333333,\"#9c179e\"],[0.4444444444444444,\"#bd3786\"],[0.5555555555555556,\"#d8576b\"],[0.6666666666666666,\"#ed7953\"],[0.7777777777777778,\"#fb9f3a\"],[0.8888888888888888,\"#fdca26\"],[1.0,\"#f0f921\"]]},\"colorway\":[\"#636efa\",\"#EF553B\",\"#00cc96\",\"#ab63fa\",\"#FFA15A\",\"#19d3f3\",\"#FF6692\",\"#B6E880\",\"#FF97FF\",\"#FECB52\"],\"font\":{\"color\":\"#2a3f5f\"},\"geo\":{\"bgcolor\":\"white\",\"lakecolor\":\"white\",\"landcolor\":\"#E5ECF6\",\"showlakes\":true,\"showland\":true,\"subunitcolor\":\"white\"},\"hoverlabel\":{\"align\":\"left\"},\"hovermode\":\"closest\",\"mapbox\":{\"style\":\"light\"},\"paper_bgcolor\":\"white\",\"plot_bgcolor\":\"#E5ECF6\",\"polar\":{\"angularaxis\":{\"gridcolor\":\"white\",\"linecolor\":\"white\",\"ticks\":\"\"},\"bgcolor\":\"#E5ECF6\",\"radialaxis\":{\"gridcolor\":\"white\",\"linecolor\":\"white\",\"ticks\":\"\"}},\"scene\":{\"xaxis\":{\"backgroundcolor\":\"#E5ECF6\",\"gridcolor\":\"white\",\"gridwidth\":2,\"linecolor\":\"white\",\"showbackground\":true,\"ticks\":\"\",\"zerolinecolor\":\"white\"},\"yaxis\":{\"backgroundcolor\":\"#E5ECF6\",\"gridcolor\":\"white\",\"gridwidth\":2,\"linecolor\":\"white\",\"showbackground\":true,\"ticks\":\"\",\"zerolinecolor\":\"white\"},\"zaxis\":{\"backgroundcolor\":\"#E5ECF6\",\"gridcolor\":\"white\",\"gridwidth\":2,\"linecolor\":\"white\",\"showbackground\":true,\"ticks\":\"\",\"zerolinecolor\":\"white\"}},\"shapedefaults\":{\"line\":{\"color\":\"#2a3f5f\"}},\"ternary\":{\"aaxis\":{\"gridcolor\":\"white\",\"linecolor\":\"white\",\"ticks\":\"\"},\"baxis\":{\"gridcolor\":\"white\",\"linecolor\":\"white\",\"ticks\":\"\"},\"bgcolor\":\"#E5ECF6\",\"caxis\":{\"gridcolor\":\"white\",\"linecolor\":\"white\",\"ticks\":\"\"}},\"title\":{\"x\":0.05},\"xaxis\":{\"automargin\":true,\"gridcolor\":\"white\",\"linecolor\":\"white\",\"ticks\":\"\",\"title\":{\"standoff\":15},\"zerolinecolor\":\"white\",\"zerolinewidth\":2},\"yaxis\":{\"automargin\":true,\"gridcolor\":\"white\",\"linecolor\":\"white\",\"ticks\":\"\",\"title\":{\"standoff\":15},\"zerolinecolor\":\"white\",\"zerolinewidth\":2}}},\"xaxis\":{\"anchor\":\"y\",\"domain\":[0.0,1.0],\"title\":{\"text\":\"N\"}},\"yaxis\":{\"anchor\":\"x\",\"domain\":[0.0,1.0],\"title\":{\"text\":\"tau\"}},\"legend\":{\"title\":{\"text\":\"noise\"},\"tracegroupgap\":0},\"title\":{\"text\":\"N vs tau by different noise levels\"}},                        {\"responsive\": true}                    ).then(function(){\n",
       "                            \n",
       "var gd = document.getElementById('b4ae716e-4b4d-44ad-883e-49f7ab165fbd');\n",
       "var x = new MutationObserver(function (mutations, observer) {{\n",
       "        var display = window.getComputedStyle(gd).display;\n",
       "        if (!display || display === 'none') {{\n",
       "            console.log([gd, 'removed!']);\n",
       "            Plotly.purge(gd);\n",
       "            observer.disconnect();\n",
       "        }}\n",
       "}});\n",
       "\n",
       "// Listen for the removal of the full notebook cells\n",
       "var notebookContainer = gd.closest('#notebook-container');\n",
       "if (notebookContainer) {{\n",
       "    x.observe(notebookContainer, {childList: true});\n",
       "}}\n",
       "\n",
       "// Listen for the clearing of the current output cell\n",
       "var outputEl = gd.closest('.output');\n",
       "if (outputEl) {{\n",
       "    x.observe(outputEl, {childList: true});\n",
       "}}\n",
       "\n",
       "                        })                };                });            </script>        </div>"
      ]
     },
     "metadata": {},
     "output_type": "display_data"
    },
    {
     "data": {
      "image/png": "[encoded data removed]",
      "text/plain": [
       "<Figure size 1080x360 with 2 Axes>"
      ]
     },
     "metadata": {
      "needs_background": "light"
     },
     "output_type": "display_data"
    }
   ],
   "source": [
    "# plotly\n",
    "fig = px.line(data_frame=df_result, x=\"N\", y=\"tau\", color=\"noise\", hover_data=[\"beta_ind\", \"r2\"],\n",
    "#            size=\"beta_ind\",\n",
    "#            trendline=\"ols\",\n",
    "                title=\"N vs tau by different noise levels\")\n",
    "fig.show()\n",
    "\n",
    "# matplotlib\n",
    "df_result.plot(kind=\"scatter\", x=\"N\", y=\"tau\", c=\"noise\", cmap=\"viridis\", \n",
    "               figsize=(15,5), title=\"N vs tau by different noise levels\");"
   ]
  },
  {
   "cell_type": "code",
   "execution_count": 7,
   "metadata": {
    "ExecuteTime": {
     "end_time": "2022-08-24T18:07:46.570203Z",
     "start_time": "2022-08-24T18:07:46.482313Z"
    }
   },
   "outputs": [],
   "source": [
    "# save plotly\n",
    "os.makedirs(\"../data/weighted_r2/plots\", exist_ok=True)\n",
    "fig.write_html(\"../data/weighted_r2/plots/N_tau_relationship.html\")"
   ]
  },
  {
   "cell_type": "markdown",
   "metadata": {},
   "source": [
    "### How to Report Results"
   ]
  },
  {
   "cell_type": "code",
   "execution_count": 11,
   "metadata": {
    "ExecuteTime": {
     "end_time": "2022-08-24T18:08:47.728965Z",
     "start_time": "2022-08-24T18:08:47.712947Z"
    }
   },
   "outputs": [],
   "source": [
    "from statsmodels.api import OLS, add_constant"
   ]
  },
  {
   "cell_type": "code",
   "execution_count": 9,
   "metadata": {
    "ExecuteTime": {
     "end_time": "2022-08-24T18:07:52.032458Z",
     "start_time": "2022-08-24T18:07:51.999462Z"
    }
   },
   "outputs": [],
   "source": [
    "df_best_no_noise = df.loc[df.loc[(df['noise']==0) & (df['beta_ind'] != 0)].groupby(\"N\")['r2'].idxmax(), [\"N\",\"tau\"]].reset_index(drop=True)"
   ]
  },
  {
   "cell_type": "code",
   "execution_count": 12,
   "metadata": {
    "ExecuteTime": {
     "end_time": "2022-08-24T18:08:56.997669Z",
     "start_time": "2022-08-24T18:08:56.974676Z"
    }
   },
   "outputs": [],
   "source": [
    "X = df_best_no_noise[\"N\"]\n",
    "y = df_best_no_noise['tau']\n",
    "reg = OLS(y, add_constant(X)).fit()"
   ]
  },
  {
   "cell_type": "code",
   "execution_count": 20,
   "metadata": {
    "ExecuteTime": {
     "end_time": "2022-08-24T16:53:42.935164Z",
     "start_time": "2022-08-24T16:53:42.895159Z"
    }
   },
   "outputs": [],
   "source": [
    "# reg = LinearRegression().fit(df_best_no_noise['N'].values.reshape(-1, 1), df_best_no_noise['tau'].values.reshape(-1, 1))"
   ]
  },
  {
   "cell_type": "code",
   "execution_count": 13,
   "metadata": {
    "ExecuteTime": {
     "end_time": "2022-08-24T18:09:18.064945Z",
     "start_time": "2022-08-24T18:09:18.046968Z"
    }
   },
   "outputs": [],
   "source": [
    "df_best_no_noise['least_squares_tau'] = reg.predict()"
   ]
  },
  {
   "cell_type": "code",
   "execution_count": 39,
   "metadata": {
    "ExecuteTime": {
     "end_time": "2022-08-24T18:31:50.443672Z",
     "start_time": "2022-08-24T18:31:50.141658Z"
    }
   },
   "outputs": [
    {
     "name": "stdout",
     "output_type": "stream",
     "text": [
      "Simulation Results (noise=0 and beta_ind != 0):\n",
      "tau = 0.24873949579831944 * N + 1.6171428571428534\n"
     ]
    },
    {
     "data": {
      "image/png": "[encoded data removed]",
      "text/plain": [
       "<Figure size 432x288 with 1 Axes>"
      ]
     },
     "metadata": {
      "needs_background": "light"
     },
     "output_type": "display_data"
    }
   ],
   "source": [
    "import matplotlib.pyplot as plt\n",
    "print(\"Simulation Results (noise=0 and beta_ind != 0):\")\n",
    "print(f\"tau = {reg.params['N']} * N + {reg.params['const']}\")\n",
    "plt.scatter(df_best_no_noise.index, df_best_no_noise['tau'], label=\"fitted_tau\")\n",
    "plt.plot(df_best_no_noise['least_squares_tau'], c='tab:orange', label=\"regression line\")\n",
    "plt.xlabel(\"N\")\n",
    "plt.ylabel(\"tau\")\n",
    "plt.legend()\n",
    "plt.title(\"Relationship of parameters N (IB) tau (Decay)\");\n",
    "# df_best_no_noise.set_index('N').plot();"
   ]
  },
  {
   "cell_type": "code",
   "execution_count": 37,
   "metadata": {
    "ExecuteTime": {
     "end_time": "2022-08-24T18:24:54.901173Z",
     "start_time": "2022-08-24T18:24:54.891175Z"
    }
   },
   "outputs": [
    {
     "data": {
      "text/plain": [
       "3.687368534227035e-18"
      ]
     },
     "execution_count": 37,
     "metadata": {},
     "output_type": "execute_result"
    }
   ],
   "source": [
    "reg.f_pvalue"
   ]
  },
  {
   "cell_type": "code",
   "execution_count": 26,
   "metadata": {
    "ExecuteTime": {
     "end_time": "2022-08-24T18:16:59.070587Z",
     "start_time": "2022-08-24T18:16:59.039338Z"
    }
   },
   "outputs": [
    {
     "data": {
      "text/html": [
       "<table class=\"simpletable\">\n",
       "<caption>OLS Regression Results</caption>\n",
       "<tr>\n",
       "  <th>Dep. Variable:</th>           <td>tau</td>       <th>  R-squared:         </th> <td>   0.795</td>\n",
       "</tr>\n",
       "<tr>\n",
       "  <th>Model:</th>                   <td>OLS</td>       <th>  Adj. R-squared:    </th> <td>   0.791</td>\n",
       "</tr>\n",
       "<tr>\n",
       "  <th>Method:</th>             <td>Least Squares</td>  <th>  F-statistic:       </th> <td>   186.6</td>\n",
       "</tr>\n",
       "<tr>\n",
       "  <th>Date:</th>             <td>Wed, 24 Aug 2022</td> <th>  Prob (F-statistic):</th> <td>3.69e-18</td>\n",
       "</tr>\n",
       "<tr>\n",
       "  <th>Time:</th>                 <td>21:16:59</td>     <th>  Log-Likelihood:    </th> <td> -100.90</td>\n",
       "</tr>\n",
       "<tr>\n",
       "  <th>No. Observations:</th>      <td>    50</td>      <th>  AIC:               </th> <td>   205.8</td>\n",
       "</tr>\n",
       "<tr>\n",
       "  <th>Df Residuals:</th>          <td>    48</td>      <th>  BIC:               </th> <td>   209.6</td>\n",
       "</tr>\n",
       "<tr>\n",
       "  <th>Df Model:</th>              <td>     1</td>      <th>                     </th>     <td> </td>   \n",
       "</tr>\n",
       "<tr>\n",
       "  <th>Covariance Type:</th>      <td>nonrobust</td>    <th>                     </th>     <td> </td>   \n",
       "</tr>\n",
       "</table>\n",
       "<table class=\"simpletable\">\n",
       "<tr>\n",
       "    <td></td>       <th>coef</th>     <th>std err</th>      <th>t</th>      <th>P>|t|</th>  <th>[0.025</th>    <th>0.975]</th>  \n",
       "</tr>\n",
       "<tr>\n",
       "  <th>const</th> <td>    1.6171</td> <td>    0.533</td> <td>    3.031</td> <td> 0.004</td> <td>    0.545</td> <td>    2.690</td>\n",
       "</tr>\n",
       "<tr>\n",
       "  <th>N</th>     <td>    0.2487</td> <td>    0.018</td> <td>   13.662</td> <td> 0.000</td> <td>    0.212</td> <td>    0.285</td>\n",
       "</tr>\n",
       "</table>\n",
       "<table class=\"simpletable\">\n",
       "<tr>\n",
       "  <th>Omnibus:</th>       <td> 8.156</td> <th>  Durbin-Watson:     </th> <td>   0.622</td>\n",
       "</tr>\n",
       "<tr>\n",
       "  <th>Prob(Omnibus):</th> <td> 0.017</td> <th>  Jarque-Bera (JB):  </th> <td>   8.003</td>\n",
       "</tr>\n",
       "<tr>\n",
       "  <th>Skew:</th>          <td> 0.978</td> <th>  Prob(JB):          </th> <td>  0.0183</td>\n",
       "</tr>\n",
       "<tr>\n",
       "  <th>Kurtosis:</th>      <td> 3.138</td> <th>  Cond. No.          </th> <td>    59.5</td>\n",
       "</tr>\n",
       "</table><br/><br/>Notes:<br/>[1] Standard Errors assume that the covariance matrix of the errors is correctly specified."
      ],
      "text/plain": [
       "<class 'statsmodels.iolib.summary.Summary'>\n",
       "\"\"\"\n",
       "                            OLS Regression Results                            \n",
       "==============================================================================\n",
       "Dep. Variable:                    tau   R-squared:                       0.795\n",
       "Model:                            OLS   Adj. R-squared:                  0.791\n",
       "Method:                 Least Squares   F-statistic:                     186.6\n",
       "Date:                Wed, 24 Aug 2022   Prob (F-statistic):           3.69e-18\n",
       "Time:                        21:16:59   Log-Likelihood:                -100.90\n",
       "No. Observations:                  50   AIC:                             205.8\n",
       "Df Residuals:                      48   BIC:                             209.6\n",
       "Df Model:                           1                                         \n",
       "Covariance Type:            nonrobust                                         \n",
       "==============================================================================\n",
       "                 coef    std err          t      P>|t|      [0.025      0.975]\n",
       "------------------------------------------------------------------------------\n",
       "const          1.6171      0.533      3.031      0.004       0.545       2.690\n",
       "N              0.2487      0.018     13.662      0.000       0.212       0.285\n",
       "==============================================================================\n",
       "Omnibus:                        8.156   Durbin-Watson:                   0.622\n",
       "Prob(Omnibus):                  0.017   Jarque-Bera (JB):                8.003\n",
       "Skew:                           0.978   Prob(JB):                       0.0183\n",
       "Kurtosis:                       3.138   Cond. No.                         59.5\n",
       "==============================================================================\n",
       "\n",
       "Notes:\n",
       "[1] Standard Errors assume that the covariance matrix of the errors is correctly specified.\n",
       "\"\"\""
      ]
     },
     "execution_count": 26,
     "metadata": {},
     "output_type": "execute_result"
    }
   ],
   "source": [
    "reg.summary()"
   ]
  },
  {
   "cell_type": "code",
   "execution_count": null,
   "metadata": {},
   "outputs": [],
   "source": []
  }
 ],
 "metadata": {
  "kernelspec": {
   "display_name": "Python 3",
   "language": "python",
   "name": "python3"
  },
  "language_info": {
   "codemirror_mode": {
    "name": "ipython",
    "version": 3
   },
   "file_extension": ".py",
   "mimetype": "text/x-python",
   "name": "python",
   "nbconvert_exporter": "python",
   "pygments_lexer": "ipython3",
   "version": "3.8.5"
  },
  "toc": {
   "base_numbering": 1,
   "nav_menu": {},
   "number_sections": true,
   "sideBar": true,
   "skip_h1_title": false,
   "title_cell": "Table of Contents",
   "title_sidebar": "Contents",
   "toc_cell": false,
   "toc_position": {},
   "toc_section_display": true,
   "toc_window_display": false
  }
 },
 "nbformat": 4,
 "nbformat_minor": 4
}
