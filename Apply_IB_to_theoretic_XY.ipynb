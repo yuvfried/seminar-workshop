{
 "cells": [
  {
   "cell_type": "code",
   "execution_count": 1,
   "metadata": {},
   "outputs": [],
   "source": [
    "import numpy as np\n",
    "import matplotlib.pyplot as plt\n",
    "from scipy.stats import entropy\n",
    "import pandas as pd\n",
    "import swifter\n",
    "from information_bottleneck import IB"
   ]
  },
  {
   "cell_type": "code",
   "execution_count": 2,
   "metadata": {},
   "outputs": [],
   "source": [
    "X_HAT_STR = \"X\\u0302\"\n",
    "BETA = \"\\u03B2\""
   ]
  },
  {
   "cell_type": "markdown",
   "metadata": {},
   "source": [
    "### P(X=x, Y=y) in the Experiment Setup\n",
    "Assume apriory unfirom distribution to the oddball chance, these are the probabilies for the joint distribution of X and Y:\\\n",
    "P(Yt+1 = 0, Xt = n) = (N-n+1) / ((N+2)(N+1))"
   ]
  },
  {
   "attachments": {
    "image.png": {
     "image/png": "[encoded data removed]"
    }
   },
   "cell_type": "markdown",
   "metadata": {},
   "source": [
    "![image.png](attachment:image.png)"
   ]
  },
  {
   "cell_type": "code",
   "execution_count": 3,
   "metadata": {},
   "outputs": [],
   "source": [
    "def calculate_pXY(N):\n",
    "    pXY0 = [N-n+1 for n in range(N+1)]\n",
    "    pXY1 = [n+1 for n in range(N+1)]\n",
    "    denominator = (N+1)*(N+2)\n",
    "    pXY = np.column_stack([pXY0,pXY1])/denominator\n",
    "    return pXY\n",
    "\n",
    "def init_pXhat_X(N):\n",
    "    return np.eye(N+1)\n",
    "\n",
    "def time_print(msg):\n",
    "    print(pd.Timestamp.now().strftime('%Y-%m-%d %X'), msg)\n",
    "\n",
    "Ns = np.arange(1,50+1)\n",
    "betas = np.logspace(2,0, base=10, num=len(Ns))\n",
    "\n",
    "out_vals = [\"p(Xhat|X)\",\"p(Y|Xhat)\",\"I(Xhat;X)\",\"I(Xhat;Y)\"]\n",
    "d_results = {N:dict(zip(betas, [None]*len(betas)))for N in Ns}"
   ]
  },
  {
   "cell_type": "markdown",
   "metadata": {},
   "source": [
    "### Calculate Results of IB method and Model Surprise Predictor"
   ]
  },
  {
   "attachments": {
    "image.png": {
     "image/png": "[encoded data removed]"
    }
   },
   "cell_type": "markdown",
   "metadata": {},
   "source": [
    "![image.png](attachment:image.png)"
   ]
  },
  {
   "cell_type": "code",
   "execution_count": 4,
   "metadata": {},
   "outputs": [
    {
     "name": "stdout",
     "output_type": "stream",
     "text": [
      "2021-11-07 11:37:43 ---------- N = 1 ----------\n",
      "2021-11-07 11:37:43 ---------- N = 2 ----------\n",
      "2021-11-07 11:37:44 ---------- N = 3 ----------\n",
      "2021-11-07 11:37:44 ---------- N = 4 ----------\n",
      "2021-11-07 11:37:45 ---------- N = 5 ----------\n",
      "2021-11-07 11:37:46 ---------- N = 6 ----------\n",
      "2021-11-07 11:37:48 ---------- N = 7 ----------\n",
      "2021-11-07 11:37:50 ---------- N = 8 ----------\n",
      "2021-11-07 11:37:52 ---------- N = 9 ----------\n",
      "2021-11-07 11:37:56 ---------- N = 10 ----------\n",
      "2021-11-07 11:37:59 ---------- N = 11 ----------\n",
      "2021-11-07 11:38:03 ---------- N = 12 ----------\n",
      "2021-11-07 11:38:08 ---------- N = 13 ----------\n",
      "2021-11-07 11:38:13 ---------- N = 14 ----------\n",
      "2021-11-07 11:38:20 ---------- N = 15 ----------\n",
      "2021-11-07 11:38:28 ---------- N = 16 ----------\n",
      "2021-11-07 11:38:39 ---------- N = 17 ----------\n",
      "2021-11-07 11:38:51 ---------- N = 18 ----------\n",
      "2021-11-07 11:39:06 ---------- N = 19 ----------\n",
      "2021-11-07 11:39:19 ---------- N = 20 ----------\n",
      "2021-11-07 11:39:33 ---------- N = 21 ----------\n",
      "2021-11-07 11:39:50 ---------- N = 22 ----------\n",
      "2021-11-07 11:40:07 ---------- N = 23 ----------\n",
      "2021-11-07 11:40:26 ---------- N = 24 ----------\n",
      "2021-11-07 11:40:43 ---------- N = 25 ----------\n",
      "2021-11-07 11:41:01 ---------- N = 26 ----------\n",
      "2021-11-07 11:41:21 ---------- N = 27 ----------\n",
      "2021-11-07 11:41:42 ---------- N = 28 ----------\n",
      "2021-11-07 11:42:07 ---------- N = 29 ----------\n",
      "2021-11-07 11:42:33 ---------- N = 30 ----------\n",
      "2021-11-07 11:42:58 ---------- N = 31 ----------\n",
      "2021-11-07 11:43:29 ---------- N = 32 ----------\n",
      "2021-11-07 11:43:59 ---------- N = 33 ----------\n",
      "2021-11-07 11:44:30 ---------- N = 34 ----------\n",
      "2021-11-07 11:45:00 ---------- N = 35 ----------\n",
      "2021-11-07 11:45:35 ---------- N = 36 ----------\n",
      "2021-11-07 11:46:11 ---------- N = 37 ----------\n",
      "2021-11-07 11:46:50 ---------- N = 38 ----------\n",
      "2021-11-07 11:47:34 ---------- N = 39 ----------\n",
      "2021-11-07 11:48:18 ---------- N = 40 ----------\n",
      "2021-11-07 11:49:06 ---------- N = 41 ----------\n",
      "2021-11-07 11:49:52 ---------- N = 42 ----------\n",
      "2021-11-07 11:50:43 ---------- N = 43 ----------\n",
      "2021-11-07 11:51:35 ---------- N = 44 ----------\n",
      "2021-11-07 11:52:28 ---------- N = 45 ----------\n",
      "2021-11-07 11:53:25 ---------- N = 46 ----------\n",
      "2021-11-07 11:54:24 ---------- N = 47 ----------\n",
      "2021-11-07 11:55:28 ---------- N = 48 ----------\n",
      "2021-11-07 11:56:54 ---------- N = 49 ----------\n",
      "2021-11-07 11:58:15 ---------- N = 50 ----------\n"
     ]
    }
   ],
   "source": [
    "for N in d_results.keys():\n",
    "    time_print(\"-\"*10+f\" N = {N} \"+\"-\"*10)\n",
    "    for beta in d_results[N].keys():\n",
    "        d_results[N][beta] = IB(calculate_pXY(N),beta,init_pXhat_X(N))\n",
    "        pXhat_X = d_results[N][beta][\"p(Xhat|X)\"]\n",
    "        pY_Xhat = d_results[N][beta][\"p(Y|Xhat)\"]\n",
    "        d_results[N][beta][\"surprise\"] = -np.log2(pY_Xhat) @ pXhat_X"
   ]
  },
  {
   "cell_type": "code",
   "execution_count": 5,
   "metadata": {},
   "outputs": [],
   "source": [
    "# unpacking\n",
    "df_results = pd.DataFrame.from_dict(d_results, orient='index')\n",
    "df_mi_compression = df_results.applymap(lambda d: d[\"I(Xhat;X)\"])\n",
    "df_mi_accuracy = df_results.applymap(lambda d: d[\"I(Xhat;Y)\"])\n",
    "df_pXhat_X = df_results.applymap(lambda d: d[\"p(Xhat|X)\"])\n",
    "df_pY_Xhat = df_results.applymap(lambda d: d[\"p(Y|Xhat)\"])\n",
    "df_surprise = df_results.applymap(lambda d: d[\"surprise\"])\n",
    "\n",
    "# saving\n",
    "df_mi_compression.to_pickle(\"df_mi_compression.pkl\")\n",
    "df_mi_accuracy.to_pickle(\"df_mi_accuracy.pkl\")\n",
    "df_pXhat_X.to_pickle(\"df_pXhat_X.pkl\")\n",
    "df_pY_Xhat.to_pickle(\"df_pY_Xhat.pkl\")\n",
    "df_surprise.to_pickle(\"df_surprise.pkl"
   ]
  }
 ],
 "metadata": {
  "kernelspec": {
   "display_name": "Python 3",
   "language": "python",
   "name": "python3"
  },
  "language_info": {
   "codemirror_mode": {
    "name": "ipython",
    "version": 3
   },
   "file_extension": ".py",
   "mimetype": "text/x-python",
   "name": "python",
   "nbconvert_exporter": "python",
   "pygments_lexer": "ipython3",
   "version": "3.8.5"
  }
 },
 "nbformat": 4,
 "nbformat_minor": 4
}
